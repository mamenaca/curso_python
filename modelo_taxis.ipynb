{
  "cells": [
    {
      "cell_type": "markdown",
      "metadata": {
        "id": "view-in-github",
        "colab_type": "text"
      },
      "source": [
        "<a href=\"https://colab.research.google.com/github/mamenaca/curso_python/blob/main/modelo_taxis.ipynb\" target=\"_parent\"><img src=\"https://colab.research.google.com/assets/colab-badge.svg\" alt=\"Open In Colab\"/></a>"
      ]
    },
    {
      "cell_type": "markdown",
      "source": [
        "#PAQUETES REQUERIDOS"
      ],
      "metadata": {
        "id": "NTWBkpddHqtj"
      },
      "id": "NTWBkpddHqtj"
    },
    {
      "cell_type": "code",
      "source": [
        "%%capture\n",
        "!pip install ipympl\n"
      ],
      "metadata": {
        "id": "qBXkuETEoo2s"
      },
      "id": "qBXkuETEoo2s",
      "execution_count": 1,
      "outputs": []
    },
    {
      "cell_type": "code",
      "source": [
        "%matplotlib ipympl"
      ],
      "metadata": {
        "id": "NoZPMqXQrrk1"
      },
      "id": "NoZPMqXQrrk1",
      "execution_count": 2,
      "outputs": []
    },
    {
      "cell_type": "code",
      "execution_count": 3,
      "id": "optimum-satisfaction",
      "metadata": {
        "id": "optimum-satisfaction"
      },
      "outputs": [],
      "source": [
        "import pandas as pd\n",
        "import numpy as np\n",
        "import matplotlib \n",
        "from matplotlib import pyplot as plt\n",
        "from matplotlib.pyplot import figure\n",
        "import copy\n",
        "import statsmodels.api as sm\n",
        "from statsmodels.stats.outliers_influence import summary_table\n",
        "from itertools import cycle"
      ]
    },
    {
      "cell_type": "code",
      "source": [
        "%%capture\n",
        "!pip install pmdarima\n"
      ],
      "metadata": {
        "id": "NRTJOyxAFTqC"
      },
      "id": "NRTJOyxAFTqC",
      "execution_count": 4,
      "outputs": []
    },
    {
      "cell_type": "code",
      "execution_count": 5,
      "id": "nearby-infrastructure",
      "metadata": {
        "scrolled": false,
        "id": "nearby-infrastructure"
      },
      "outputs": [],
      "source": [
        "from pmdarima.arima import auto_arima\n",
        "import datetime\n"
      ]
    },
    {
      "cell_type": "code",
      "source": [
        "from pmdarima.arima import ADFTest\n",
        "from pmdarima import utils"
      ],
      "metadata": {
        "id": "KEjywYKMIYlg"
      },
      "id": "KEjywYKMIYlg",
      "execution_count": 6,
      "outputs": []
    },
    {
      "cell_type": "code",
      "source": [
        "#from google.colab import output\n",
        "#output.enable_custom_widget_manager()"
      ],
      "metadata": {
        "id": "Voe1iUH4uA7h"
      },
      "id": "Voe1iUH4uA7h",
      "execution_count": 7,
      "outputs": []
    },
    {
      "cell_type": "code",
      "source": [],
      "metadata": {
        "id": "Y_CNiK8xjqkX"
      },
      "id": "Y_CNiK8xjqkX",
      "execution_count": 7,
      "outputs": []
    },
    {
      "cell_type": "markdown",
      "id": "shaped-document",
      "metadata": {
        "id": "shaped-document"
      },
      "source": [
        "Guardar el archivo HV del taxi como xlsx"
      ]
    },
    {
      "cell_type": "code",
      "execution_count": 8,
      "id": "junior-johnson",
      "metadata": {
        "scrolled": true,
        "colab": {
          "base_uri": "https://localhost:8080/",
          "height": 389
        },
        "id": "junior-johnson",
        "outputId": "1b6b7f30-b339-4b7a-deea-e53d2f13b547"
      },
      "outputs": [
        {
          "output_type": "execute_result",
          "data": {
            "text/plain": [
              "     COD      FECHA   PLACA CANTIDAD    FACTURA  \\\n",
              "0  52939 2022-02-09  FXS804        1  CTA COBRO   \n",
              "1      1 2021-07-17  FXS804        1        NaN   \n",
              "2      1 2021-11-08  FXS804        1       1928   \n",
              "3      1 2022-03-14  FXS804        1       1529   \n",
              "4      1 2022-05-09  FXS804        1   TCFE1933   \n",
              "\n",
              "                                  CONCEPTO  \\\n",
              "0                              Computadora   \n",
              "1                             Kit Embrague   \n",
              "2                             Sacada Golpe   \n",
              "3  Pintura guardabarro delantero izquierdo   \n",
              "4                              Guardafango   \n",
              "\n",
              "                                         OBSERVACIÓN  VALOR UNITARIO    GASTOS  \n",
              "0                                   ANTENA Y ENLLAVE         600.000     600.0  \n",
              "1  BUJE TREN TRAS-ROTULAS-AXIALES-ABRAZ PLAST-TER...         581.437  581437.0  \n",
              "2  costilla izq, hechura costilla izq, sacada gol...         500.000     500.0  \n",
              "3  RETOQUE PUERTA DELANTERO IZQ,PUERTA TRASERA IZ...         485.000     485.0  \n",
              "4                                                NaN         476.000     476.0  "
            ],
            "text/html": [
              "\n",
              "  <div id=\"df-e7501c54-fe4f-43a9-b312-d796fe036a0d\">\n",
              "    <div class=\"colab-df-container\">\n",
              "      <div>\n",
              "<style scoped>\n",
              "    .dataframe tbody tr th:only-of-type {\n",
              "        vertical-align: middle;\n",
              "    }\n",
              "\n",
              "    .dataframe tbody tr th {\n",
              "        vertical-align: top;\n",
              "    }\n",
              "\n",
              "    .dataframe thead th {\n",
              "        text-align: right;\n",
              "    }\n",
              "</style>\n",
              "<table border=\"1\" class=\"dataframe\">\n",
              "  <thead>\n",
              "    <tr style=\"text-align: right;\">\n",
              "      <th></th>\n",
              "      <th>COD</th>\n",
              "      <th>FECHA</th>\n",
              "      <th>PLACA</th>\n",
              "      <th>CANTIDAD</th>\n",
              "      <th>FACTURA</th>\n",
              "      <th>CONCEPTO</th>\n",
              "      <th>OBSERVACIÓN</th>\n",
              "      <th>VALOR UNITARIO</th>\n",
              "      <th>GASTOS</th>\n",
              "    </tr>\n",
              "  </thead>\n",
              "  <tbody>\n",
              "    <tr>\n",
              "      <th>0</th>\n",
              "      <td>52939</td>\n",
              "      <td>2022-02-09</td>\n",
              "      <td>FXS804</td>\n",
              "      <td>1</td>\n",
              "      <td>CTA COBRO</td>\n",
              "      <td>Computadora</td>\n",
              "      <td>ANTENA Y ENLLAVE</td>\n",
              "      <td>600.000</td>\n",
              "      <td>600.0</td>\n",
              "    </tr>\n",
              "    <tr>\n",
              "      <th>1</th>\n",
              "      <td>1</td>\n",
              "      <td>2021-07-17</td>\n",
              "      <td>FXS804</td>\n",
              "      <td>1</td>\n",
              "      <td>NaN</td>\n",
              "      <td>Kit Embrague</td>\n",
              "      <td>BUJE TREN TRAS-ROTULAS-AXIALES-ABRAZ PLAST-TER...</td>\n",
              "      <td>581.437</td>\n",
              "      <td>581437.0</td>\n",
              "    </tr>\n",
              "    <tr>\n",
              "      <th>2</th>\n",
              "      <td>1</td>\n",
              "      <td>2021-11-08</td>\n",
              "      <td>FXS804</td>\n",
              "      <td>1</td>\n",
              "      <td>1928</td>\n",
              "      <td>Sacada Golpe</td>\n",
              "      <td>costilla izq, hechura costilla izq, sacada gol...</td>\n",
              "      <td>500.000</td>\n",
              "      <td>500.0</td>\n",
              "    </tr>\n",
              "    <tr>\n",
              "      <th>3</th>\n",
              "      <td>1</td>\n",
              "      <td>2022-03-14</td>\n",
              "      <td>FXS804</td>\n",
              "      <td>1</td>\n",
              "      <td>1529</td>\n",
              "      <td>Pintura guardabarro delantero izquierdo</td>\n",
              "      <td>RETOQUE PUERTA DELANTERO IZQ,PUERTA TRASERA IZ...</td>\n",
              "      <td>485.000</td>\n",
              "      <td>485.0</td>\n",
              "    </tr>\n",
              "    <tr>\n",
              "      <th>4</th>\n",
              "      <td>1</td>\n",
              "      <td>2022-05-09</td>\n",
              "      <td>FXS804</td>\n",
              "      <td>1</td>\n",
              "      <td>TCFE1933</td>\n",
              "      <td>Guardafango</td>\n",
              "      <td>NaN</td>\n",
              "      <td>476.000</td>\n",
              "      <td>476.0</td>\n",
              "    </tr>\n",
              "  </tbody>\n",
              "</table>\n",
              "</div>\n",
              "      <button class=\"colab-df-convert\" onclick=\"convertToInteractive('df-e7501c54-fe4f-43a9-b312-d796fe036a0d')\"\n",
              "              title=\"Convert this dataframe to an interactive table.\"\n",
              "              style=\"display:none;\">\n",
              "        \n",
              "  <svg xmlns=\"http://www.w3.org/2000/svg\" height=\"24px\"viewBox=\"0 0 24 24\"\n",
              "       width=\"24px\">\n",
              "    <path d=\"M0 0h24v24H0V0z\" fill=\"none\"/>\n",
              "    <path d=\"M18.56 5.44l.94 2.06.94-2.06 2.06-.94-2.06-.94-.94-2.06-.94 2.06-2.06.94zm-11 1L8.5 8.5l.94-2.06 2.06-.94-2.06-.94L8.5 2.5l-.94 2.06-2.06.94zm10 10l.94 2.06.94-2.06 2.06-.94-2.06-.94-.94-2.06-.94 2.06-2.06.94z\"/><path d=\"M17.41 7.96l-1.37-1.37c-.4-.4-.92-.59-1.43-.59-.52 0-1.04.2-1.43.59L10.3 9.45l-7.72 7.72c-.78.78-.78 2.05 0 2.83L4 21.41c.39.39.9.59 1.41.59.51 0 1.02-.2 1.41-.59l7.78-7.78 2.81-2.81c.8-.78.8-2.07 0-2.86zM5.41 20L4 18.59l7.72-7.72 1.47 1.35L5.41 20z\"/>\n",
              "  </svg>\n",
              "      </button>\n",
              "      \n",
              "  <style>\n",
              "    .colab-df-container {\n",
              "      display:flex;\n",
              "      flex-wrap:wrap;\n",
              "      gap: 12px;\n",
              "    }\n",
              "\n",
              "    .colab-df-convert {\n",
              "      background-color: #E8F0FE;\n",
              "      border: none;\n",
              "      border-radius: 50%;\n",
              "      cursor: pointer;\n",
              "      display: none;\n",
              "      fill: #1967D2;\n",
              "      height: 32px;\n",
              "      padding: 0 0 0 0;\n",
              "      width: 32px;\n",
              "    }\n",
              "\n",
              "    .colab-df-convert:hover {\n",
              "      background-color: #E2EBFA;\n",
              "      box-shadow: 0px 1px 2px rgba(60, 64, 67, 0.3), 0px 1px 3px 1px rgba(60, 64, 67, 0.15);\n",
              "      fill: #174EA6;\n",
              "    }\n",
              "\n",
              "    [theme=dark] .colab-df-convert {\n",
              "      background-color: #3B4455;\n",
              "      fill: #D2E3FC;\n",
              "    }\n",
              "\n",
              "    [theme=dark] .colab-df-convert:hover {\n",
              "      background-color: #434B5C;\n",
              "      box-shadow: 0px 1px 3px 1px rgba(0, 0, 0, 0.15);\n",
              "      filter: drop-shadow(0px 1px 2px rgba(0, 0, 0, 0.3));\n",
              "      fill: #FFFFFF;\n",
              "    }\n",
              "  </style>\n",
              "\n",
              "      <script>\n",
              "        const buttonEl =\n",
              "          document.querySelector('#df-e7501c54-fe4f-43a9-b312-d796fe036a0d button.colab-df-convert');\n",
              "        buttonEl.style.display =\n",
              "          google.colab.kernel.accessAllowed ? 'block' : 'none';\n",
              "\n",
              "        async function convertToInteractive(key) {\n",
              "          const element = document.querySelector('#df-e7501c54-fe4f-43a9-b312-d796fe036a0d');\n",
              "          const dataTable =\n",
              "            await google.colab.kernel.invokeFunction('convertToInteractive',\n",
              "                                                     [key], {});\n",
              "          if (!dataTable) return;\n",
              "\n",
              "          const docLinkHtml = 'Like what you see? Visit the ' +\n",
              "            '<a target=\"_blank\" href=https://colab.research.google.com/notebooks/data_table.ipynb>data table notebook</a>'\n",
              "            + ' to learn more about interactive tables.';\n",
              "          element.innerHTML = '';\n",
              "          dataTable['output_type'] = 'display_data';\n",
              "          await google.colab.output.renderOutput(dataTable, element);\n",
              "          const docLink = document.createElement('div');\n",
              "          docLink.innerHTML = docLinkHtml;\n",
              "          element.appendChild(docLink);\n",
              "        }\n",
              "      </script>\n",
              "    </div>\n",
              "  </div>\n",
              "  "
            ]
          },
          "metadata": {},
          "execution_count": 8
        }
      ],
      "source": [
        "datos=pd.read_excel(r\"Por_Taxi.xlsx\",skiprows=(0,1,2,3,4,5,6,7,8,9,10))#10\n",
        "datos[\"GASTOS\"]=list(map(lambda x:str(x).replace(\"$\",\"\"),datos[\"GASTOS\"]))\n",
        "datos[\"GASTOS\"]=list(map(lambda x:float(str(x).replace(\".\",\"\"))/(1000**(str(x).count(\".\")-1)) if (str(x).count(\".\")>=1) else float(x) ,datos[\"GASTOS\"]))\n",
        "#datos=datos.replace(to_replace=\"00.000\",value=\"00\",regex=True)\n",
        "#openpyxl\n",
        "fin=datos[datos[\"COD\"]==\"TOTAL EGRESOS\"].index.to_numpy().max()\n",
        "datos1=copy.deepcopy(datos.iloc[0:fin,])\n",
        "del datos\n",
        "datos=copy.deepcopy(datos1)\n",
        "#datos1\n",
        "#pd.set_option('display.max_rows', None)\n",
        "datos.head()\n"
      ]
    },
    {
      "cell_type": "code",
      "execution_count": 9,
      "id": "painted-strategy",
      "metadata": {
        "colab": {
          "base_uri": "https://localhost:8080/"
        },
        "id": "painted-strategy",
        "outputId": "5a8bd10f-d983-40bf-bded-1a0106109bf5"
      },
      "outputs": [
        {
          "output_type": "stream",
          "name": "stdout",
          "text": [
            "<class 'pandas.core.frame.DataFrame'>\n",
            "RangeIndex: 386 entries, 0 to 385\n",
            "Data columns (total 9 columns):\n",
            " #   Column          Non-Null Count  Dtype         \n",
            "---  ------          --------------  -----         \n",
            " 0   COD             386 non-null    object        \n",
            " 1   FECHA           386 non-null    datetime64[ns]\n",
            " 2   PLACA           386 non-null    object        \n",
            " 3   CANTIDAD        386 non-null    object        \n",
            " 4   FACTURA         260 non-null    object        \n",
            " 5   CONCEPTO        386 non-null    object        \n",
            " 6   OBSERVACIÓN     196 non-null    object        \n",
            " 7   VALOR UNITARIO  386 non-null    float64       \n",
            " 8   GASTOS          386 non-null    float64       \n",
            "dtypes: datetime64[ns](1), float64(2), object(6)\n",
            "memory usage: 27.3+ KB\n"
          ]
        }
      ],
      "source": [
        "datos[\"FECHA\"]=pd.to_datetime(datos[\"FECHA\"],format=\"%d/%m/%Y\")\n",
        "#datos[\"Fecha_monitoreo\"]=pd.to_datetime(datos[\"Fecha_monitoreo\"],format=\"%d/%m/%Y\")\n",
        "datos[\"FECHA\"][0]\n",
        "datos.info()"
      ]
    },
    {
      "cell_type": "code",
      "execution_count": 10,
      "id": "driven-italic",
      "metadata": {
        "id": "driven-italic"
      },
      "outputs": [],
      "source": [
        "datos_gas=copy.deepcopy(datos.groupby(\"FECHA\").agg({\"GASTOS\":\"sum\"}))"
      ]
    },
    {
      "cell_type": "code",
      "source": [
        "datos_ing=pd.read_excel(r\"Entregas_Diarias.xlsx\",skiprows=(0,1,2,3)).fillna(0)\n",
        "datos_ing1=copy.deepcopy(datos_ing.transpose().reset_index())\n",
        "datos_ing1.head()"
      ],
      "metadata": {
        "colab": {
          "base_uri": "https://localhost:8080/",
          "height": 206
        },
        "id": "zqfVq6xtQIfr",
        "outputId": "28328f15-b4d7-497f-d854-054ee89cdf46"
      },
      "id": "zqfVq6xtQIfr",
      "execution_count": 11,
      "outputs": [
        {
          "output_type": "execute_result",
          "data": {
            "text/plain": [
              "        index                    0       1         2\n",
              "0  Unnamed: 0                PLACA  FXS804  TOTAL(1)\n",
              "1  Unnamed: 1                TURNO       L         0\n",
              "2  Unnamed: 2  2020-10-08 00:00:00       0         0\n",
              "3  Unnamed: 3  2020-10-09 00:00:00       0         0\n",
              "4  Unnamed: 4  2020-10-10 00:00:00      40        40"
            ],
            "text/html": [
              "\n",
              "  <div id=\"df-44a3ce07-6e3c-467d-a197-91df9692337d\">\n",
              "    <div class=\"colab-df-container\">\n",
              "      <div>\n",
              "<style scoped>\n",
              "    .dataframe tbody tr th:only-of-type {\n",
              "        vertical-align: middle;\n",
              "    }\n",
              "\n",
              "    .dataframe tbody tr th {\n",
              "        vertical-align: top;\n",
              "    }\n",
              "\n",
              "    .dataframe thead th {\n",
              "        text-align: right;\n",
              "    }\n",
              "</style>\n",
              "<table border=\"1\" class=\"dataframe\">\n",
              "  <thead>\n",
              "    <tr style=\"text-align: right;\">\n",
              "      <th></th>\n",
              "      <th>index</th>\n",
              "      <th>0</th>\n",
              "      <th>1</th>\n",
              "      <th>2</th>\n",
              "    </tr>\n",
              "  </thead>\n",
              "  <tbody>\n",
              "    <tr>\n",
              "      <th>0</th>\n",
              "      <td>Unnamed: 0</td>\n",
              "      <td>PLACA</td>\n",
              "      <td>FXS804</td>\n",
              "      <td>TOTAL(1)</td>\n",
              "    </tr>\n",
              "    <tr>\n",
              "      <th>1</th>\n",
              "      <td>Unnamed: 1</td>\n",
              "      <td>TURNO</td>\n",
              "      <td>L</td>\n",
              "      <td>0</td>\n",
              "    </tr>\n",
              "    <tr>\n",
              "      <th>2</th>\n",
              "      <td>Unnamed: 2</td>\n",
              "      <td>2020-10-08 00:00:00</td>\n",
              "      <td>0</td>\n",
              "      <td>0</td>\n",
              "    </tr>\n",
              "    <tr>\n",
              "      <th>3</th>\n",
              "      <td>Unnamed: 3</td>\n",
              "      <td>2020-10-09 00:00:00</td>\n",
              "      <td>0</td>\n",
              "      <td>0</td>\n",
              "    </tr>\n",
              "    <tr>\n",
              "      <th>4</th>\n",
              "      <td>Unnamed: 4</td>\n",
              "      <td>2020-10-10 00:00:00</td>\n",
              "      <td>40</td>\n",
              "      <td>40</td>\n",
              "    </tr>\n",
              "  </tbody>\n",
              "</table>\n",
              "</div>\n",
              "      <button class=\"colab-df-convert\" onclick=\"convertToInteractive('df-44a3ce07-6e3c-467d-a197-91df9692337d')\"\n",
              "              title=\"Convert this dataframe to an interactive table.\"\n",
              "              style=\"display:none;\">\n",
              "        \n",
              "  <svg xmlns=\"http://www.w3.org/2000/svg\" height=\"24px\"viewBox=\"0 0 24 24\"\n",
              "       width=\"24px\">\n",
              "    <path d=\"M0 0h24v24H0V0z\" fill=\"none\"/>\n",
              "    <path d=\"M18.56 5.44l.94 2.06.94-2.06 2.06-.94-2.06-.94-.94-2.06-.94 2.06-2.06.94zm-11 1L8.5 8.5l.94-2.06 2.06-.94-2.06-.94L8.5 2.5l-.94 2.06-2.06.94zm10 10l.94 2.06.94-2.06 2.06-.94-2.06-.94-.94-2.06-.94 2.06-2.06.94z\"/><path d=\"M17.41 7.96l-1.37-1.37c-.4-.4-.92-.59-1.43-.59-.52 0-1.04.2-1.43.59L10.3 9.45l-7.72 7.72c-.78.78-.78 2.05 0 2.83L4 21.41c.39.39.9.59 1.41.59.51 0 1.02-.2 1.41-.59l7.78-7.78 2.81-2.81c.8-.78.8-2.07 0-2.86zM5.41 20L4 18.59l7.72-7.72 1.47 1.35L5.41 20z\"/>\n",
              "  </svg>\n",
              "      </button>\n",
              "      \n",
              "  <style>\n",
              "    .colab-df-container {\n",
              "      display:flex;\n",
              "      flex-wrap:wrap;\n",
              "      gap: 12px;\n",
              "    }\n",
              "\n",
              "    .colab-df-convert {\n",
              "      background-color: #E8F0FE;\n",
              "      border: none;\n",
              "      border-radius: 50%;\n",
              "      cursor: pointer;\n",
              "      display: none;\n",
              "      fill: #1967D2;\n",
              "      height: 32px;\n",
              "      padding: 0 0 0 0;\n",
              "      width: 32px;\n",
              "    }\n",
              "\n",
              "    .colab-df-convert:hover {\n",
              "      background-color: #E2EBFA;\n",
              "      box-shadow: 0px 1px 2px rgba(60, 64, 67, 0.3), 0px 1px 3px 1px rgba(60, 64, 67, 0.15);\n",
              "      fill: #174EA6;\n",
              "    }\n",
              "\n",
              "    [theme=dark] .colab-df-convert {\n",
              "      background-color: #3B4455;\n",
              "      fill: #D2E3FC;\n",
              "    }\n",
              "\n",
              "    [theme=dark] .colab-df-convert:hover {\n",
              "      background-color: #434B5C;\n",
              "      box-shadow: 0px 1px 3px 1px rgba(0, 0, 0, 0.15);\n",
              "      filter: drop-shadow(0px 1px 2px rgba(0, 0, 0, 0.3));\n",
              "      fill: #FFFFFF;\n",
              "    }\n",
              "  </style>\n",
              "\n",
              "      <script>\n",
              "        const buttonEl =\n",
              "          document.querySelector('#df-44a3ce07-6e3c-467d-a197-91df9692337d button.colab-df-convert');\n",
              "        buttonEl.style.display =\n",
              "          google.colab.kernel.accessAllowed ? 'block' : 'none';\n",
              "\n",
              "        async function convertToInteractive(key) {\n",
              "          const element = document.querySelector('#df-44a3ce07-6e3c-467d-a197-91df9692337d');\n",
              "          const dataTable =\n",
              "            await google.colab.kernel.invokeFunction('convertToInteractive',\n",
              "                                                     [key], {});\n",
              "          if (!dataTable) return;\n",
              "\n",
              "          const docLinkHtml = 'Like what you see? Visit the ' +\n",
              "            '<a target=\"_blank\" href=https://colab.research.google.com/notebooks/data_table.ipynb>data table notebook</a>'\n",
              "            + ' to learn more about interactive tables.';\n",
              "          element.innerHTML = '';\n",
              "          dataTable['output_type'] = 'display_data';\n",
              "          await google.colab.output.renderOutput(dataTable, element);\n",
              "          const docLink = document.createElement('div');\n",
              "          docLink.innerHTML = docLinkHtml;\n",
              "          element.appendChild(docLink);\n",
              "        }\n",
              "      </script>\n",
              "    </div>\n",
              "  </div>\n",
              "  "
            ]
          },
          "metadata": {},
          "execution_count": 11
        }
      ]
    },
    {
      "cell_type": "code",
      "execution_count": 12,
      "id": "stock-volleyball",
      "metadata": {
        "id": "stock-volleyball"
      },
      "outputs": [],
      "source": [
        "datos_ing=pd.read_excel(r\"Entregas_Diarias.xlsx\",skiprows=(0,1,2,3,4))#4\n",
        "datos_ing1=copy.deepcopy(datos_ing.transpose().reset_index())\n",
        "del datos_ing\n",
        "\n",
        "fin1=datos_ing1[datos_ing1[\"index\"]==\"TOTAL\"].index.to_numpy().max()\n",
        "datos_ing=copy.deepcopy(datos_ing1[2:fin1])\n",
        "del datos_ing1\n"
      ]
    },
    {
      "cell_type": "code",
      "execution_count": 13,
      "id": "retired-watch",
      "metadata": {
        "colab": {
          "base_uri": "https://localhost:8080/"
        },
        "id": "retired-watch",
        "outputId": "d0555b18-0318-421e-c22b-a1ba139e480f"
      },
      "outputs": [
        {
          "output_type": "execute_result",
          "data": {
            "text/plain": [
              "Index(['index', 0, 1], dtype='object')"
            ]
          },
          "metadata": {},
          "execution_count": 13
        }
      ],
      "source": [
        "datos_ing.keys()"
      ]
    },
    {
      "cell_type": "code",
      "execution_count": 14,
      "id": "endless-plate",
      "metadata": {
        "id": "endless-plate",
        "colab": {
          "base_uri": "https://localhost:8080/"
        },
        "outputId": "3566281d-3eba-4c13-9394-84e5ce4eb2d0"
      },
      "outputs": [
        {
          "output_type": "execute_result",
          "data": {
            "text/plain": [
              "Index(['index', 0, 1], dtype='object')"
            ]
          },
          "metadata": {},
          "execution_count": 14
        }
      ],
      "source": [
        "datos_ing.columns"
      ]
    },
    {
      "cell_type": "code",
      "execution_count": 15,
      "id": "vanilla-display",
      "metadata": {
        "id": "vanilla-display"
      },
      "outputs": [],
      "source": [
        "total_correg=datos_ing.columns[len(datos_ing.columns)-1]#-1\n",
        "datos_ingre=copy.deepcopy(datos_ing.groupby(\"index\").agg({total_correg:\"sum\"}))"
      ]
    },
    {
      "cell_type": "code",
      "execution_count": 16,
      "id": "therapeutic-principle",
      "metadata": {
        "id": "therapeutic-principle"
      },
      "outputs": [],
      "source": [
        "datos_ingre[\"gastos\"]=datos_gas[\"GASTOS\"]\n",
        "ingre_gas=copy.deepcopy(datos_ingre.fillna(0))\n",
        "del datos_ingre\n"
      ]
    },
    {
      "cell_type": "code",
      "execution_count": 17,
      "id": "legal-winter",
      "metadata": {
        "colab": {
          "base_uri": "https://localhost:8080/",
          "height": 237
        },
        "id": "legal-winter",
        "outputId": "497d5640-1b15-4de7-c65c-53a841986018"
      },
      "outputs": [
        {
          "output_type": "execute_result",
          "data": {
            "text/plain": [
              "            ingresos  gastos\n",
              "index                       \n",
              "2020-10-08       0.0     0.0\n",
              "2020-10-09       0.0     0.0\n",
              "2020-10-10      40.0     0.0\n",
              "2020-10-11      60.0    20.0\n",
              "2020-10-12      60.0     0.0"
            ],
            "text/html": [
              "\n",
              "  <div id=\"df-d876aafb-a92a-46ae-8429-6488451403bc\">\n",
              "    <div class=\"colab-df-container\">\n",
              "      <div>\n",
              "<style scoped>\n",
              "    .dataframe tbody tr th:only-of-type {\n",
              "        vertical-align: middle;\n",
              "    }\n",
              "\n",
              "    .dataframe tbody tr th {\n",
              "        vertical-align: top;\n",
              "    }\n",
              "\n",
              "    .dataframe thead th {\n",
              "        text-align: right;\n",
              "    }\n",
              "</style>\n",
              "<table border=\"1\" class=\"dataframe\">\n",
              "  <thead>\n",
              "    <tr style=\"text-align: right;\">\n",
              "      <th></th>\n",
              "      <th>ingresos</th>\n",
              "      <th>gastos</th>\n",
              "    </tr>\n",
              "    <tr>\n",
              "      <th>index</th>\n",
              "      <th></th>\n",
              "      <th></th>\n",
              "    </tr>\n",
              "  </thead>\n",
              "  <tbody>\n",
              "    <tr>\n",
              "      <th>2020-10-08</th>\n",
              "      <td>0.0</td>\n",
              "      <td>0.0</td>\n",
              "    </tr>\n",
              "    <tr>\n",
              "      <th>2020-10-09</th>\n",
              "      <td>0.0</td>\n",
              "      <td>0.0</td>\n",
              "    </tr>\n",
              "    <tr>\n",
              "      <th>2020-10-10</th>\n",
              "      <td>40.0</td>\n",
              "      <td>0.0</td>\n",
              "    </tr>\n",
              "    <tr>\n",
              "      <th>2020-10-11</th>\n",
              "      <td>60.0</td>\n",
              "      <td>20.0</td>\n",
              "    </tr>\n",
              "    <tr>\n",
              "      <th>2020-10-12</th>\n",
              "      <td>60.0</td>\n",
              "      <td>0.0</td>\n",
              "    </tr>\n",
              "  </tbody>\n",
              "</table>\n",
              "</div>\n",
              "      <button class=\"colab-df-convert\" onclick=\"convertToInteractive('df-d876aafb-a92a-46ae-8429-6488451403bc')\"\n",
              "              title=\"Convert this dataframe to an interactive table.\"\n",
              "              style=\"display:none;\">\n",
              "        \n",
              "  <svg xmlns=\"http://www.w3.org/2000/svg\" height=\"24px\"viewBox=\"0 0 24 24\"\n",
              "       width=\"24px\">\n",
              "    <path d=\"M0 0h24v24H0V0z\" fill=\"none\"/>\n",
              "    <path d=\"M18.56 5.44l.94 2.06.94-2.06 2.06-.94-2.06-.94-.94-2.06-.94 2.06-2.06.94zm-11 1L8.5 8.5l.94-2.06 2.06-.94-2.06-.94L8.5 2.5l-.94 2.06-2.06.94zm10 10l.94 2.06.94-2.06 2.06-.94-2.06-.94-.94-2.06-.94 2.06-2.06.94z\"/><path d=\"M17.41 7.96l-1.37-1.37c-.4-.4-.92-.59-1.43-.59-.52 0-1.04.2-1.43.59L10.3 9.45l-7.72 7.72c-.78.78-.78 2.05 0 2.83L4 21.41c.39.39.9.59 1.41.59.51 0 1.02-.2 1.41-.59l7.78-7.78 2.81-2.81c.8-.78.8-2.07 0-2.86zM5.41 20L4 18.59l7.72-7.72 1.47 1.35L5.41 20z\"/>\n",
              "  </svg>\n",
              "      </button>\n",
              "      \n",
              "  <style>\n",
              "    .colab-df-container {\n",
              "      display:flex;\n",
              "      flex-wrap:wrap;\n",
              "      gap: 12px;\n",
              "    }\n",
              "\n",
              "    .colab-df-convert {\n",
              "      background-color: #E8F0FE;\n",
              "      border: none;\n",
              "      border-radius: 50%;\n",
              "      cursor: pointer;\n",
              "      display: none;\n",
              "      fill: #1967D2;\n",
              "      height: 32px;\n",
              "      padding: 0 0 0 0;\n",
              "      width: 32px;\n",
              "    }\n",
              "\n",
              "    .colab-df-convert:hover {\n",
              "      background-color: #E2EBFA;\n",
              "      box-shadow: 0px 1px 2px rgba(60, 64, 67, 0.3), 0px 1px 3px 1px rgba(60, 64, 67, 0.15);\n",
              "      fill: #174EA6;\n",
              "    }\n",
              "\n",
              "    [theme=dark] .colab-df-convert {\n",
              "      background-color: #3B4455;\n",
              "      fill: #D2E3FC;\n",
              "    }\n",
              "\n",
              "    [theme=dark] .colab-df-convert:hover {\n",
              "      background-color: #434B5C;\n",
              "      box-shadow: 0px 1px 3px 1px rgba(0, 0, 0, 0.15);\n",
              "      filter: drop-shadow(0px 1px 2px rgba(0, 0, 0, 0.3));\n",
              "      fill: #FFFFFF;\n",
              "    }\n",
              "  </style>\n",
              "\n",
              "      <script>\n",
              "        const buttonEl =\n",
              "          document.querySelector('#df-d876aafb-a92a-46ae-8429-6488451403bc button.colab-df-convert');\n",
              "        buttonEl.style.display =\n",
              "          google.colab.kernel.accessAllowed ? 'block' : 'none';\n",
              "\n",
              "        async function convertToInteractive(key) {\n",
              "          const element = document.querySelector('#df-d876aafb-a92a-46ae-8429-6488451403bc');\n",
              "          const dataTable =\n",
              "            await google.colab.kernel.invokeFunction('convertToInteractive',\n",
              "                                                     [key], {});\n",
              "          if (!dataTable) return;\n",
              "\n",
              "          const docLinkHtml = 'Like what you see? Visit the ' +\n",
              "            '<a target=\"_blank\" href=https://colab.research.google.com/notebooks/data_table.ipynb>data table notebook</a>'\n",
              "            + ' to learn more about interactive tables.';\n",
              "          element.innerHTML = '';\n",
              "          dataTable['output_type'] = 'display_data';\n",
              "          await google.colab.output.renderOutput(dataTable, element);\n",
              "          const docLink = document.createElement('div');\n",
              "          docLink.innerHTML = docLinkHtml;\n",
              "          element.appendChild(docLink);\n",
              "        }\n",
              "      </script>\n",
              "    </div>\n",
              "  </div>\n",
              "  "
            ]
          },
          "metadata": {},
          "execution_count": 17
        }
      ],
      "source": [
        "ingre_gas.columns=[\"ingresos\",\"gastos\"]\n",
        "ingre_gas.head()"
      ]
    },
    {
      "cell_type": "markdown",
      "source": [
        "#Primer criterio: Tendencia de los Ingresos vs Gastos"
      ],
      "metadata": {
        "id": "fJKP-L7BUgNI"
      },
      "id": "fJKP-L7BUgNI"
    },
    {
      "cell_type": "markdown",
      "source": [
        "____________________________________________________________\n",
        "**Descripción**: En esta sección se procesan los datos de ingresos y gastos, se les aplica una suma del histórico de cada uno, y se analiza con evidencia estadística si los Ingresos son lo suficientemente superiores a los gastos. \n",
        "\n",
        "Aunque es visible todo el código y las gráficas, al final de la sección se da la conclusión respecto a este primer criterio\n",
        "____________________________________________________________"
      ],
      "metadata": {
        "id": "CRhIxbWrtPLq"
      },
      "id": "CRhIxbWrtPLq"
    },
    {
      "cell_type": "markdown",
      "source": [
        "##Cálculos y gráficas"
      ],
      "metadata": {
        "id": "BDx-50U4yHqu"
      },
      "id": "BDx-50U4yHqu"
    },
    {
      "cell_type": "markdown",
      "source": [
        "Datos crudos:"
      ],
      "metadata": {
        "id": "DnOISTmrzSwz"
      },
      "id": "DnOISTmrzSwz"
    },
    {
      "cell_type": "code",
      "source": [
        "Y1=ingre_gas[\"ingresos\"]\n",
        "Y2=ingre_gas[\"gastos\"]\n",
        "Y2"
      ],
      "metadata": {
        "colab": {
          "base_uri": "https://localhost:8080/"
        },
        "id": "aqkgMfHsTWha",
        "outputId": "5a438563-1b03-4290-b283-43245564b492"
      },
      "id": "aqkgMfHsTWha",
      "execution_count": 18,
      "outputs": [
        {
          "output_type": "execute_result",
          "data": {
            "text/plain": [
              "index\n",
              "2020-10-08        0.0\n",
              "2020-10-09        0.0\n",
              "2020-10-10        0.0\n",
              "2020-10-11       20.0\n",
              "2020-10-12        0.0\n",
              "               ...   \n",
              "2022-10-27        0.0\n",
              "2022-10-28        0.0\n",
              "2022-10-29    20003.0\n",
              "2022-10-30        0.0\n",
              "2022-10-31        0.0\n",
              "Name: gastos, Length: 670, dtype: float64"
            ]
          },
          "metadata": {},
          "execution_count": 18
        }
      ]
    },
    {
      "cell_type": "code",
      "execution_count": 19,
      "id": "victorian-layer",
      "metadata": {
        "colab": {
          "base_uri": "https://localhost:8080/",
          "height": 17,
          "referenced_widgets": [
            "d2d403d87faa401bb15eea79418d478e"
          ]
        },
        "id": "victorian-layer",
        "outputId": "f6aa30f2-2c63-4fc6-c97a-2298883980f9"
      },
      "outputs": [
        {
          "output_type": "display_data",
          "data": {
            "text/plain": [
              "Canvas(toolbar=Toolbar(toolitems=[('Home', 'Reset original view', 'home', 'home'), ('Back', 'Back to previous …"
            ],
            "image/png": "[encoded data removed]",
            "text/html": [
              "\n",
              "            <div style=\"display: inline-block;\">\n",
              "                <div class=\"jupyter-widgets widget-label\" style=\"text-align: center;\">\n",
              "                    Figure\n",
              "                </div>\n",
              "                <img src='data:image/png;base64,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' width=432.0/>\n",
              "            </div>\n",
              "        "
            ],
            "application/vnd.jupyter.widget-view+json": {
              "version_major": 2,
              "version_minor": 0,
              "model_id": "d2d403d87faa401bb15eea79418d478e"
            }
          },
          "metadata": {}
        }
      ],
      "source": [
        "%matplotlib ipympl\n",
        "X=ingre_gas.index\n",
        "Y1=ingre_gas[\"ingresos\"]\n",
        "Y2=ingre_gas[\"gastos\"]\n",
        "plt.figure()\n",
        "plt.plot_date(X,Y1,label=\"Ingresos\")\n",
        "plt.plot_date(X,Y2,label=\"Gastos\")\n",
        "plt.grid()\n",
        "plt.legend(loc=\"best\")\n",
        "plt.show()"
      ]
    },
    {
      "cell_type": "markdown",
      "source": [
        "Ingresos y Gastos acumulados"
      ],
      "metadata": {
        "id": "YsBZGRQszhiO"
      },
      "id": "YsBZGRQszhiO"
    },
    {
      "cell_type": "code",
      "execution_count": 20,
      "id": "fitted-profile",
      "metadata": {
        "colab": {
          "base_uri": "https://localhost:8080/",
          "height": 377,
          "referenced_widgets": [
            "e24d321994f94e488a4c2a59e8d82dcc",
            "54631455d6d84314b4bc2974075ffb2a",
            "649ec91d61fe45e7b1d9626a88bd976f",
            "10c61966ac9e4b8594aed5ae407e8f9e"
          ]
        },
        "id": "fitted-profile",
        "outputId": "f4949ac9-05f9-4523-c553-54175f165973"
      },
      "outputs": [
        {
          "output_type": "display_data",
          "data": {
            "text/plain": [
              "Canvas(toolbar=Toolbar(toolitems=[('Home', 'Reset original view', 'home', 'home'), ('Back', 'Back to previous …"
            ],
            "image/png": "[encoded data removed]",
            "text/html": [
              "\n",
              "            <div style=\"display: inline-block;\">\n",
              "                <div class=\"jupyter-widgets widget-label\" style=\"text-align: center;\">\n",
              "                    Figure\n",
              "                </div>\n",
              "                <img src='data:image/png;base64,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' width=432.0/>\n",
              "            </div>\n",
              "        "
            ],
            "application/vnd.jupyter.widget-view+json": {
              "version_major": 2,
              "version_minor": 0,
              "model_id": "e24d321994f94e488a4c2a59e8d82dcc"
            }
          },
          "metadata": {
            "application/vnd.jupyter.widget-view+json": {
              "colab": {
                "custom_widget_manager": {
                  "url": "https://ssl.gstatic.com/colaboratory-static/widgets/colab-cdn-widget-manager/d2e234f7cc04bf79/manager.min.js"
                }
              }
            }
          }
        }
      ],
      "source": [
        "from google.colab import output\n",
        "output.enable_custom_widget_manager()\n",
        "\n",
        "\n",
        "X=ingre_gas.index\n",
        "Y1=ingre_gas[\"ingresos\"].cumsum()\n",
        "Y2=ingre_gas[\"gastos\"].cumsum()\n",
        "plt.rcParams[\"figure.autolayout\"] = True\n",
        "\n",
        "def mouse_event(event):\n",
        "    print('x: {} and y: {}'.format(event.xdata, event.ydata))\n",
        "\n",
        "fig = plt.figure()\n",
        "cid = fig.canvas.mpl_connect('button_press_event', mouse_event)\n",
        "\n",
        "\n",
        "\n",
        "plt.plot_date(X,Y1,label=\"Ingresos\")\n",
        "plt.plot_date(X,Y2,label=\"Gastos\")\n",
        "plt.grid()\n",
        "plt.legend(loc=\"best\")\n",
        "plt.show()"
      ]
    },
    {
      "cell_type": "code",
      "source": [],
      "metadata": {
        "id": "V1Y7_vu2g_AX"
      },
      "id": "V1Y7_vu2g_AX",
      "execution_count": 20,
      "outputs": []
    },
    {
      "cell_type": "code",
      "source": [
        "ejeX1=ingre_gas.head(180).reset_index().index.to_numpy()*len(ingre_gas[\"ingresos\"])/12\n",
        "#ejeX1=matplotlib.dates.date2num(ejeXt[ejeXt==ejeXt])\n",
        "ejeY1=pd.to_numeric(ingre_gas.head(180)[\"ingresos\"].cumsum())\n",
        "#ejeY=pd.to_numeric(ingre_gas[\"ingresos\"])\n",
        "X=ejeX1\n",
        "del ejeX1\n",
        "Y=ejeY1\n",
        "del ejeY1\n",
        "X=X[np.in1d(Y,Y[Y==Y])].reshape(-1,1)\n",
        "Y=Y[Y==Y].values.reshape(-1,1)\n",
        "X=sm.add_constant(X)\n",
        "model1 = sm.OLS(Y, X).fit()\n",
        "model1.summary()\n",
        "(model1.params, model1.rsquared,model1.pvalues)\n",
        "#np.arctan(model1.params[1])*180/np.pi"
      ],
      "metadata": {
        "colab": {
          "base_uri": "https://localhost:8080/",
          "height": 69
        },
        "id": "KEswuCO8aHKM",
        "outputId": "b5920cde-1926-4f8d-d468-6e23644627df"
      },
      "id": "KEswuCO8aHKM",
      "execution_count": 21,
      "outputs": [
        {
          "output_type": "execute_result",
          "data": {
            "text/plain": [
              "(array([-338.2771639 ,    1.23232762]),\n",
              " 0.9965508871331707,\n",
              " array([3.71162735e-021, 4.29359584e-221]))"
            ]
          },
          "metadata": {},
          "execution_count": 21
        }
      ]
    },
    {
      "cell_type": "code",
      "source": [
        "ejeX2=ingre_gas.head(180).reset_index().index.to_numpy()*len(ingre_gas[\"ingresos\"])/12\n",
        "#ejeX2=matplotlib.dates.date2num(ejeXt[ejeXt==ejeXt])\n",
        "ejeY2=pd.to_numeric(ingre_gas.head(180)[\"gastos\"].cumsum())\n",
        "#ejeY=pd.to_numeric(ingre_gas[\"ingresos\"])\n",
        "X=ejeX2\n",
        "del ejeX2\n",
        "Y=ejeY2\n",
        "del ejeY2\n",
        "X=X[np.in1d(Y,Y[Y==Y])].reshape(-1,1)\n",
        "Y=Y[Y==Y].values.reshape(-1,1)\n",
        "X=sm.add_constant(X)\n",
        "model2 = sm.OLS(Y, X).fit()\n",
        "model2.summary()\n",
        "(model2.params, model2.rsquared,model2.pvalues)\n",
        "#np.arctan(model2.params[1])*180/np.pi"
      ],
      "metadata": {
        "colab": {
          "base_uri": "https://localhost:8080/",
          "height": 69
        },
        "id": "bzAFmTZ1enc0",
        "outputId": "c6aaa8c6-64e6-4f36-abef-024e4d7598c5"
      },
      "id": "bzAFmTZ1enc0",
      "execution_count": 22,
      "outputs": [
        {
          "output_type": "execute_result",
          "data": {
            "text/plain": [
              "(array([-139.60982198,    3.54807946]),\n",
              " 0.8484094217284317,\n",
              " array([8.30063873e-01, 7.78419968e-75]))"
            ]
          },
          "metadata": {},
          "execution_count": 22
        }
      ]
    },
    {
      "cell_type": "markdown",
      "source": [
        "##Resultado:"
      ],
      "metadata": {
        "id": "oS36L1eWuGEY"
      },
      "id": "oS36L1eWuGEY"
    },
    {
      "cell_type": "code",
      "source": [
        "ang=np.arctan(model1.params[1])*180/np.pi-np.arctan(model2.params[1])*180/np.pi\n",
        "criterios=[]\n",
        "if ang >7 and model2.pvalues[1]<0.05 and model1.pvalues[1]<0.05:\n",
        "  criterios.append(\"VERDE\")\n",
        "  print(f\"El ángulo formado por ingresos y egresos es de {np.round(ang,2)} grados y, tiene evidencia \\n estadística mayor al 95% de seguir acrecentando la diferencia\")\n",
        "else:\n",
        "  if ang >=5 and ang <=7:\n",
        "    criterios.append(\"AMARILLO\")\n",
        "    print(\"El ángulo formado por ingresos y egresos tiene evidencia \\n mayor al 95% de estar riesgosamente cerrado\")\n",
        "  else:\n",
        "    criterios.append(\"AMARILLO\")\n",
        "    print(\"El ángulo formado por ingresos y egresos tiene evidencia \\n mayor al 95% de ser muy cercano a cero\")\n"
      ],
      "metadata": {
        "colab": {
          "base_uri": "https://localhost:8080/",
          "height": 52
        },
        "id": "9faKWfpmmNAy",
        "outputId": "1927ead9-718f-4e01-8243-a5d931880edf"
      },
      "id": "9faKWfpmmNAy",
      "execution_count": 24,
      "outputs": [
        {
          "output_type": "stream",
          "name": "stdout",
          "text": [
            "El ángulo formado por ingresos y egresos tiene evidencia \n",
            " mayor al 95% de ser muy cercano a cero\n"
          ]
        }
      ]
    },
    {
      "cell_type": "markdown",
      "id": "figured-server",
      "metadata": {
        "id": "figured-server"
      },
      "source": [
        "# Segundo Criterio: Predicciones con model de series de tiempo SARIMA"
      ]
    },
    {
      "cell_type": "markdown",
      "source": [
        "____________________________________________________________\n",
        "**Descripción**: Se modela aquí el VPN (que es la ganancia neta que tiene en cuenta la devaluación del dinero), con un modelo de series de tiempo del tipo SARIMA. Se usa este tipo de modelo por el excelente ajuste que tiene para datos que varían en el tiempo especialmente cuando se tiene basta disponibilidad de datos. El modelo entregará predicciones con viabilidad estadística respecto a las próximas ganancias (9 semanas) del vehículo.\n",
        "____________________________________________________________"
      ],
      "metadata": {
        "id": "tfbTQnZ-uQs5"
      },
      "id": "tfbTQnZ-uQs5"
    },
    {
      "cell_type": "markdown",
      "source": [
        "##Cálculos y gráficas"
      ],
      "metadata": {
        "id": "dlS36TaJx_tA"
      },
      "id": "dlS36TaJx_tA"
    },
    {
      "cell_type": "markdown",
      "id": "light-speaking",
      "metadata": {
        "id": "light-speaking"
      },
      "source": [
        "Prueba de estacionareidad:"
      ]
    },
    {
      "cell_type": "code",
      "execution_count": 25,
      "id": "boring-highway",
      "metadata": {
        "colab": {
          "base_uri": "https://localhost:8080/",
          "height": 0
        },
        "id": "boring-highway",
        "outputId": "51bf90cc-3fa2-482d-bae7-f605882c95c7"
      },
      "outputs": [
        {
          "output_type": "execute_result",
          "data": {
            "text/plain": [
              "            ingresos  gastos         Fi         vpn\n",
              "index                                              \n",
              "2020-10-08       0.0     0.0   0.000000    0.000000\n",
              "2020-10-09       0.0     0.0   0.000000    0.000000\n",
              "2020-10-10      40.0     0.0  39.973347   39.973347\n",
              "2020-10-11      60.0    20.0  39.960027   79.933373\n",
              "2020-10-12      60.0     0.0  59.920067  139.853440"
            ],
            "text/html": [
              "\n",
              "  <div id=\"df-7728ebcc-3197-4148-9507-27e8e723940b\">\n",
              "    <div class=\"colab-df-container\">\n",
              "      <div>\n",
              "<style scoped>\n",
              "    .dataframe tbody tr th:only-of-type {\n",
              "        vertical-align: middle;\n",
              "    }\n",
              "\n",
              "    .dataframe tbody tr th {\n",
              "        vertical-align: top;\n",
              "    }\n",
              "\n",
              "    .dataframe thead th {\n",
              "        text-align: right;\n",
              "    }\n",
              "</style>\n",
              "<table border=\"1\" class=\"dataframe\">\n",
              "  <thead>\n",
              "    <tr style=\"text-align: right;\">\n",
              "      <th></th>\n",
              "      <th>ingresos</th>\n",
              "      <th>gastos</th>\n",
              "      <th>Fi</th>\n",
              "      <th>vpn</th>\n",
              "    </tr>\n",
              "    <tr>\n",
              "      <th>index</th>\n",
              "      <th></th>\n",
              "      <th></th>\n",
              "      <th></th>\n",
              "      <th></th>\n",
              "    </tr>\n",
              "  </thead>\n",
              "  <tbody>\n",
              "    <tr>\n",
              "      <th>2020-10-08</th>\n",
              "      <td>0.0</td>\n",
              "      <td>0.0</td>\n",
              "      <td>0.000000</td>\n",
              "      <td>0.000000</td>\n",
              "    </tr>\n",
              "    <tr>\n",
              "      <th>2020-10-09</th>\n",
              "      <td>0.0</td>\n",
              "      <td>0.0</td>\n",
              "      <td>0.000000</td>\n",
              "      <td>0.000000</td>\n",
              "    </tr>\n",
              "    <tr>\n",
              "      <th>2020-10-10</th>\n",
              "      <td>40.0</td>\n",
              "      <td>0.0</td>\n",
              "      <td>39.973347</td>\n",
              "      <td>39.973347</td>\n",
              "    </tr>\n",
              "    <tr>\n",
              "      <th>2020-10-11</th>\n",
              "      <td>60.0</td>\n",
              "      <td>20.0</td>\n",
              "      <td>39.960027</td>\n",
              "      <td>79.933373</td>\n",
              "    </tr>\n",
              "    <tr>\n",
              "      <th>2020-10-12</th>\n",
              "      <td>60.0</td>\n",
              "      <td>0.0</td>\n",
              "      <td>59.920067</td>\n",
              "      <td>139.853440</td>\n",
              "    </tr>\n",
              "  </tbody>\n",
              "</table>\n",
              "</div>\n",
              "      <button class=\"colab-df-convert\" onclick=\"convertToInteractive('df-7728ebcc-3197-4148-9507-27e8e723940b')\"\n",
              "              title=\"Convert this dataframe to an interactive table.\"\n",
              "              style=\"display:none;\">\n",
              "        \n",
              "  <svg xmlns=\"http://www.w3.org/2000/svg\" height=\"24px\"viewBox=\"0 0 24 24\"\n",
              "       width=\"24px\">\n",
              "    <path d=\"M0 0h24v24H0V0z\" fill=\"none\"/>\n",
              "    <path d=\"M18.56 5.44l.94 2.06.94-2.06 2.06-.94-2.06-.94-.94-2.06-.94 2.06-2.06.94zm-11 1L8.5 8.5l.94-2.06 2.06-.94-2.06-.94L8.5 2.5l-.94 2.06-2.06.94zm10 10l.94 2.06.94-2.06 2.06-.94-2.06-.94-.94-2.06-.94 2.06-2.06.94z\"/><path d=\"M17.41 7.96l-1.37-1.37c-.4-.4-.92-.59-1.43-.59-.52 0-1.04.2-1.43.59L10.3 9.45l-7.72 7.72c-.78.78-.78 2.05 0 2.83L4 21.41c.39.39.9.59 1.41.59.51 0 1.02-.2 1.41-.59l7.78-7.78 2.81-2.81c.8-.78.8-2.07 0-2.86zM5.41 20L4 18.59l7.72-7.72 1.47 1.35L5.41 20z\"/>\n",
              "  </svg>\n",
              "      </button>\n",
              "      \n",
              "  <style>\n",
              "    .colab-df-container {\n",
              "      display:flex;\n",
              "      flex-wrap:wrap;\n",
              "      gap: 12px;\n",
              "    }\n",
              "\n",
              "    .colab-df-convert {\n",
              "      background-color: #E8F0FE;\n",
              "      border: none;\n",
              "      border-radius: 50%;\n",
              "      cursor: pointer;\n",
              "      display: none;\n",
              "      fill: #1967D2;\n",
              "      height: 32px;\n",
              "      padding: 0 0 0 0;\n",
              "      width: 32px;\n",
              "    }\n",
              "\n",
              "    .colab-df-convert:hover {\n",
              "      background-color: #E2EBFA;\n",
              "      box-shadow: 0px 1px 2px rgba(60, 64, 67, 0.3), 0px 1px 3px 1px rgba(60, 64, 67, 0.15);\n",
              "      fill: #174EA6;\n",
              "    }\n",
              "\n",
              "    [theme=dark] .colab-df-convert {\n",
              "      background-color: #3B4455;\n",
              "      fill: #D2E3FC;\n",
              "    }\n",
              "\n",
              "    [theme=dark] .colab-df-convert:hover {\n",
              "      background-color: #434B5C;\n",
              "      box-shadow: 0px 1px 3px 1px rgba(0, 0, 0, 0.15);\n",
              "      filter: drop-shadow(0px 1px 2px rgba(0, 0, 0, 0.3));\n",
              "      fill: #FFFFFF;\n",
              "    }\n",
              "  </style>\n",
              "\n",
              "      <script>\n",
              "        const buttonEl =\n",
              "          document.querySelector('#df-7728ebcc-3197-4148-9507-27e8e723940b button.colab-df-convert');\n",
              "        buttonEl.style.display =\n",
              "          google.colab.kernel.accessAllowed ? 'block' : 'none';\n",
              "\n",
              "        async function convertToInteractive(key) {\n",
              "          const element = document.querySelector('#df-7728ebcc-3197-4148-9507-27e8e723940b');\n",
              "          const dataTable =\n",
              "            await google.colab.kernel.invokeFunction('convertToInteractive',\n",
              "                                                     [key], {});\n",
              "          if (!dataTable) return;\n",
              "\n",
              "          const docLinkHtml = 'Like what you see? Visit the ' +\n",
              "            '<a target=\"_blank\" href=https://colab.research.google.com/notebooks/data_table.ipynb>data table notebook</a>'\n",
              "            + ' to learn more about interactive tables.';\n",
              "          element.innerHTML = '';\n",
              "          dataTable['output_type'] = 'display_data';\n",
              "          await google.colab.output.renderOutput(dataTable, element);\n",
              "          const docLink = document.createElement('div');\n",
              "          docLink.innerHTML = docLinkHtml;\n",
              "          element.appendChild(docLink);\n",
              "        }\n",
              "      </script>\n",
              "    </div>\n",
              "  </div>\n",
              "  "
            ]
          },
          "metadata": {},
          "execution_count": 25
        }
      ],
      "source": [
        "inversion=0#200000 #200 millones, porque todo está dividido en 1000\n",
        "ti=0.03333333/100 #tasa de interés TED, equivaltente a 12% EA para taxis en COL\n",
        "n=ingre_gas.reset_index().index\n",
        "ingre_gas[\"Fi\"]=(ingre_gas[\"ingresos\"]-ingre_gas[\"gastos\"])/((1+ti)**n)\n",
        "ingre_gas[\"Fi\"][0]=ingre_gas[\"Fi\"][0]-inversion\n",
        "ingre_gas[\"vpn\"]=ingre_gas[\"Fi\"].cumsum()\n",
        "ingre_gas_vpn=copy.deepcopy(ingre_gas)\n",
        "del ingre_gas\n",
        "ingre_gas_vpn.head()\n"
      ]
    },
    {
      "cell_type": "code",
      "source": [
        "ingre_gas_vpn.head()"
      ],
      "metadata": {
        "colab": {
          "base_uri": "https://localhost:8080/",
          "height": 0
        },
        "id": "H5dbZmxSWDEC",
        "outputId": "75e49664-9f00-47fb-c427-5d333bbd7ee9"
      },
      "id": "H5dbZmxSWDEC",
      "execution_count": 26,
      "outputs": [
        {
          "output_type": "execute_result",
          "data": {
            "text/plain": [
              "            ingresos  gastos         Fi         vpn\n",
              "index                                              \n",
              "2020-10-08       0.0     0.0   0.000000    0.000000\n",
              "2020-10-09       0.0     0.0   0.000000    0.000000\n",
              "2020-10-10      40.0     0.0  39.973347   39.973347\n",
              "2020-10-11      60.0    20.0  39.960027   79.933373\n",
              "2020-10-12      60.0     0.0  59.920067  139.853440"
            ],
            "text/html": [
              "\n",
              "  <div id=\"df-357662b2-29ba-4cec-a7e9-ee6f30b566cd\">\n",
              "    <div class=\"colab-df-container\">\n",
              "      <div>\n",
              "<style scoped>\n",
              "    .dataframe tbody tr th:only-of-type {\n",
              "        vertical-align: middle;\n",
              "    }\n",
              "\n",
              "    .dataframe tbody tr th {\n",
              "        vertical-align: top;\n",
              "    }\n",
              "\n",
              "    .dataframe thead th {\n",
              "        text-align: right;\n",
              "    }\n",
              "</style>\n",
              "<table border=\"1\" class=\"dataframe\">\n",
              "  <thead>\n",
              "    <tr style=\"text-align: right;\">\n",
              "      <th></th>\n",
              "      <th>ingresos</th>\n",
              "      <th>gastos</th>\n",
              "      <th>Fi</th>\n",
              "      <th>vpn</th>\n",
              "    </tr>\n",
              "    <tr>\n",
              "      <th>index</th>\n",
              "      <th></th>\n",
              "      <th></th>\n",
              "      <th></th>\n",
              "      <th></th>\n",
              "    </tr>\n",
              "  </thead>\n",
              "  <tbody>\n",
              "    <tr>\n",
              "      <th>2020-10-08</th>\n",
              "      <td>0.0</td>\n",
              "      <td>0.0</td>\n",
              "      <td>0.000000</td>\n",
              "      <td>0.000000</td>\n",
              "    </tr>\n",
              "    <tr>\n",
              "      <th>2020-10-09</th>\n",
              "      <td>0.0</td>\n",
              "      <td>0.0</td>\n",
              "      <td>0.000000</td>\n",
              "      <td>0.000000</td>\n",
              "    </tr>\n",
              "    <tr>\n",
              "      <th>2020-10-10</th>\n",
              "      <td>40.0</td>\n",
              "      <td>0.0</td>\n",
              "      <td>39.973347</td>\n",
              "      <td>39.973347</td>\n",
              "    </tr>\n",
              "    <tr>\n",
              "      <th>2020-10-11</th>\n",
              "      <td>60.0</td>\n",
              "      <td>20.0</td>\n",
              "      <td>39.960027</td>\n",
              "      <td>79.933373</td>\n",
              "    </tr>\n",
              "    <tr>\n",
              "      <th>2020-10-12</th>\n",
              "      <td>60.0</td>\n",
              "      <td>0.0</td>\n",
              "      <td>59.920067</td>\n",
              "      <td>139.853440</td>\n",
              "    </tr>\n",
              "  </tbody>\n",
              "</table>\n",
              "</div>\n",
              "      <button class=\"colab-df-convert\" onclick=\"convertToInteractive('df-357662b2-29ba-4cec-a7e9-ee6f30b566cd')\"\n",
              "              title=\"Convert this dataframe to an interactive table.\"\n",
              "              style=\"display:none;\">\n",
              "        \n",
              "  <svg xmlns=\"http://www.w3.org/2000/svg\" height=\"24px\"viewBox=\"0 0 24 24\"\n",
              "       width=\"24px\">\n",
              "    <path d=\"M0 0h24v24H0V0z\" fill=\"none\"/>\n",
              "    <path d=\"M18.56 5.44l.94 2.06.94-2.06 2.06-.94-2.06-.94-.94-2.06-.94 2.06-2.06.94zm-11 1L8.5 8.5l.94-2.06 2.06-.94-2.06-.94L8.5 2.5l-.94 2.06-2.06.94zm10 10l.94 2.06.94-2.06 2.06-.94-2.06-.94-.94-2.06-.94 2.06-2.06.94z\"/><path d=\"M17.41 7.96l-1.37-1.37c-.4-.4-.92-.59-1.43-.59-.52 0-1.04.2-1.43.59L10.3 9.45l-7.72 7.72c-.78.78-.78 2.05 0 2.83L4 21.41c.39.39.9.59 1.41.59.51 0 1.02-.2 1.41-.59l7.78-7.78 2.81-2.81c.8-.78.8-2.07 0-2.86zM5.41 20L4 18.59l7.72-7.72 1.47 1.35L5.41 20z\"/>\n",
              "  </svg>\n",
              "      </button>\n",
              "      \n",
              "  <style>\n",
              "    .colab-df-container {\n",
              "      display:flex;\n",
              "      flex-wrap:wrap;\n",
              "      gap: 12px;\n",
              "    }\n",
              "\n",
              "    .colab-df-convert {\n",
              "      background-color: #E8F0FE;\n",
              "      border: none;\n",
              "      border-radius: 50%;\n",
              "      cursor: pointer;\n",
              "      display: none;\n",
              "      fill: #1967D2;\n",
              "      height: 32px;\n",
              "      padding: 0 0 0 0;\n",
              "      width: 32px;\n",
              "    }\n",
              "\n",
              "    .colab-df-convert:hover {\n",
              "      background-color: #E2EBFA;\n",
              "      box-shadow: 0px 1px 2px rgba(60, 64, 67, 0.3), 0px 1px 3px 1px rgba(60, 64, 67, 0.15);\n",
              "      fill: #174EA6;\n",
              "    }\n",
              "\n",
              "    [theme=dark] .colab-df-convert {\n",
              "      background-color: #3B4455;\n",
              "      fill: #D2E3FC;\n",
              "    }\n",
              "\n",
              "    [theme=dark] .colab-df-convert:hover {\n",
              "      background-color: #434B5C;\n",
              "      box-shadow: 0px 1px 3px 1px rgba(0, 0, 0, 0.15);\n",
              "      filter: drop-shadow(0px 1px 2px rgba(0, 0, 0, 0.3));\n",
              "      fill: #FFFFFF;\n",
              "    }\n",
              "  </style>\n",
              "\n",
              "      <script>\n",
              "        const buttonEl =\n",
              "          document.querySelector('#df-357662b2-29ba-4cec-a7e9-ee6f30b566cd button.colab-df-convert');\n",
              "        buttonEl.style.display =\n",
              "          google.colab.kernel.accessAllowed ? 'block' : 'none';\n",
              "\n",
              "        async function convertToInteractive(key) {\n",
              "          const element = document.querySelector('#df-357662b2-29ba-4cec-a7e9-ee6f30b566cd');\n",
              "          const dataTable =\n",
              "            await google.colab.kernel.invokeFunction('convertToInteractive',\n",
              "                                                     [key], {});\n",
              "          if (!dataTable) return;\n",
              "\n",
              "          const docLinkHtml = 'Like what you see? Visit the ' +\n",
              "            '<a target=\"_blank\" href=https://colab.research.google.com/notebooks/data_table.ipynb>data table notebook</a>'\n",
              "            + ' to learn more about interactive tables.';\n",
              "          element.innerHTML = '';\n",
              "          dataTable['output_type'] = 'display_data';\n",
              "          await google.colab.output.renderOutput(dataTable, element);\n",
              "          const docLink = document.createElement('div');\n",
              "          docLink.innerHTML = docLinkHtml;\n",
              "          element.appendChild(docLink);\n",
              "        }\n",
              "      </script>\n",
              "    </div>\n",
              "  </div>\n",
              "  "
            ]
          },
          "metadata": {},
          "execution_count": 26
        }
      ]
    },
    {
      "cell_type": "code",
      "source": [],
      "metadata": {
        "id": "2H08tHNgYHWt"
      },
      "id": "2H08tHNgYHWt",
      "execution_count": 26,
      "outputs": []
    },
    {
      "cell_type": "code",
      "execution_count": 27,
      "id": "incorrect-blues",
      "metadata": {
        "colab": {
          "base_uri": "https://localhost:8080/",
          "height": 0
        },
        "id": "incorrect-blues",
        "outputId": "bcd5339c-0062-48fa-cf98-8d06c71a9e1c"
      },
      "outputs": [
        {
          "output_type": "execute_result",
          "data": {
            "text/plain": [
              "(0.9706495727814002, True)"
            ]
          },
          "metadata": {},
          "execution_count": 27
        }
      ],
      "source": [
        "dias_mod=360\n",
        "\n",
        "adf=ADFTest(alpha=0.5)\n",
        "\n",
        "delta_dia=7\n",
        "\n",
        "datos=copy.deepcopy(ingre_gas_vpn.iloc[list(np.arange(0,len(ingre_gas_vpn[[\"vpn\"]])+1,delta_dia))].tail(dias_mod)[[\"vpn\"]])#\"vpn\"]])+1\n",
        "result=adf.should_diff(datos)\n",
        "result"
      ]
    },
    {
      "cell_type": "code",
      "execution_count": 28,
      "id": "still-record",
      "metadata": {
        "id": "still-record",
        "colab": {
          "base_uri": "https://localhost:8080/",
          "height": 0
        },
        "outputId": "8c09e7eb-dd7c-48d7-df36-85e20148da47"
      },
      "outputs": [
        {
          "output_type": "stream",
          "name": "stderr",
          "text": [
            "/usr/local/lib/python3.8/dist-packages/pmdarima/arima/_validation.py:76: UserWarning: stepwise model cannot be fit in parallel (n_jobs=1). Falling back to stepwise parameter search.\n",
            "  warnings.warn('stepwise model cannot be fit in parallel (n_jobs=%i). '\n"
          ]
        },
        {
          "output_type": "stream",
          "name": "stdout",
          "text": [
            "Performing stepwise search to minimize aic\n",
            " ARIMA(0,2,0)(0,0,0)[52]             : AIC=2523.096, Time=0.13 sec\n",
            " ARIMA(1,2,0)(1,0,0)[52]             : AIC=2495.293, Time=1.55 sec\n",
            " ARIMA(0,2,1)(0,0,1)[52]             : AIC=2463.996, Time=1.58 sec\n",
            " ARIMA(0,2,1)(0,0,0)[52]             : AIC=2462.118, Time=0.16 sec\n",
            " ARIMA(0,2,1)(1,0,0)[52]             : AIC=2463.996, Time=1.86 sec\n",
            " ARIMA(0,2,1)(1,0,1)[52]             : AIC=2465.996, Time=2.17 sec\n",
            " ARIMA(1,2,1)(0,0,0)[52]             : AIC=2463.507, Time=0.06 sec\n",
            " ARIMA(0,2,2)(0,0,0)[52]             : AIC=2463.477, Time=0.07 sec\n",
            " ARIMA(1,2,0)(0,0,0)[52]             : AIC=2493.583, Time=0.02 sec\n",
            " ARIMA(1,2,2)(0,0,0)[52]             : AIC=2463.073, Time=0.13 sec\n",
            " ARIMA(0,2,1)(0,0,0)[52] intercept   : AIC=inf, Time=0.17 sec\n",
            "\n",
            "Best model:  ARIMA(0,2,1)(0,0,0)[52]          \n",
            "Total fit time: 8.019 seconds\n"
          ]
        }
      ],
      "source": [
        "\n",
        "#with threadpool_limits(limits=1, user_api='blas'): #blas   you can use it for MKL also\n",
        "modelo_arima=auto_arima(datos, start_p=0, d=None, start_q=0, max_p=5, max_d=5, \n",
        "          max_q=5, start_P=0, D=None, start_Q=0, max_P=5, max_D=5, max_Q=5, \n",
        "           m=52, seasonal=result[1],  \n",
        "            n_jobs=-1, stepwise=True,\n",
        "            suppress_warnings=True, \n",
        "             error_action='warn', trace=True, random_state=20, \n",
        "             n_fits=50)"
      ]
    },
    {
      "cell_type": "code",
      "execution_count": 29,
      "id": "raising-syndicate",
      "metadata": {
        "scrolled": true,
        "id": "raising-syndicate",
        "colab": {
          "base_uri": "https://localhost:8080/",
          "height": 0
        },
        "outputId": "8194caa0-e70d-462f-ed61-39b4f7686d22"
      },
      "outputs": [
        {
          "output_type": "stream",
          "name": "stderr",
          "text": [
            "/usr/local/lib/python3.8/dist-packages/statsmodels/tsa/base/tsa_model.py:834: ValueWarning: No supported index is available. Prediction results will be given with an integer index beginning at `start`.\n",
            "  return get_prediction_index(\n"
          ]
        },
        {
          "output_type": "execute_result",
          "data": {
            "text/plain": [
              "RangeIndex(start=96, stop=105, step=1)"
            ]
          },
          "metadata": {},
          "execution_count": 29
        }
      ],
      "source": [
        "dias_pred=9 #<- SON SEMANAS\n",
        "datos_predic_fut_X=modelo_arima.predict(n_periods=dias_pred)\n",
        "datos_predic_fut_X.index\n"
      ]
    },
    {
      "cell_type": "code",
      "execution_count": 30,
      "id": "general-thesaurus",
      "metadata": {
        "scrolled": true,
        "id": "general-thesaurus"
      },
      "outputs": [],
      "source": [
        "#datos_predic=pd.DataFrame()\n",
        "#datos_predic.head()#.predict_in_sample(return_conf_int=True)\n",
        "datos_predic=modelo_arima.fit(datos).predict_in_sample(return_conf_int=True)\n",
        "             #modelo_arima.fit(datos).predict(dias_pred,return_conf_int=True)\n",
        "            #modelo_arima.fit(datos).predict_in_sample(return_conf_int=True)"
      ]
    },
    {
      "cell_type": "code",
      "execution_count": 31,
      "id": "precious-edward",
      "metadata": {
        "id": "precious-edward",
        "colab": {
          "base_uri": "https://localhost:8080/",
          "height": 0
        },
        "outputId": "03008d39-67aa-4a52-d211-f87165bf29ef"
      },
      "outputs": [
        {
          "output_type": "stream",
          "name": "stderr",
          "text": [
            "/usr/local/lib/python3.8/dist-packages/statsmodels/tsa/base/tsa_model.py:834: ValueWarning: No supported index is available. Prediction results will be given with an integer index beginning at `start`.\n",
            "  return get_prediction_index(\n"
          ]
        }
      ],
      "source": [
        "\n",
        "#datos_predic_fut=pd.DataFrame(modelo_arima.predict(dias_pred,return_conf_int=True))\n",
        "                #index=pd.date_range(datos.index[len(datos.index)-1]\n",
        "                #+datetime.timedelta(days = 1),periods=60,freq=\"d\"))\n",
        "diaF=datos.index[len(datos.index)-1]\n",
        "datos_predic_fut_X.index=pd.to_datetime(pd.date_range(datos.index[len(datos.index)-1]\n",
        "                +datetime.timedelta(days = 1),periods=dias_pred,freq=\"w\"))\n",
        "datos_predic_fut_Y=modelo_arima.fit(datos).predict(dias_pred,return_conf_int=True)\n",
        "#datos_predic_fut.head()"
      ]
    },
    {
      "cell_type": "code",
      "execution_count": 32,
      "id": "religious-split",
      "metadata": {
        "id": "religious-split",
        "colab": {
          "base_uri": "https://localhost:8080/",
          "height": 0,
          "referenced_widgets": [
            "e64a301a79f04d998d362e2c7c9ff2ea",
            "f39ee49e90f046939e30b57b9df07806",
            "44d894b6101645dd9c79565e05ea08d7",
            "61c1eb7237264b8abc3b2865d46525e5"
          ]
        },
        "outputId": "b72f5c9c-8b6f-436b-c6c3-c779fc6fe9bc"
      },
      "outputs": [
        {
          "output_type": "display_data",
          "data": {
            "text/plain": [
              "Canvas(toolbar=Toolbar(toolitems=[('Home', 'Reset original view', 'home', 'home'), ('Back', 'Back to previous …"
            ],
            "image/png": "[encoded data removed]",
            "text/html": [
              "\n",
              "            <div style=\"display: inline-block;\">\n",
              "                <div class=\"jupyter-widgets widget-label\" style=\"text-align: center;\">\n",
              "                    Figure\n",
              "                </div>\n",
              "                <img src='data:image/png;base64,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' width=432.0/>\n",
              "            </div>\n",
              "        "
            ],
            "application/vnd.jupyter.widget-view+json": {
              "version_major": 2,
              "version_minor": 0,
              "model_id": "e64a301a79f04d998d362e2c7c9ff2ea"
            }
          },
          "metadata": {
            "application/vnd.jupyter.widget-view+json": {
              "colab": {
                "custom_widget_manager": {
                  "url": "https://ssl.gstatic.com/colaboratory-static/widgets/colab-cdn-widget-manager/d2e234f7cc04bf79/manager.min.js"
                }
              }
            }
          }
        }
      ],
      "source": [
        "corr=0\n",
        "plt.rcParams[\"figure.autolayout\"] = True\n",
        "\n",
        "def mouse_event(event):\n",
        "    print('x: {} and y: {}'.format(event.xdata, event.ydata))\n",
        "\n",
        "fig = plt.figure()\n",
        "cid = fig.canvas.mpl_connect('button_press_event', mouse_event)\n",
        "\n",
        "\n",
        "\n",
        "plt.plot(datos.tail(dias_mod-corr),label=\"Datos\",marker=\"2\")\n",
        "plt.plot(datos_predic[0].tail(dias_mod-corr),label=\"Calculados\",color=\"k\")\n",
        "plt.plot(datos_predic_fut_X,label=\"futuros\")\n",
        "\n",
        "plt.fill_between(datos_predic_fut_X.index,\n",
        "                datos_predic_fut_Y[1][:,0],\n",
        "                datos_predic_fut_Y[1][:,1],\n",
        "                color=\"k\",alpha=0.15,label=\"Interv Conf 2\")\n",
        "plt.fill_between(datos_predic[0].tail(dias_mod-corr).index,\n",
        "                datos_predic[1][-dias_mod-corr-1:len(datos_predic[0].tail(dias_mod-corr).index)+1][:,0],\n",
        "                datos_predic[1][-dias_mod-corr-1:len(datos_predic[0].tail(dias_mod-corr).index)+1][:,1],\n",
        "                color=\"crimson\",alpha=0.25,label=\"Interv Conf 1\")\n",
        "plt.legend(loc=\"upper left\")\n",
        "plt.show()"
      ]
    },
    {
      "cell_type": "code",
      "execution_count": 33,
      "id": "young-trainer",
      "metadata": {
        "scrolled": true,
        "id": "young-trainer",
        "colab": {
          "base_uri": "https://localhost:8080/",
          "height": 0
        },
        "outputId": "59b31bc1-ab38-4581-8e12-760fda7e6df2"
      },
      "outputs": [
        {
          "output_type": "execute_result",
          "data": {
            "text/plain": [
              "<class 'statsmodels.iolib.summary.Summary'>\n",
              "\"\"\"\n",
              "                               SARIMAX Results                                \n",
              "==============================================================================\n",
              "Dep. Variable:                      y   No. Observations:                   96\n",
              "Model:               SARIMAX(0, 2, 1)   Log Likelihood               -1229.059\n",
              "Date:                Sun, 11 Dec 2022   AIC                           2462.118\n",
              "Time:                        00:36:16   BIC                           2467.204\n",
              "Sample:                             0   HQIC                          2464.172\n",
              "                                 - 96                                         \n",
              "Covariance Type:                  opg                                         \n",
              "==============================================================================\n",
              "                 coef    std err          z      P>|z|      [0.025      0.975]\n",
              "------------------------------------------------------------------------------\n",
              "ma.L1         -0.9476      0.063    -15.016      0.000      -1.071      -0.824\n",
              "sigma2       1.69e+10    1.3e-12    1.3e+22      0.000    1.69e+10    1.69e+10\n",
              "===================================================================================\n",
              "Ljung-Box (L1) (Q):                   1.12   Jarque-Bera (JB):               376.60\n",
              "Prob(Q):                              0.29   Prob(JB):                         0.00\n",
              "Heteroskedasticity (H):            2043.13   Skew:                            -2.85\n",
              "Prob(H) (two-sided):                  0.00   Kurtosis:                        10.98\n",
              "===================================================================================\n",
              "\n",
              "Warnings:\n",
              "[1] Covariance matrix calculated using the outer product of gradients (complex-step).\n",
              "[2] Covariance matrix is singular or near-singular, with condition number 1.08e+37. Standard errors may be unstable.\n",
              "\"\"\""
            ],
            "text/html": [
              "<table class=\"simpletable\">\n",
              "<caption>SARIMAX Results</caption>\n",
              "<tr>\n",
              "  <th>Dep. Variable:</th>           <td>y</td>        <th>  No. Observations:  </th>    <td>96</td>    \n",
              "</tr>\n",
              "<tr>\n",
              "  <th>Model:</th>           <td>SARIMAX(0, 2, 1)</td> <th>  Log Likelihood     </th> <td>-1229.059</td>\n",
              "</tr>\n",
              "<tr>\n",
              "  <th>Date:</th>            <td>Sun, 11 Dec 2022</td> <th>  AIC                </th> <td>2462.118</td> \n",
              "</tr>\n",
              "<tr>\n",
              "  <th>Time:</th>                <td>00:36:16</td>     <th>  BIC                </th> <td>2467.204</td> \n",
              "</tr>\n",
              "<tr>\n",
              "  <th>Sample:</th>                  <td>0</td>        <th>  HQIC               </th> <td>2464.172</td> \n",
              "</tr>\n",
              "<tr>\n",
              "  <th></th>                       <td> - 96</td>      <th>                     </th>     <td> </td>    \n",
              "</tr>\n",
              "<tr>\n",
              "  <th>Covariance Type:</th>        <td>opg</td>       <th>                     </th>     <td> </td>    \n",
              "</tr>\n",
              "</table>\n",
              "<table class=\"simpletable\">\n",
              "<tr>\n",
              "     <td></td>       <th>coef</th>     <th>std err</th>      <th>z</th>      <th>P>|z|</th>  <th>[0.025</th>    <th>0.975]</th>  \n",
              "</tr>\n",
              "<tr>\n",
              "  <th>ma.L1</th>  <td>   -0.9476</td> <td>    0.063</td> <td>  -15.016</td> <td> 0.000</td> <td>   -1.071</td> <td>   -0.824</td>\n",
              "</tr>\n",
              "<tr>\n",
              "  <th>sigma2</th> <td>  1.69e+10</td> <td>  1.3e-12</td> <td>  1.3e+22</td> <td> 0.000</td> <td> 1.69e+10</td> <td> 1.69e+10</td>\n",
              "</tr>\n",
              "</table>\n",
              "<table class=\"simpletable\">\n",
              "<tr>\n",
              "  <th>Ljung-Box (L1) (Q):</th>      <td>1.12</td>   <th>  Jarque-Bera (JB):  </th> <td>376.60</td>\n",
              "</tr>\n",
              "<tr>\n",
              "  <th>Prob(Q):</th>                 <td>0.29</td>   <th>  Prob(JB):          </th>  <td>0.00</td> \n",
              "</tr>\n",
              "<tr>\n",
              "  <th>Heteroskedasticity (H):</th> <td>2043.13</td> <th>  Skew:              </th>  <td>-2.85</td>\n",
              "</tr>\n",
              "<tr>\n",
              "  <th>Prob(H) (two-sided):</th>     <td>0.00</td>   <th>  Kurtosis:          </th>  <td>10.98</td>\n",
              "</tr>\n",
              "</table><br/><br/>Warnings:<br/>[1] Covariance matrix calculated using the outer product of gradients (complex-step).<br/>[2] Covariance matrix is singular or near-singular, with condition number 1.08e+37. Standard errors may be unstable."
            ]
          },
          "metadata": {},
          "execution_count": 33
        }
      ],
      "source": [
        "modelo_arima.summary()"
      ]
    },
    {
      "cell_type": "markdown",
      "source": [
        "##Resultado:"
      ],
      "metadata": {
        "id": "x_WcqpG4euOB"
      },
      "id": "x_WcqpG4euOB"
    },
    {
      "cell_type": "code",
      "source": [
        "yuy=np.round(sum(sum(datos_predic[1]<datos.loc[diaF].values))*100/sum(sum(datos_predic[1]*0+1)),2)\n",
        "print(f\"Hay {yuy}% de probabilidad de aumento de \\n las ganancias netas en los próximos 2 meses\")\n",
        "if yuy>55:\n",
        "  criterios.append(\"VERDE\")\n",
        "else:\n",
        "  if yuy >=47 and yuy <=55:\n",
        "    criterios.append(\"AMARILLO\")\n",
        "  else:\n",
        "    criterios.append(\"ROJO\")"
      ],
      "metadata": {
        "id": "dcXDsv26dIhP",
        "colab": {
          "base_uri": "https://localhost:8080/",
          "height": 0
        },
        "outputId": "f43426b8-4310-43a2-bf1e-ee2671277f9b"
      },
      "id": "dcXDsv26dIhP",
      "execution_count": 34,
      "outputs": [
        {
          "output_type": "stream",
          "name": "stdout",
          "text": [
            "Hay 2.6% de probabilidad de aumento de \n",
            " las ganancias netas en los próximos 2 meses\n"
          ]
        }
      ]
    },
    {
      "cell_type": "markdown",
      "id": "funded-definition",
      "metadata": {
        "id": "funded-definition"
      },
      "source": [
        "# Tercer criterio: Ingresos-Gastos (VPN) vs kilometraje\n"
      ]
    },
    {
      "cell_type": "markdown",
      "source": [
        "____________________________________________________________\n",
        "Descripción: Un supuesto razonable para un vehículo-taxi rentable, es que la ganancia sea proporcional al kilometraje, lo que es, que estas dos variables formen una línea recta. Así, un parámetro clave para el análisis de la factibilidad es el coeficiente R2, que da cuenta de qué tanto se puede explicar del VPN con el kilometraje, el R2 DEBE ser mayor a 0.9 para que se asegure que la ganancia (VPN) crezca con el kilometraje. Al final de esta sección está el resultado.\n",
        "____________________________________________________________"
      ],
      "metadata": {
        "id": "3icEKgXVvV6T"
      },
      "id": "3icEKgXVvV6T"
    },
    {
      "cell_type": "markdown",
      "source": [
        "##Cálculos y gráficas"
      ],
      "metadata": {
        "id": "tF_Rgn-Kx3sg"
      },
      "id": "tF_Rgn-Kx3sg"
    },
    {
      "cell_type": "code",
      "execution_count": 35,
      "id": "lightweight-permit",
      "metadata": {
        "id": "lightweight-permit"
      },
      "outputs": [],
      "source": [
        "%%capture\n",
        "km=pd.read_excel(r\"gps.xlsx\",skiprows=(0,1,2,3,4),\n",
        "                  parse_dates=[\"FECHA\"],\n",
        "date_parser=lambda x: pd.to_datetime(x, format=\"%d/%m/%Y\"), \n",
        "index_col=\"FECHA\")\n",
        "km.index=pd.to_datetime(pd.date_range(km.index[0],periods=len(km[\"PLACA\"]),freq=\"d\"))\n",
        "km_n=copy.deepcopy(km.fillna(0))\n",
        "del km\n",
        "km_n\n",
        "km=copy.deepcopy(km_n)\n",
        "del km_n\n",
        "#km"
      ]
    },
    {
      "cell_type": "markdown",
      "source": [
        "Gráfica VPN vs kilometraje"
      ],
      "metadata": {
        "id": "RBBKCvFt9wyB"
      },
      "id": "RBBKCvFt9wyB"
    },
    {
      "cell_type": "code",
      "execution_count": 36,
      "id": "answering-plenty",
      "metadata": {
        "id": "answering-plenty"
      },
      "outputs": [],
      "source": [
        "\n",
        "#plt.figure()\n",
        "\n",
        "#plt.plot(km.index,km[\"KM_ACUMULADO\"])\n",
        "km[\"acum2\"]=copy.deepcopy(km[\"KIL_DIA\"])\n",
        "km[\"km_dia\"]=copy.deepcopy(km[\"KIL_DIA\"])\n",
        "km.loc[km.index[0],\"acum2\"]=copy.deepcopy(km[\"KM_ACUMULADO\"][0])\n",
        "km[\"acum2\"]=copy.deepcopy(km[\"acum2\"].cumsum())\n",
        "#plt.plot(km[\"acum2\"],km[\"vpn\"])\n",
        "\n",
        "#plt.show()"
      ]
    },
    {
      "cell_type": "code",
      "execution_count": 37,
      "id": "cellular-circus",
      "metadata": {
        "id": "cellular-circus",
        "colab": {
          "base_uri": "https://localhost:8080/",
          "height": 0
        },
        "outputId": "8fb507d5-7ec3-47da-8641-e6db35bc39e8"
      },
      "outputs": [
        {
          "output_type": "execute_result",
          "data": {
            "text/plain": [
              "            ingresos   gastos            Fi           vpn    km_acum  km_dia\n",
              "index                                                                       \n",
              "2022-10-27      72.0      0.0     57.687263 -3.972342e+06  164850.63  179.79\n",
              "2022-10-28     110.0      0.0     88.103951 -3.972254e+06  164996.36  145.73\n",
              "2022-10-29     110.0  20003.0 -15927.889787 -3.988182e+06  165167.98  171.62\n",
              "2022-10-30     105.0      0.0     84.043188 -3.988098e+06  165326.05  158.07\n",
              "2022-10-31     110.0      0.0     88.015906 -3.988010e+06  165333.15    7.10"
            ],
            "text/html": [
              "\n",
              "  <div id=\"df-77f6a89b-0fa7-4559-bae1-8dca0a063a33\">\n",
              "    <div class=\"colab-df-container\">\n",
              "      <div>\n",
              "<style scoped>\n",
              "    .dataframe tbody tr th:only-of-type {\n",
              "        vertical-align: middle;\n",
              "    }\n",
              "\n",
              "    .dataframe tbody tr th {\n",
              "        vertical-align: top;\n",
              "    }\n",
              "\n",
              "    .dataframe thead th {\n",
              "        text-align: right;\n",
              "    }\n",
              "</style>\n",
              "<table border=\"1\" class=\"dataframe\">\n",
              "  <thead>\n",
              "    <tr style=\"text-align: right;\">\n",
              "      <th></th>\n",
              "      <th>ingresos</th>\n",
              "      <th>gastos</th>\n",
              "      <th>Fi</th>\n",
              "      <th>vpn</th>\n",
              "      <th>km_acum</th>\n",
              "      <th>km_dia</th>\n",
              "    </tr>\n",
              "    <tr>\n",
              "      <th>index</th>\n",
              "      <th></th>\n",
              "      <th></th>\n",
              "      <th></th>\n",
              "      <th></th>\n",
              "      <th></th>\n",
              "      <th></th>\n",
              "    </tr>\n",
              "  </thead>\n",
              "  <tbody>\n",
              "    <tr>\n",
              "      <th>2022-10-27</th>\n",
              "      <td>72.0</td>\n",
              "      <td>0.0</td>\n",
              "      <td>57.687263</td>\n",
              "      <td>-3.972342e+06</td>\n",
              "      <td>164850.63</td>\n",
              "      <td>179.79</td>\n",
              "    </tr>\n",
              "    <tr>\n",
              "      <th>2022-10-28</th>\n",
              "      <td>110.0</td>\n",
              "      <td>0.0</td>\n",
              "      <td>88.103951</td>\n",
              "      <td>-3.972254e+06</td>\n",
              "      <td>164996.36</td>\n",
              "      <td>145.73</td>\n",
              "    </tr>\n",
              "    <tr>\n",
              "      <th>2022-10-29</th>\n",
              "      <td>110.0</td>\n",
              "      <td>20003.0</td>\n",
              "      <td>-15927.889787</td>\n",
              "      <td>-3.988182e+06</td>\n",
              "      <td>165167.98</td>\n",
              "      <td>171.62</td>\n",
              "    </tr>\n",
              "    <tr>\n",
              "      <th>2022-10-30</th>\n",
              "      <td>105.0</td>\n",
              "      <td>0.0</td>\n",
              "      <td>84.043188</td>\n",
              "      <td>-3.988098e+06</td>\n",
              "      <td>165326.05</td>\n",
              "      <td>158.07</td>\n",
              "    </tr>\n",
              "    <tr>\n",
              "      <th>2022-10-31</th>\n",
              "      <td>110.0</td>\n",
              "      <td>0.0</td>\n",
              "      <td>88.015906</td>\n",
              "      <td>-3.988010e+06</td>\n",
              "      <td>165333.15</td>\n",
              "      <td>7.10</td>\n",
              "    </tr>\n",
              "  </tbody>\n",
              "</table>\n",
              "</div>\n",
              "      <button class=\"colab-df-convert\" onclick=\"convertToInteractive('df-77f6a89b-0fa7-4559-bae1-8dca0a063a33')\"\n",
              "              title=\"Convert this dataframe to an interactive table.\"\n",
              "              style=\"display:none;\">\n",
              "        \n",
              "  <svg xmlns=\"http://www.w3.org/2000/svg\" height=\"24px\"viewBox=\"0 0 24 24\"\n",
              "       width=\"24px\">\n",
              "    <path d=\"M0 0h24v24H0V0z\" fill=\"none\"/>\n",
              "    <path d=\"M18.56 5.44l.94 2.06.94-2.06 2.06-.94-2.06-.94-.94-2.06-.94 2.06-2.06.94zm-11 1L8.5 8.5l.94-2.06 2.06-.94-2.06-.94L8.5 2.5l-.94 2.06-2.06.94zm10 10l.94 2.06.94-2.06 2.06-.94-2.06-.94-.94-2.06-.94 2.06-2.06.94z\"/><path d=\"M17.41 7.96l-1.37-1.37c-.4-.4-.92-.59-1.43-.59-.52 0-1.04.2-1.43.59L10.3 9.45l-7.72 7.72c-.78.78-.78 2.05 0 2.83L4 21.41c.39.39.9.59 1.41.59.51 0 1.02-.2 1.41-.59l7.78-7.78 2.81-2.81c.8-.78.8-2.07 0-2.86zM5.41 20L4 18.59l7.72-7.72 1.47 1.35L5.41 20z\"/>\n",
              "  </svg>\n",
              "      </button>\n",
              "      \n",
              "  <style>\n",
              "    .colab-df-container {\n",
              "      display:flex;\n",
              "      flex-wrap:wrap;\n",
              "      gap: 12px;\n",
              "    }\n",
              "\n",
              "    .colab-df-convert {\n",
              "      background-color: #E8F0FE;\n",
              "      border: none;\n",
              "      border-radius: 50%;\n",
              "      cursor: pointer;\n",
              "      display: none;\n",
              "      fill: #1967D2;\n",
              "      height: 32px;\n",
              "      padding: 0 0 0 0;\n",
              "      width: 32px;\n",
              "    }\n",
              "\n",
              "    .colab-df-convert:hover {\n",
              "      background-color: #E2EBFA;\n",
              "      box-shadow: 0px 1px 2px rgba(60, 64, 67, 0.3), 0px 1px 3px 1px rgba(60, 64, 67, 0.15);\n",
              "      fill: #174EA6;\n",
              "    }\n",
              "\n",
              "    [theme=dark] .colab-df-convert {\n",
              "      background-color: #3B4455;\n",
              "      fill: #D2E3FC;\n",
              "    }\n",
              "\n",
              "    [theme=dark] .colab-df-convert:hover {\n",
              "      background-color: #434B5C;\n",
              "      box-shadow: 0px 1px 3px 1px rgba(0, 0, 0, 0.15);\n",
              "      filter: drop-shadow(0px 1px 2px rgba(0, 0, 0, 0.3));\n",
              "      fill: #FFFFFF;\n",
              "    }\n",
              "  </style>\n",
              "\n",
              "      <script>\n",
              "        const buttonEl =\n",
              "          document.querySelector('#df-77f6a89b-0fa7-4559-bae1-8dca0a063a33 button.colab-df-convert');\n",
              "        buttonEl.style.display =\n",
              "          google.colab.kernel.accessAllowed ? 'block' : 'none';\n",
              "\n",
              "        async function convertToInteractive(key) {\n",
              "          const element = document.querySelector('#df-77f6a89b-0fa7-4559-bae1-8dca0a063a33');\n",
              "          const dataTable =\n",
              "            await google.colab.kernel.invokeFunction('convertToInteractive',\n",
              "                                                     [key], {});\n",
              "          if (!dataTable) return;\n",
              "\n",
              "          const docLinkHtml = 'Like what you see? Visit the ' +\n",
              "            '<a target=\"_blank\" href=https://colab.research.google.com/notebooks/data_table.ipynb>data table notebook</a>'\n",
              "            + ' to learn more about interactive tables.';\n",
              "          element.innerHTML = '';\n",
              "          dataTable['output_type'] = 'display_data';\n",
              "          await google.colab.output.renderOutput(dataTable, element);\n",
              "          const docLink = document.createElement('div');\n",
              "          docLink.innerHTML = docLinkHtml;\n",
              "          element.appendChild(docLink);\n",
              "        }\n",
              "      </script>\n",
              "    </div>\n",
              "  </div>\n",
              "  "
            ]
          },
          "metadata": {},
          "execution_count": 37
        }
      ],
      "source": [
        "ingre_gas_vpn[\"km_acum\"]=km[\"acum2\"]\n",
        "ingre_gas_vpn[\"km_dia\"]=km[\"km_dia\"]\n",
        "ingre_gas_vpn_km=copy.deepcopy(ingre_gas_vpn.fillna(0))\n",
        "del ingre_gas_vpn\n",
        "ingre_gas_vpn_km.tail(5)"
      ]
    },
    {
      "cell_type": "markdown",
      "id": "dependent-clinton",
      "metadata": {
        "id": "dependent-clinton"
      },
      "source": [
        "Fecha en que se empiezan a tomar datos de km: (datos de ingresos hay desde 2020"
      ]
    },
    {
      "cell_type": "code",
      "execution_count": 38,
      "id": "positive-philosophy",
      "metadata": {
        "id": "positive-philosophy",
        "colab": {
          "base_uri": "https://localhost:8080/",
          "height": 0
        },
        "outputId": "0ae75d44-15a8-49a8-d59c-a37c1ef20ca7"
      },
      "outputs": [
        {
          "output_type": "execute_result",
          "data": {
            "text/plain": [
              "Timestamp('2021-01-02 00:00:00')"
            ]
          },
          "metadata": {},
          "execution_count": 38
        }
      ],
      "source": [
        "fil=(ingre_gas_vpn_km[\"km_acum\"]>0) & (ingre_gas_vpn_km[\"ingresos\"]>0) & ingre_gas_vpn_km[\"gastos\"]>0\n",
        "ingre_gas_vpn_km[fil].index[0]"
      ]
    },
    {
      "cell_type": "code",
      "execution_count": 39,
      "id": "revised-situation",
      "metadata": {
        "colab": {
          "base_uri": "https://localhost:8080/",
          "height": 0,
          "referenced_widgets": [
            "458286cc30774363888f7a6fec2e3a6c",
            "22b1d944e917423a9d45ea1e5a8c72fb",
            "199a6de1a5b74155bcdfb98b11d5fe24",
            "865f73ea153e4a2e86f8401d01375a0d"
          ]
        },
        "id": "revised-situation",
        "outputId": "076ab36e-8abd-4d00-ecad-aa28f223a0c4"
      },
      "outputs": [
        {
          "output_type": "stream",
          "name": "stdout",
          "text": [
            "Gráfica KM vs fechas \n"
          ]
        },
        {
          "output_type": "display_data",
          "data": {
            "text/plain": [
              "Canvas(toolbar=Toolbar(toolitems=[('Home', 'Reset original view', 'home', 'home'), ('Back', 'Back to previous …"
            ],
            "image/png": "[encoded data removed]",
            "text/html": [
              "\n",
              "            <div style=\"display: inline-block;\">\n",
              "                <div class=\"jupyter-widgets widget-label\" style=\"text-align: center;\">\n",
              "                    Figure\n",
              "                </div>\n",
              "                <img src='data:image/png;base64,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' width=432.0/>\n",
              "            </div>\n",
              "        "
            ],
            "application/vnd.jupyter.widget-view+json": {
              "version_major": 2,
              "version_minor": 0,
              "model_id": "458286cc30774363888f7a6fec2e3a6c"
            }
          },
          "metadata": {
            "application/vnd.jupyter.widget-view+json": {
              "colab": {
                "custom_widget_manager": {
                  "url": "https://ssl.gstatic.com/colaboratory-static/widgets/colab-cdn-widget-manager/d2e234f7cc04bf79/manager.min.js"
                }
              }
            }
          }
        }
      ],
      "source": [
        "X=ingre_gas_vpn_km[fil].index\n",
        "Y3=ingre_gas_vpn_km[fil][\"km_acum\"]\n",
        "\n",
        "plt.figure()\n",
        "plt.plot_date(X,Y3)\n",
        "plt.grid()\n",
        "#plt.legend(loc=\"best\")\n",
        "#plt.figure(figsize=(8, 6), dpi=180)\n",
        "plt.xlabel(\"X\")\n",
        "plt.ylabel(\"Y\")\n",
        "#plt.savefig(\"grafica_vpn.pdf\")\n",
        "print(\"Gráfica KM vs fechas \")\n",
        "plt.show()"
      ]
    },
    {
      "cell_type": "code",
      "source": [
        "np.mean(np.diff(Y3))#/(np.diff(Y3)+1e-2))"
      ],
      "metadata": {
        "colab": {
          "base_uri": "https://localhost:8080/",
          "height": 0
        },
        "id": "3FxHHs5BXRdm",
        "outputId": "2602bcaa-6e9a-48da-be0d-ce5b459c494d"
      },
      "id": "3FxHHs5BXRdm",
      "execution_count": 40,
      "outputs": [
        {
          "output_type": "execute_result",
          "data": {
            "text/plain": [
              "806.7626315789472"
            ]
          },
          "metadata": {},
          "execution_count": 40
        }
      ]
    },
    {
      "cell_type": "code",
      "source": [
        "diasINT=[]\n",
        "for i in range(len(X)-1):\n",
        "  gggd=X[1+i]-X[0+i]\n",
        "  diasINT.append(gggd.days)\n",
        "np.mean(diasINT)"
      ],
      "metadata": {
        "colab": {
          "base_uri": "https://localhost:8080/",
          "height": 0
        },
        "id": "LAkg6wmMX1ck",
        "outputId": "3b54b23d-47a0-4bf2-e2d3-b91fc17a0f56"
      },
      "id": "LAkg6wmMX1ck",
      "execution_count": 41,
      "outputs": [
        {
          "output_type": "execute_result",
          "data": {
            "text/plain": [
              "5.0"
            ]
          },
          "metadata": {},
          "execution_count": 41
        }
      ]
    },
    {
      "cell_type": "code",
      "execution_count": 42,
      "id": "legislative-demonstration",
      "metadata": {
        "id": "legislative-demonstration"
      },
      "outputs": [],
      "source": [
        "ejeX=ingre_gas_vpn_km[fil][\"km_acum\"].values\n",
        "####ejeX=matplotlib.dates.date2num(ejeX[ejeX==ejeX])\n",
        "ejeY=pd.to_numeric(ingre_gas_vpn_km[fil][\"vpn\"])\n",
        "#ejeY=pd.to_numeric(ingre_gas_vpn_km[fil][\"ingresos\"])\n",
        "X=ejeX\n",
        "del ejeX\n",
        "Y=ejeY\n",
        "del ejeY\n",
        "X=X[np.in1d(Y,Y[Y==Y])].reshape(-1,1)\n",
        "Y=Y[Y==Y].values.reshape(-1,1)\n",
        "X=sm.add_constant(X)\n",
        "model = sm.OLS(Y, X).fit()\n"
      ]
    },
    {
      "cell_type": "code",
      "source": [
        "(model.params, model.rsquared,model.pvalues)"
      ],
      "metadata": {
        "id": "4Z8ekzb9hfYm",
        "colab": {
          "base_uri": "https://localhost:8080/",
          "height": 0
        },
        "outputId": "5e383c82-ccf9-44c1-db4a-ad7893064a85"
      },
      "id": "4Z8ekzb9hfYm",
      "execution_count": 43,
      "outputs": [
        {
          "output_type": "execute_result",
          "data": {
            "text/plain": [
              "(array([ 3.36504054e+06, -4.04968928e+01]),\n",
              " 0.9093023788318142,\n",
              " array([2.40255471e-49, 1.15473651e-70]))"
            ]
          },
          "metadata": {},
          "execution_count": 43
        }
      ]
    },
    {
      "cell_type": "markdown",
      "source": [
        "Intervalos de confianza de la regresión:"
      ],
      "metadata": {
        "id": "eeQEkT4sZ1rb"
      },
      "id": "eeQEkT4sZ1rb"
    },
    {
      "cell_type": "code",
      "source": [
        "st, data, ss2 = summary_table(model, alpha=0.05)\n",
        "\n",
        "fittedvalues = data[:, 2]\n",
        "predict_mean_se  = data[:, 3]\n",
        "predict_mean_ci_low, predict_mean_ci_upp = data[:, 4:6].T\n",
        "predict_ci_low, predict_ci_upp = data[:, 6:8].T"
      ],
      "metadata": {
        "id": "PeGKQv1mocYx"
      },
      "id": "PeGKQv1mocYx",
      "execution_count": 44,
      "outputs": []
    },
    {
      "cell_type": "code",
      "source": [
        "#plt.figure()\n",
        "\n",
        "\n",
        "#plt.rcParams[\"figure.figsize\"] = [7.00, 3.50]\n",
        "plt.rcParams[\"figure.autolayout\"] = True\n",
        "\n",
        "def mouse_event(event):\n",
        "    print('x: {} and y: {}'.format(event.xdata, event.ydata))\n",
        "\n",
        "fig = plt.figure()\n",
        "cid = fig.canvas.mpl_connect('button_press_event', mouse_event)\n",
        "\n",
        "\n",
        "\n",
        "plt.plot(X[:,1],model.predict(X))\n",
        "\n",
        "plt.scatter(X[:,1],Y)\n",
        "\n",
        "plt.fill_between(X[:,1],\n",
        "                predict_ci_low,\n",
        "                predict_ci_upp,\n",
        "                color=\"teal\",alpha=0.25)\n",
        "\n",
        "#plt.fill_between(X[:,1],\n",
        "#                predict_mean_ci_low,\n",
        "#                predict_mean_ci_upp,\n",
        "#                color=\"r\",alpha=0.35)\n",
        "#print(\"Datos y REGRESIÓN vpn vs kilometraje\")\n",
        "plt.show()\n",
        "\n"
      ],
      "metadata": {
        "id": "XMaNi41BfWpB",
        "colab": {
          "base_uri": "https://localhost:8080/",
          "height": 0,
          "referenced_widgets": [
            "9fc541249a3140198a9ef0ad5b5d6e48",
            "b1200c66a3c84bc19e78359402072d97",
            "10da71a8edb94682aeb3b24e1220e606",
            "6564428211d642af8b0b1347069515e7"
          ]
        },
        "outputId": "e067c4e3-5d28-480f-9860-3d8922c869a7"
      },
      "id": "XMaNi41BfWpB",
      "execution_count": 45,
      "outputs": [
        {
          "output_type": "display_data",
          "data": {
            "text/plain": [
              "Canvas(toolbar=Toolbar(toolitems=[('Home', 'Reset original view', 'home', 'home'), ('Back', 'Back to previous …"
            ],
            "image/png": "[encoded data removed]",
            "text/html": [
              "\n",
              "            <div style=\"display: inline-block;\">\n",
              "                <div class=\"jupyter-widgets widget-label\" style=\"text-align: center;\">\n",
              "                    Figure\n",
              "                </div>\n",
              "                <img src='data:image/png;base64,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' width=432.0/>\n",
              "            </div>\n",
              "        "
            ],
            "application/vnd.jupyter.widget-view+json": {
              "version_major": 2,
              "version_minor": 0,
              "model_id": "9fc541249a3140198a9ef0ad5b5d6e48"
            }
          },
          "metadata": {
            "application/vnd.jupyter.widget-view+json": {
              "colab": {
                "custom_widget_manager": {
                  "url": "https://ssl.gstatic.com/colaboratory-static/widgets/colab-cdn-widget-manager/d2e234f7cc04bf79/manager.min.js"
                }
              }
            }
          }
        }
      ]
    },
    {
      "cell_type": "code",
      "source": [
        "np.mean((np.diff(model.predict(X)))/(np.diff(X[:,1])+1e-2))"
      ],
      "metadata": {
        "id": "JBA06xb3Pk9s",
        "colab": {
          "base_uri": "https://localhost:8080/",
          "height": 0
        },
        "outputId": "dcc11cb2-3ff6-4cb8-e4b4-e330562cea09"
      },
      "id": "JBA06xb3Pk9s",
      "execution_count": 46,
      "outputs": [
        {
          "output_type": "execute_result",
          "data": {
            "text/plain": [
              "-40.18070316260605"
            ]
          },
          "metadata": {},
          "execution_count": 46
        }
      ]
    },
    {
      "cell_type": "code",
      "source": [
        "(model.predict(X)).min()"
      ],
      "metadata": {
        "id": "5QOA0u3_Qeak",
        "colab": {
          "base_uri": "https://localhost:8080/",
          "height": 0
        },
        "outputId": "7d91e364-41d5-426f-dc44-d0fccd8eae2b"
      },
      "id": "5QOA0u3_Qeak",
      "execution_count": 47,
      "outputs": [
        {
          "output_type": "execute_result",
          "data": {
            "text/plain": [
              "-3323749.430944508"
            ]
          },
          "metadata": {},
          "execution_count": 47
        }
      ]
    },
    {
      "cell_type": "code",
      "source": [
        "pd.set_option(\"display.max_rows\", None)\n",
        "#ingre_gas_vpn_km[fil]\n"
      ],
      "metadata": {
        "id": "wePZxUrPkrUr"
      },
      "id": "wePZxUrPkrUr",
      "execution_count": 48,
      "outputs": []
    },
    {
      "cell_type": "markdown",
      "source": [
        "##Resultado:"
      ],
      "metadata": {
        "id": "XW83iiT7xxkC"
      },
      "id": "XW83iiT7xxkC"
    },
    {
      "cell_type": "code",
      "source": [
        "#ingre_gas_vpn_km[fil].to_csv(r\"/content/tabla_vpn_km.csv\",encoding='utf-8-sig')\n",
        "if model.rsquared <0.9:\n",
        "  if model.rsquared >=0.7 and model.rsquared<0.9:\n",
        "    criterios.append(\"AMARILLO\")\n",
        "    print(f\"El valor del coef R2 es de {model.rsquared} y por tanto, hay evidencia para saber que los últimos valores de la anterior gráfica decrecen\")\n",
        "  else:\n",
        "    criterios.append(\"ROJO\")\n",
        "    print(f\"El valor del coef R2 es de {model.rsquared} y por tanto, hay evidencia para saber que los últimos valores de la anterior gráfica decrecen fuertemente\")\n",
        "else:\n",
        "  criterios.append(\"VERDE\")\n",
        "  print(f\"Hay fuerte evidencia de que el VPN sigue aumentando con el kilometraje,\\n la ganancia acumulada (VPN) aumenta {np.round(1000*model.params[1],2)} $/km_acum aprox.\\n Se puede verificar esta afirmación con la gráfica\\n y los Intervalos de confianza calculados al 95% \")"
      ],
      "metadata": {
        "id": "SvsnUxyOmIr-",
        "colab": {
          "base_uri": "https://localhost:8080/",
          "height": 86
        },
        "outputId": "328edab0-34d3-48e0-f4d4-060ea204fc42"
      },
      "id": "SvsnUxyOmIr-",
      "execution_count": 50,
      "outputs": [
        {
          "output_type": "stream",
          "name": "stdout",
          "text": [
            "Hay fuerte evidencia de que el VPN sigue aumentando con el kilometraje,\n",
            " la ganancia acumulada (VPN) aumenta -40496.89 $/km_acum aprox.\n",
            " Se puede verificar esta afirmación con la gráfica\n",
            " y los Intervalos de confianza calculados al 95% \n"
          ]
        }
      ]
    },
    {
      "cell_type": "markdown",
      "source": [
        "###**Estimación de ganancias a partir con el kilometraje**\n",
        "# (opcional, para leer la gráfica anterior):"
      ],
      "metadata": {
        "id": "zzwFw-Y7iXOM"
      },
      "id": "zzwFw-Y7iXOM"
    },
    {
      "cell_type": "markdown",
      "source": [
        "Ingrese el kilometraje del vehículo en la siguiente celda:"
      ],
      "metadata": {
        "id": "9kNXbaDyieAc"
      },
      "id": "9kNXbaDyieAc"
    },
    {
      "cell_type": "code",
      "source": [
        "kilom=125000"
      ],
      "metadata": {
        "id": "kvuX1w7ij_MR"
      },
      "id": "kvuX1w7ij_MR",
      "execution_count": 51,
      "outputs": []
    },
    {
      "cell_type": "code",
      "source": [
        "\n",
        "moneda=\"{:,}\".format(np.round((kilom*model.params[1]+model.params[0])*1000,2))\n",
        "print(f\"El valor esperado de ganancia acumulada TOTAL,\\n con un kilometraje de {kilom}, es:  ${moneda}\")"
      ],
      "metadata": {
        "id": "CDkCofA6H6kt",
        "colab": {
          "base_uri": "https://localhost:8080/",
          "height": 52
        },
        "outputId": "3193ffb9-7c70-472c-eafe-c1dc6de2d19a"
      },
      "id": "CDkCofA6H6kt",
      "execution_count": 52,
      "outputs": [
        {
          "output_type": "stream",
          "name": "stdout",
          "text": [
            "El valor esperado de ganancia acumulada TOTAL,\n",
            " con un kilometraje de 125000, es:  $-1,697,071,052.22\n"
          ]
        }
      ]
    },
    {
      "cell_type": "code",
      "source": [],
      "metadata": {
        "id": "3GSbiTZultxl"
      },
      "id": "3GSbiTZultxl",
      "execution_count": 52,
      "outputs": []
    },
    {
      "cell_type": "code",
      "source": [
        "#pd.set_option(\"display.max_rows\", None)\n"
      ],
      "metadata": {
        "id": "ax6U3tISl11r"
      },
      "execution_count": 53,
      "outputs": [],
      "id": "ax6U3tISl11r"
    },
    {
      "cell_type": "markdown",
      "source": [
        "#Cuarto Criterio: Relación Ganancia_Acum/kilometraje \n",
        "\n",
        "Se trata de un criterio flexible que, en el mejor de los casos, debe dar VERDE, lo que significaría que en proporción, aumenta más rápido la ganancia que el kilometraje. En otras palabras, se tarda menos en acumular ganancia con base en los kilómetros recorridos (no necesariamente en tiempo)\n",
        "\n",
        "No es un criterio de que el vehículo no sea rentable, sino de cuán rápido aumenta su ganancia con cada kilómetro"
      ],
      "metadata": {
        "id": "DyBdvzJ1q6CA"
      },
      "id": "DyBdvzJ1q6CA"
    },
    {
      "cell_type": "markdown",
      "source": [
        "____________________________________________________________\n",
        "**Descripción**: Si se piensa en un índice que dé cuenta de la rentabilidad de un vehículo, el más intuitivo puede ser VPN/kilometraje, porque, el punto deseable es que este índice deba ser máximo y creciente, es decir, el mejor escenario es tener la mayor ganancia con el menor gasto del kilometraje. Se calcula este índice para los últimos 8 meses y se espera que sea creciente en el tiempo.\n",
        "\n",
        "\n",
        "____________________________________________________________"
      ],
      "metadata": {
        "id": "R4i3QpY4wMr0"
      },
      "id": "R4i3QpY4wMr0"
    },
    {
      "cell_type": "markdown",
      "source": [
        "##Cálculos y gráficos"
      ],
      "metadata": {
        "id": "mU8A6NA6yqpg"
      },
      "id": "mU8A6NA6yqpg"
    },
    {
      "cell_type": "code",
      "source": [
        "#from google.colab import output\n",
        "#output.disable_custom_widget_manager()\n",
        "#plt.figure()\n",
        "%matplotlib inline\n",
        "plt.plot(ingre_gas_vpn_km[fil].index,(ingre_gas_vpn_km[fil][\"vpn\"]/ingre_gas_vpn_km[fil][\"km_acum\"]))\n",
        "#pd.DataFrame(list(zip(Y,X[:,1])),columns =['vpn', 'kilometraje']).to_csv(r\"/content/tabla_vpn_km.csv\",encoding='utf-8-sig')\n",
        "\n",
        "plt.scatter(ingre_gas_vpn_km[fil].index,Y.reshape(-1)/X[:,1],marker=\"2\")\n",
        "plt.show()"
      ],
      "metadata": {
        "id": "96h_gIrKJOgd",
        "colab": {
          "base_uri": "https://localhost:8080/",
          "height": 0
        },
        "outputId": "e877fea8-26db-42fa-b48d-bbddef0a150c"
      },
      "id": "96h_gIrKJOgd",
      "execution_count": 54,
      "outputs": [
        {
          "output_type": "display_data",
          "data": {
            "text/plain": [
              "<Figure size 432x288 with 1 Axes>"
            ],
            "image/png": "[encoded data removed]"
          },
          "metadata": {
            "needs_background": "light"
          }
        }
      ]
    },
    {
      "cell_type": "code",
      "source": [
        "#plt.plot(np.diff(X[:,1]))"
      ],
      "metadata": {
        "id": "kRrAl9rK9zyQ"
      },
      "id": "kRrAl9rK9zyQ",
      "execution_count": 55,
      "outputs": []
    },
    {
      "cell_type": "code",
      "source": [
        "#plt.plot(np.diff(Y.reshape(-1)))"
      ],
      "metadata": {
        "id": "EGVRkoGnMisq"
      },
      "id": "EGVRkoGnMisq",
      "execution_count": 56,
      "outputs": []
    },
    {
      "cell_type": "code",
      "source": [
        "\n",
        "df = pd.DataFrame(list(zip(Y,X[:,1])),\n",
        "               columns =['vpn', 'kilometraje'])\n",
        "#df.sort_values(by=\"Frecuencia\",ascending=False).head(10)"
      ],
      "metadata": {
        "id": "0ZW1yMLH_Pf5"
      },
      "execution_count": 57,
      "outputs": [],
      "id": "0ZW1yMLH_Pf5"
    },
    {
      "cell_type": "code",
      "source": [
        "ingre_gas_vpn_km#[(ingre_gas_vpn_km.index[-1]-datetime.timedelta(61))]\n",
        "a=ingre_gas_vpn_km.iloc[[ -1 ]][\"vpn\"]/ingre_gas_vpn_km.iloc[[ -1]][\"km_acum\"]\n",
        "jj=30\n",
        "b=ingre_gas_vpn_km.iloc[[ -1 -jj]][\"vpn\"]/ingre_gas_vpn_km.iloc[[ -1-jj]][\"km_acum\"]\n",
        "c=ingre_gas_vpn_km.iloc[[ -1 -jj*2]][\"vpn\"]/ingre_gas_vpn_km.iloc[[ -1-jj*2]][\"km_acum\"]\n",
        "d=ingre_gas_vpn_km.iloc[[ -1 -jj*4]][\"vpn\"]/ingre_gas_vpn_km.iloc[[ -1-jj*4]][\"km_acum\"]\n",
        "e=ingre_gas_vpn_km.iloc[[ -1 -jj*6]][\"vpn\"]/ingre_gas_vpn_km.iloc[[ -1-jj*6]][\"km_acum\"]\n",
        "f=ingre_gas_vpn_km.iloc[[ -1 -jj*8]][\"vpn\"]/ingre_gas_vpn_km.iloc[[ -1-jj*8]][\"km_acum\"]\n",
        "if a.values.item()> b.values.item()> c.values.item()> d.values.item()> e.values.item()> f.values.item():\n",
        "  criterios.append(\"VERDE\")\n",
        "  p1=\"El vehículo se encuentra en fase rentable, pues él índice \\n VPN/km viene creciendo hace 8 meses hasta hoy \"\n",
        "else:\n",
        "  if a.values.item()> b.values.item()> c.values.item():\n",
        "    criterios.append(\"AMARILLO\")\n",
        "    p1=\"El vehículo presenta mucha incertidumbre respecto a la rentabilidad\"\n",
        "  else:\n",
        "    criterios.append(\"ROJO\")\n",
        "    p1=\"El vehículo presenta mucha incertidumbre respecto a la rentabilidad\"\n"
      ],
      "metadata": {
        "id": "7mq8CFjp7Yo7"
      },
      "id": "7mq8CFjp7Yo7",
      "execution_count": 58,
      "outputs": []
    },
    {
      "cell_type": "markdown",
      "source": [
        "##Resultado"
      ],
      "metadata": {
        "id": "u5ATO9spzJPV"
      },
      "id": "u5ATO9spzJPV"
    },
    {
      "cell_type": "code",
      "source": [
        "print(p1)"
      ],
      "metadata": {
        "id": "afSxOFnLy9Hk",
        "colab": {
          "base_uri": "https://localhost:8080/"
        },
        "outputId": "b8d678ab-a653-4090-f9d2-a50bba446abc"
      },
      "id": "afSxOFnLy9Hk",
      "execution_count": 59,
      "outputs": [
        {
          "output_type": "stream",
          "name": "stdout",
          "text": [
            "El vehículo presenta mucha incertidumbre respecto a la rentabilidad\n"
          ]
        }
      ]
    },
    {
      "cell_type": "markdown",
      "source": [
        "#RESUMEN de los Criterios:"
      ],
      "metadata": {
        "id": "zfJb9-NPY_9x"
      },
      "id": "zfJb9-NPY_9x"
    },
    {
      "cell_type": "code",
      "source": [
        "criterios"
      ],
      "metadata": {
        "colab": {
          "base_uri": "https://localhost:8080/"
        },
        "id": "aXZ9LVBnZHQw",
        "outputId": "9c5191e0-08ea-40a2-c2b1-a0f545e3c997"
      },
      "id": "aXZ9LVBnZHQw",
      "execution_count": 60,
      "outputs": [
        {
          "output_type": "execute_result",
          "data": {
            "text/plain": [
              "['AMARILLO', 'ROJO', 'VERDE', 'ROJO']"
            ]
          },
          "metadata": {},
          "execution_count": 60
        }
      ]
    },
    {
      "cell_type": "markdown",
      "source": [
        "#Diagnóstico de los Gastos"
      ],
      "metadata": {
        "id": "IT_5Myi37eWu"
      },
      "id": "IT_5Myi37eWu"
    },
    {
      "cell_type": "code",
      "source": [
        "datos1.head()"
      ],
      "metadata": {
        "colab": {
          "base_uri": "https://localhost:8080/",
          "height": 0
        },
        "id": "Ixs08itxf3Lx",
        "outputId": "d9f079a8-e8f2-46db-add1-e8d0b3112801"
      },
      "id": "Ixs08itxf3Lx",
      "execution_count": 61,
      "outputs": [
        {
          "output_type": "execute_result",
          "data": {
            "text/plain": [
              "     COD      FECHA   PLACA CANTIDAD    FACTURA  \\\n",
              "0  52939 2022-02-09  FXS804        1  CTA COBRO   \n",
              "1      1 2021-07-17  FXS804        1        NaN   \n",
              "2      1 2021-11-08  FXS804        1       1928   \n",
              "3      1 2022-03-14  FXS804        1       1529   \n",
              "4      1 2022-05-09  FXS804        1   TCFE1933   \n",
              "\n",
              "                                  CONCEPTO  \\\n",
              "0                              Computadora   \n",
              "1                             Kit Embrague   \n",
              "2                             Sacada Golpe   \n",
              "3  Pintura guardabarro delantero izquierdo   \n",
              "4                              Guardafango   \n",
              "\n",
              "                                         OBSERVACIÓN  VALOR UNITARIO    GASTOS  \n",
              "0                                   ANTENA Y ENLLAVE         600.000     600.0  \n",
              "1  BUJE TREN TRAS-ROTULAS-AXIALES-ABRAZ PLAST-TER...         581.437  581437.0  \n",
              "2  costilla izq, hechura costilla izq, sacada gol...         500.000     500.0  \n",
              "3  RETOQUE PUERTA DELANTERO IZQ,PUERTA TRASERA IZ...         485.000     485.0  \n",
              "4                                                NaN         476.000     476.0  "
            ],
            "text/html": [
              "\n",
              "  <div id=\"df-03ca9fc1-b608-49c6-aeca-d3e9860efcf6\">\n",
              "    <div class=\"colab-df-container\">\n",
              "      <div>\n",
              "<style scoped>\n",
              "    .dataframe tbody tr th:only-of-type {\n",
              "        vertical-align: middle;\n",
              "    }\n",
              "\n",
              "    .dataframe tbody tr th {\n",
              "        vertical-align: top;\n",
              "    }\n",
              "\n",
              "    .dataframe thead th {\n",
              "        text-align: right;\n",
              "    }\n",
              "</style>\n",
              "<table border=\"1\" class=\"dataframe\">\n",
              "  <thead>\n",
              "    <tr style=\"text-align: right;\">\n",
              "      <th></th>\n",
              "      <th>COD</th>\n",
              "      <th>FECHA</th>\n",
              "      <th>PLACA</th>\n",
              "      <th>CANTIDAD</th>\n",
              "      <th>FACTURA</th>\n",
              "      <th>CONCEPTO</th>\n",
              "      <th>OBSERVACIÓN</th>\n",
              "      <th>VALOR UNITARIO</th>\n",
              "      <th>GASTOS</th>\n",
              "    </tr>\n",
              "  </thead>\n",
              "  <tbody>\n",
              "    <tr>\n",
              "      <th>0</th>\n",
              "      <td>52939</td>\n",
              "      <td>2022-02-09</td>\n",
              "      <td>FXS804</td>\n",
              "      <td>1</td>\n",
              "      <td>CTA COBRO</td>\n",
              "      <td>Computadora</td>\n",
              "      <td>ANTENA Y ENLLAVE</td>\n",
              "      <td>600.000</td>\n",
              "      <td>600.0</td>\n",
              "    </tr>\n",
              "    <tr>\n",
              "      <th>1</th>\n",
              "      <td>1</td>\n",
              "      <td>2021-07-17</td>\n",
              "      <td>FXS804</td>\n",
              "      <td>1</td>\n",
              "      <td>NaN</td>\n",
              "      <td>Kit Embrague</td>\n",
              "      <td>BUJE TREN TRAS-ROTULAS-AXIALES-ABRAZ PLAST-TER...</td>\n",
              "      <td>581.437</td>\n",
              "      <td>581437.0</td>\n",
              "    </tr>\n",
              "    <tr>\n",
              "      <th>2</th>\n",
              "      <td>1</td>\n",
              "      <td>2021-11-08</td>\n",
              "      <td>FXS804</td>\n",
              "      <td>1</td>\n",
              "      <td>1928</td>\n",
              "      <td>Sacada Golpe</td>\n",
              "      <td>costilla izq, hechura costilla izq, sacada gol...</td>\n",
              "      <td>500.000</td>\n",
              "      <td>500.0</td>\n",
              "    </tr>\n",
              "    <tr>\n",
              "      <th>3</th>\n",
              "      <td>1</td>\n",
              "      <td>2022-03-14</td>\n",
              "      <td>FXS804</td>\n",
              "      <td>1</td>\n",
              "      <td>1529</td>\n",
              "      <td>Pintura guardabarro delantero izquierdo</td>\n",
              "      <td>RETOQUE PUERTA DELANTERO IZQ,PUERTA TRASERA IZ...</td>\n",
              "      <td>485.000</td>\n",
              "      <td>485.0</td>\n",
              "    </tr>\n",
              "    <tr>\n",
              "      <th>4</th>\n",
              "      <td>1</td>\n",
              "      <td>2022-05-09</td>\n",
              "      <td>FXS804</td>\n",
              "      <td>1</td>\n",
              "      <td>TCFE1933</td>\n",
              "      <td>Guardafango</td>\n",
              "      <td>NaN</td>\n",
              "      <td>476.000</td>\n",
              "      <td>476.0</td>\n",
              "    </tr>\n",
              "  </tbody>\n",
              "</table>\n",
              "</div>\n",
              "      <button class=\"colab-df-convert\" onclick=\"convertToInteractive('df-03ca9fc1-b608-49c6-aeca-d3e9860efcf6')\"\n",
              "              title=\"Convert this dataframe to an interactive table.\"\n",
              "              style=\"display:none;\">\n",
              "        \n",
              "  <svg xmlns=\"http://www.w3.org/2000/svg\" height=\"24px\"viewBox=\"0 0 24 24\"\n",
              "       width=\"24px\">\n",
              "    <path d=\"M0 0h24v24H0V0z\" fill=\"none\"/>\n",
              "    <path d=\"M18.56 5.44l.94 2.06.94-2.06 2.06-.94-2.06-.94-.94-2.06-.94 2.06-2.06.94zm-11 1L8.5 8.5l.94-2.06 2.06-.94-2.06-.94L8.5 2.5l-.94 2.06-2.06.94zm10 10l.94 2.06.94-2.06 2.06-.94-2.06-.94-.94-2.06-.94 2.06-2.06.94z\"/><path d=\"M17.41 7.96l-1.37-1.37c-.4-.4-.92-.59-1.43-.59-.52 0-1.04.2-1.43.59L10.3 9.45l-7.72 7.72c-.78.78-.78 2.05 0 2.83L4 21.41c.39.39.9.59 1.41.59.51 0 1.02-.2 1.41-.59l7.78-7.78 2.81-2.81c.8-.78.8-2.07 0-2.86zM5.41 20L4 18.59l7.72-7.72 1.47 1.35L5.41 20z\"/>\n",
              "  </svg>\n",
              "      </button>\n",
              "      \n",
              "  <style>\n",
              "    .colab-df-container {\n",
              "      display:flex;\n",
              "      flex-wrap:wrap;\n",
              "      gap: 12px;\n",
              "    }\n",
              "\n",
              "    .colab-df-convert {\n",
              "      background-color: #E8F0FE;\n",
              "      border: none;\n",
              "      border-radius: 50%;\n",
              "      cursor: pointer;\n",
              "      display: none;\n",
              "      fill: #1967D2;\n",
              "      height: 32px;\n",
              "      padding: 0 0 0 0;\n",
              "      width: 32px;\n",
              "    }\n",
              "\n",
              "    .colab-df-convert:hover {\n",
              "      background-color: #E2EBFA;\n",
              "      box-shadow: 0px 1px 2px rgba(60, 64, 67, 0.3), 0px 1px 3px 1px rgba(60, 64, 67, 0.15);\n",
              "      fill: #174EA6;\n",
              "    }\n",
              "\n",
              "    [theme=dark] .colab-df-convert {\n",
              "      background-color: #3B4455;\n",
              "      fill: #D2E3FC;\n",
              "    }\n",
              "\n",
              "    [theme=dark] .colab-df-convert:hover {\n",
              "      background-color: #434B5C;\n",
              "      box-shadow: 0px 1px 3px 1px rgba(0, 0, 0, 0.15);\n",
              "      filter: drop-shadow(0px 1px 2px rgba(0, 0, 0, 0.3));\n",
              "      fill: #FFFFFF;\n",
              "    }\n",
              "  </style>\n",
              "\n",
              "      <script>\n",
              "        const buttonEl =\n",
              "          document.querySelector('#df-03ca9fc1-b608-49c6-aeca-d3e9860efcf6 button.colab-df-convert');\n",
              "        buttonEl.style.display =\n",
              "          google.colab.kernel.accessAllowed ? 'block' : 'none';\n",
              "\n",
              "        async function convertToInteractive(key) {\n",
              "          const element = document.querySelector('#df-03ca9fc1-b608-49c6-aeca-d3e9860efcf6');\n",
              "          const dataTable =\n",
              "            await google.colab.kernel.invokeFunction('convertToInteractive',\n",
              "                                                     [key], {});\n",
              "          if (!dataTable) return;\n",
              "\n",
              "          const docLinkHtml = 'Like what you see? Visit the ' +\n",
              "            '<a target=\"_blank\" href=https://colab.research.google.com/notebooks/data_table.ipynb>data table notebook</a>'\n",
              "            + ' to learn more about interactive tables.';\n",
              "          element.innerHTML = '';\n",
              "          dataTable['output_type'] = 'display_data';\n",
              "          await google.colab.output.renderOutput(dataTable, element);\n",
              "          const docLink = document.createElement('div');\n",
              "          docLink.innerHTML = docLinkHtml;\n",
              "          element.appendChild(docLink);\n",
              "        }\n",
              "      </script>\n",
              "    </div>\n",
              "  </div>\n",
              "  "
            ]
          },
          "metadata": {},
          "execution_count": 61
        }
      ]
    },
    {
      "cell_type": "code",
      "source": [
        "datos1[\"GASTOS\"]=pd.to_numeric(datos1[\"GASTOS\"])\n",
        "hh=datos1[[\"GASTOS\"]].boxplot()"
      ],
      "metadata": {
        "id": "jH3JyjOffb60",
        "colab": {
          "base_uri": "https://localhost:8080/",
          "height": 0
        },
        "outputId": "bd8cc046-b0fb-47c6-81ab-6ce4696a9298"
      },
      "id": "jH3JyjOffb60",
      "execution_count": 62,
      "outputs": [
        {
          "output_type": "display_data",
          "data": {
            "text/plain": [
              "<Figure size 432x288 with 1 Axes>"
            ],
            "image/png": "[encoded data removed]"
          },
          "metadata": {
            "needs_background": "light"
          }
        }
      ]
    },
    {
      "cell_type": "code",
      "source": [
        "gg=datos1[[\"GASTOS\"]].describe()\n",
        "gg"
      ],
      "metadata": {
        "id": "4PU8hrwihUe_",
        "colab": {
          "base_uri": "https://localhost:8080/",
          "height": 0
        },
        "outputId": "2400b8de-cc61-4cf4-d5b0-e4848fd1e793"
      },
      "id": "4PU8hrwihUe_",
      "execution_count": 63,
      "outputs": [
        {
          "output_type": "execute_result",
          "data": {
            "text/plain": [
              "              GASTOS\n",
              "count     386.000000\n",
              "mean    16216.476684\n",
              "std     58332.592418\n",
              "min         2.000000\n",
              "25%        25.250000\n",
              "50%        45.500000\n",
              "75%       240.000000\n",
              "max    581437.000000"
            ],
            "text/html": [
              "\n",
              "  <div id=\"df-daf963a6-e433-488c-900f-251c7ba16eff\">\n",
              "    <div class=\"colab-df-container\">\n",
              "      <div>\n",
              "<style scoped>\n",
              "    .dataframe tbody tr th:only-of-type {\n",
              "        vertical-align: middle;\n",
              "    }\n",
              "\n",
              "    .dataframe tbody tr th {\n",
              "        vertical-align: top;\n",
              "    }\n",
              "\n",
              "    .dataframe thead th {\n",
              "        text-align: right;\n",
              "    }\n",
              "</style>\n",
              "<table border=\"1\" class=\"dataframe\">\n",
              "  <thead>\n",
              "    <tr style=\"text-align: right;\">\n",
              "      <th></th>\n",
              "      <th>GASTOS</th>\n",
              "    </tr>\n",
              "  </thead>\n",
              "  <tbody>\n",
              "    <tr>\n",
              "      <th>count</th>\n",
              "      <td>386.000000</td>\n",
              "    </tr>\n",
              "    <tr>\n",
              "      <th>mean</th>\n",
              "      <td>16216.476684</td>\n",
              "    </tr>\n",
              "    <tr>\n",
              "      <th>std</th>\n",
              "      <td>58332.592418</td>\n",
              "    </tr>\n",
              "    <tr>\n",
              "      <th>min</th>\n",
              "      <td>2.000000</td>\n",
              "    </tr>\n",
              "    <tr>\n",
              "      <th>25%</th>\n",
              "      <td>25.250000</td>\n",
              "    </tr>\n",
              "    <tr>\n",
              "      <th>50%</th>\n",
              "      <td>45.500000</td>\n",
              "    </tr>\n",
              "    <tr>\n",
              "      <th>75%</th>\n",
              "      <td>240.000000</td>\n",
              "    </tr>\n",
              "    <tr>\n",
              "      <th>max</th>\n",
              "      <td>581437.000000</td>\n",
              "    </tr>\n",
              "  </tbody>\n",
              "</table>\n",
              "</div>\n",
              "      <button class=\"colab-df-convert\" onclick=\"convertToInteractive('df-daf963a6-e433-488c-900f-251c7ba16eff')\"\n",
              "              title=\"Convert this dataframe to an interactive table.\"\n",
              "              style=\"display:none;\">\n",
              "        \n",
              "  <svg xmlns=\"http://www.w3.org/2000/svg\" height=\"24px\"viewBox=\"0 0 24 24\"\n",
              "       width=\"24px\">\n",
              "    <path d=\"M0 0h24v24H0V0z\" fill=\"none\"/>\n",
              "    <path d=\"M18.56 5.44l.94 2.06.94-2.06 2.06-.94-2.06-.94-.94-2.06-.94 2.06-2.06.94zm-11 1L8.5 8.5l.94-2.06 2.06-.94-2.06-.94L8.5 2.5l-.94 2.06-2.06.94zm10 10l.94 2.06.94-2.06 2.06-.94-2.06-.94-.94-2.06-.94 2.06-2.06.94z\"/><path d=\"M17.41 7.96l-1.37-1.37c-.4-.4-.92-.59-1.43-.59-.52 0-1.04.2-1.43.59L10.3 9.45l-7.72 7.72c-.78.78-.78 2.05 0 2.83L4 21.41c.39.39.9.59 1.41.59.51 0 1.02-.2 1.41-.59l7.78-7.78 2.81-2.81c.8-.78.8-2.07 0-2.86zM5.41 20L4 18.59l7.72-7.72 1.47 1.35L5.41 20z\"/>\n",
              "  </svg>\n",
              "      </button>\n",
              "      \n",
              "  <style>\n",
              "    .colab-df-container {\n",
              "      display:flex;\n",
              "      flex-wrap:wrap;\n",
              "      gap: 12px;\n",
              "    }\n",
              "\n",
              "    .colab-df-convert {\n",
              "      background-color: #E8F0FE;\n",
              "      border: none;\n",
              "      border-radius: 50%;\n",
              "      cursor: pointer;\n",
              "      display: none;\n",
              "      fill: #1967D2;\n",
              "      height: 32px;\n",
              "      padding: 0 0 0 0;\n",
              "      width: 32px;\n",
              "    }\n",
              "\n",
              "    .colab-df-convert:hover {\n",
              "      background-color: #E2EBFA;\n",
              "      box-shadow: 0px 1px 2px rgba(60, 64, 67, 0.3), 0px 1px 3px 1px rgba(60, 64, 67, 0.15);\n",
              "      fill: #174EA6;\n",
              "    }\n",
              "\n",
              "    [theme=dark] .colab-df-convert {\n",
              "      background-color: #3B4455;\n",
              "      fill: #D2E3FC;\n",
              "    }\n",
              "\n",
              "    [theme=dark] .colab-df-convert:hover {\n",
              "      background-color: #434B5C;\n",
              "      box-shadow: 0px 1px 3px 1px rgba(0, 0, 0, 0.15);\n",
              "      filter: drop-shadow(0px 1px 2px rgba(0, 0, 0, 0.3));\n",
              "      fill: #FFFFFF;\n",
              "    }\n",
              "  </style>\n",
              "\n",
              "      <script>\n",
              "        const buttonEl =\n",
              "          document.querySelector('#df-daf963a6-e433-488c-900f-251c7ba16eff button.colab-df-convert');\n",
              "        buttonEl.style.display =\n",
              "          google.colab.kernel.accessAllowed ? 'block' : 'none';\n",
              "\n",
              "        async function convertToInteractive(key) {\n",
              "          const element = document.querySelector('#df-daf963a6-e433-488c-900f-251c7ba16eff');\n",
              "          const dataTable =\n",
              "            await google.colab.kernel.invokeFunction('convertToInteractive',\n",
              "                                                     [key], {});\n",
              "          if (!dataTable) return;\n",
              "\n",
              "          const docLinkHtml = 'Like what you see? Visit the ' +\n",
              "            '<a target=\"_blank\" href=https://colab.research.google.com/notebooks/data_table.ipynb>data table notebook</a>'\n",
              "            + ' to learn more about interactive tables.';\n",
              "          element.innerHTML = '';\n",
              "          dataTable['output_type'] = 'display_data';\n",
              "          await google.colab.output.renderOutput(dataTable, element);\n",
              "          const docLink = document.createElement('div');\n",
              "          docLink.innerHTML = docLinkHtml;\n",
              "          element.appendChild(docLink);\n",
              "        }\n",
              "      </script>\n",
              "    </div>\n",
              "  </div>\n",
              "  "
            ]
          },
          "metadata": {},
          "execution_count": 63
        }
      ]
    },
    {
      "cell_type": "markdown",
      "source": [
        "Se quitan los gastos administrativos y de impuestos para analizar los GASTOS extremos"
      ],
      "metadata": {
        "id": "kXgINUXzvUuT"
      },
      "id": "kXgINUXzvUuT"
    },
    {
      "cell_type": "code",
      "source": [
        "FILTRO=datos1[\"GASTOS\"]>gg[\"GASTOS\"][6]+(gg[\"GASTOS\"][6]-gg[\"GASTOS\"][4])*1.5\n",
        "#datos[FILTRO][[\"CONCEPTO\",\"CANTIDAD\",\"OBSERVACIÓN\"]]\n",
        "filt2=np.array(list(map(lambda x:any( xx in x.lower() for xx in [\"admin\",\"impu\",\"soat\",\"tecnomec\",\"dalmaru\"]),datos1[FILTRO][\"CONCEPTO\"])))==False\n",
        "\n",
        "plt.figure()\n",
        "nuevo=copy.deepcopy(datos1[FILTRO][filt2]).sort_values(by=\"FECHA\")\n",
        "plt.scatter(nuevo[\"FECHA\"],nuevo[\"GASTOS\"])\n",
        "\n",
        "plt.show()"
      ],
      "metadata": {
        "id": "LHNf_DdkiQer",
        "colab": {
          "base_uri": "https://localhost:8080/",
          "height": 0
        },
        "outputId": "f71b4256-4a51-48f7-87fe-2934f8ed1136"
      },
      "id": "LHNf_DdkiQer",
      "execution_count": 64,
      "outputs": [
        {
          "output_type": "display_data",
          "data": {
            "text/plain": [
              "<Figure size 432x288 with 1 Axes>"
            ],
            "image/png": "[encoded data removed]"
          },
          "metadata": {
            "needs_background": "light"
          }
        }
      ]
    },
    {
      "cell_type": "markdown",
      "source": [
        "Se agrupan los gastos por bloques de 3 gastos (no siempre 3 días) para analizar la frecuencia con la que se vienen haciendo gastos fuertes. Luego se presentan estos datos en tabla"
      ],
      "metadata": {
        "id": "fkpULW7mvmvP"
      },
      "id": "fkpULW7mvmvP"
    },
    {
      "cell_type": "code",
      "source": [
        "%matplotlib ipympl\n",
        "i = iter(list(np.linspace(1,500,500)//3))\n",
        "#i=iter(list(map(lambda x: str(int(x)),np.linspace(1,500,500)//3)))\n",
        "nuevo['temporal'] = nuevo.index.map(dict(zip(nuevo.index, cycle(i))))\n",
        "\n",
        "plt.figure()\n",
        "\n",
        "plt.bar(nuevo.groupby(\"temporal\").agg({\"GASTOS\":sum,\"FECHA\":max})[\"FECHA\"],nuevo.groupby(\"temporal\").agg({\"GASTOS\":sum,\"FECHA\":max})[\"GASTOS\"] ,width=10 )\n",
        "\n",
        "plt.show()"
      ],
      "metadata": {
        "id": "FOIcxNz4DWpX",
        "colab": {
          "base_uri": "https://localhost:8080/",
          "height": 0,
          "referenced_widgets": [
            "58ee150af0ab45349d06c6b2acb6734d",
            "8f9c34e1b28b4e569cfa759759a6c70d",
            "99f3d843fa274075abb1140afc2c1825",
            "f536f4792a8243bcb1c5e475a7e85abb"
          ]
        },
        "outputId": "37f09319-00ee-410d-a9fb-bb575d690516"
      },
      "id": "FOIcxNz4DWpX",
      "execution_count": 65,
      "outputs": [
        {
          "output_type": "display_data",
          "data": {
            "text/plain": [
              "Canvas(toolbar=Toolbar(toolitems=[('Home', 'Reset original view', 'home', 'home'), ('Back', 'Back to previous …"
            ],
            "image/png": "[encoded data removed]",
            "text/html": [
              "\n",
              "            <div style=\"display: inline-block;\">\n",
              "                <div class=\"jupyter-widgets widget-label\" style=\"text-align: center;\">\n",
              "                    Figure\n",
              "                </div>\n",
              "                <img src='data:image/png;base64,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' width=432.0/>\n",
              "            </div>\n",
              "        "
            ],
            "application/vnd.jupyter.widget-view+json": {
              "version_major": 2,
              "version_minor": 0,
              "model_id": "58ee150af0ab45349d06c6b2acb6734d"
            }
          },
          "metadata": {
            "application/vnd.jupyter.widget-view+json": {
              "colab": {
                "custom_widget_manager": {
                  "url": "https://ssl.gstatic.com/colaboratory-static/widgets/colab-cdn-widget-manager/d2e234f7cc04bf79/manager.min.js"
                }
              }
            }
          }
        }
      ]
    },
    {
      "cell_type": "markdown",
      "source": [
        "Datos anteriores en Tabla: "
      ],
      "metadata": {
        "id": "KsIxF80Av3Gw"
      },
      "id": "KsIxF80Av3Gw"
    },
    {
      "cell_type": "code",
      "source": [
        "tp=nuevo[[\"CONCEPTO\"]]+\" \"\n",
        "nuevo[\"CONCEPTO\"]=nuevo[\"CONCEPTO\"]+\"--\"\n",
        "nuevo.groupby(\"temporal\").agg({\"GASTOS\":sum,\"FECHA\":(min,max),\"CONCEPTO\":sum})"
      ],
      "metadata": {
        "id": "AuLv7e27v14d",
        "colab": {
          "base_uri": "https://localhost:8080/",
          "height": 0
        },
        "outputId": "bf8d4550-6bb0-443f-e5bc-47c5f888b1b7"
      },
      "id": "AuLv7e27v14d",
      "execution_count": 66,
      "outputs": [
        {
          "output_type": "execute_result",
          "data": {
            "text/plain": [
              "            GASTOS      FECHA             \\\n",
              "               sum        min        max   \n",
              "temporal                                   \n",
              "0.0        15320.0 2020-12-01 2020-12-31   \n",
              "1.0       584478.0 2021-01-31 2021-07-17   \n",
              "2.0       296063.0 2021-07-17 2021-09-28   \n",
              "3.0       420555.0 2021-11-16 2021-12-23   \n",
              "4.0       282062.0 2021-12-30 2022-01-20   \n",
              "5.0       157567.0 2022-02-09 2022-03-15   \n",
              "6.0       130272.0 2022-03-17 2022-03-23   \n",
              "7.0       141233.0 2022-03-26 2022-04-02   \n",
              "8.0        92289.0 2022-04-14 2022-04-28   \n",
              "9.0       116883.0 2022-05-11 2022-05-24   \n",
              "10.0      519997.0 2022-05-31 2022-06-03   \n",
              "11.0      258682.0 2022-06-18 2022-06-21   \n",
              "12.0      202997.0 2022-06-21 2022-06-21   \n",
              "13.0      621573.0 2022-06-28 2022-07-12   \n",
              "14.0      111683.0 2022-07-18 2022-07-22   \n",
              "15.0      114997.0 2022-08-05 2022-08-07   \n",
              "16.0       83997.0 2022-08-12 2022-08-16   \n",
              "17.0      404306.0 2022-08-19 2022-09-08   \n",
              "18.0       43484.0 2022-09-08 2022-09-13   \n",
              "19.0      104046.0 2022-09-13 2022-09-15   \n",
              "20.0       79995.0 2022-09-15 2022-09-16   \n",
              "21.0      106994.0 2022-09-16 2022-09-16   \n",
              "22.0      239481.0 2022-09-26 2022-09-28   \n",
              "23.0      354641.0 2022-09-30 2022-10-26   \n",
              "24.0      171455.0 2022-10-26 2022-10-29   \n",
              "\n",
              "                                                   CONCEPTO  \n",
              "                                                        sum  \n",
              "temporal                                                     \n",
              "0.0                            Batería--Tarjeta Operación--  \n",
              "1.0       Traspaso--Seguridad Social Conductor--Kit Embr...  \n",
              "2.0       Cremallera--Guardapolvo Botella Dirección--Kit...  \n",
              "3.0       Buje Barra Estabilizadora--Tarjeta Operación--...  \n",
              "4.0       Seguridad Social Conductor--Kit Embrague--Segu...  \n",
              "5.0       Computadora--COMPRA DE LLANTAS--Amortiguador T...  \n",
              "6.0       Seguridad Social Conductor--Cambio Aceite Moto...  \n",
              "7.0           Brazos Axiales--Fuelle--Abrazadera Plástica--  \n",
              "8.0       Cambio Aceite Motor, Filtro Aceite y Filtro--S...  \n",
              "9.0       Seguridad Social Conductor--Cambio Aceite Moto...  \n",
              "10.0      Bobina Ignición--COMPRA DE LLANTAS--Bobina Ign...  \n",
              "11.0      Seguridad Social Conductor--Aceite Caja--COMPR...  \n",
              "12.0      Tijera--Cambio Aceite Motor, Filtro Aceite y F...  \n",
              "13.0       Batería--Filtro De Gasolina--COMPRA DE LLANTAS--  \n",
              "14.0      Seguridad Social Conductor--Líquido Frenos--Ca...  \n",
              "15.0            Tijera--Bombillo Halógeno--Líquido Frenos--  \n",
              "16.0         Pastillas--Bombillo Halógeno--fusible 30 amp--  \n",
              "17.0      Brazo Tensor--Seguridad Social Conductor--Bomb...  \n",
              "18.0      Conector--Certificados--Desvinculación Coopera...  \n",
              "19.0      Tarjeta Operación--Vinculación Cooperativa--Bo...  \n",
              "20.0      bombillo lagrima--Manilla Externa Puerta Delan...  \n",
              "21.0           Tijera--Abrazadera Plástica--Balinera 6203--  \n",
              "22.0      Seguridad Social Conductor--Pito--Terminal Dir...  \n",
              "23.0      Cambio Aceite Motor, Filtro Aceite y Filtro--C...  \n",
              "24.0                        Varilla--Automático--Gasolina--  "
            ],
            "text/html": [
              "\n",
              "  <div id=\"df-158cc58a-3876-42ec-a47b-8534dd5c9e29\">\n",
              "    <div class=\"colab-df-container\">\n",
              "      <div>\n",
              "<style scoped>\n",
              "    .dataframe tbody tr th:only-of-type {\n",
              "        vertical-align: middle;\n",
              "    }\n",
              "\n",
              "    .dataframe tbody tr th {\n",
              "        vertical-align: top;\n",
              "    }\n",
              "\n",
              "    .dataframe thead tr th {\n",
              "        text-align: left;\n",
              "    }\n",
              "\n",
              "    .dataframe thead tr:last-of-type th {\n",
              "        text-align: right;\n",
              "    }\n",
              "</style>\n",
              "<table border=\"1\" class=\"dataframe\">\n",
              "  <thead>\n",
              "    <tr>\n",
              "      <th></th>\n",
              "      <th>GASTOS</th>\n",
              "      <th colspan=\"2\" halign=\"left\">FECHA</th>\n",
              "      <th>CONCEPTO</th>\n",
              "    </tr>\n",
              "    <tr>\n",
              "      <th></th>\n",
              "      <th>sum</th>\n",
              "      <th>min</th>\n",
              "      <th>max</th>\n",
              "      <th>sum</th>\n",
              "    </tr>\n",
              "    <tr>\n",
              "      <th>temporal</th>\n",
              "      <th></th>\n",
              "      <th></th>\n",
              "      <th></th>\n",
              "      <th></th>\n",
              "    </tr>\n",
              "  </thead>\n",
              "  <tbody>\n",
              "    <tr>\n",
              "      <th>0.0</th>\n",
              "      <td>15320.0</td>\n",
              "      <td>2020-12-01</td>\n",
              "      <td>2020-12-31</td>\n",
              "      <td>Batería--Tarjeta Operación--</td>\n",
              "    </tr>\n",
              "    <tr>\n",
              "      <th>1.0</th>\n",
              "      <td>584478.0</td>\n",
              "      <td>2021-01-31</td>\n",
              "      <td>2021-07-17</td>\n",
              "      <td>Traspaso--Seguridad Social Conductor--Kit Embr...</td>\n",
              "    </tr>\n",
              "    <tr>\n",
              "      <th>2.0</th>\n",
              "      <td>296063.0</td>\n",
              "      <td>2021-07-17</td>\n",
              "      <td>2021-09-28</td>\n",
              "      <td>Cremallera--Guardapolvo Botella Dirección--Kit...</td>\n",
              "    </tr>\n",
              "    <tr>\n",
              "      <th>3.0</th>\n",
              "      <td>420555.0</td>\n",
              "      <td>2021-11-16</td>\n",
              "      <td>2021-12-23</td>\n",
              "      <td>Buje Barra Estabilizadora--Tarjeta Operación--...</td>\n",
              "    </tr>\n",
              "    <tr>\n",
              "      <th>4.0</th>\n",
              "      <td>282062.0</td>\n",
              "      <td>2021-12-30</td>\n",
              "      <td>2022-01-20</td>\n",
              "      <td>Seguridad Social Conductor--Kit Embrague--Segu...</td>\n",
              "    </tr>\n",
              "    <tr>\n",
              "      <th>5.0</th>\n",
              "      <td>157567.0</td>\n",
              "      <td>2022-02-09</td>\n",
              "      <td>2022-03-15</td>\n",
              "      <td>Computadora--COMPRA DE LLANTAS--Amortiguador T...</td>\n",
              "    </tr>\n",
              "    <tr>\n",
              "      <th>6.0</th>\n",
              "      <td>130272.0</td>\n",
              "      <td>2022-03-17</td>\n",
              "      <td>2022-03-23</td>\n",
              "      <td>Seguridad Social Conductor--Cambio Aceite Moto...</td>\n",
              "    </tr>\n",
              "    <tr>\n",
              "      <th>7.0</th>\n",
              "      <td>141233.0</td>\n",
              "      <td>2022-03-26</td>\n",
              "      <td>2022-04-02</td>\n",
              "      <td>Brazos Axiales--Fuelle--Abrazadera Plástica--</td>\n",
              "    </tr>\n",
              "    <tr>\n",
              "      <th>8.0</th>\n",
              "      <td>92289.0</td>\n",
              "      <td>2022-04-14</td>\n",
              "      <td>2022-04-28</td>\n",
              "      <td>Cambio Aceite Motor, Filtro Aceite y Filtro--S...</td>\n",
              "    </tr>\n",
              "    <tr>\n",
              "      <th>9.0</th>\n",
              "      <td>116883.0</td>\n",
              "      <td>2022-05-11</td>\n",
              "      <td>2022-05-24</td>\n",
              "      <td>Seguridad Social Conductor--Cambio Aceite Moto...</td>\n",
              "    </tr>\n",
              "    <tr>\n",
              "      <th>10.0</th>\n",
              "      <td>519997.0</td>\n",
              "      <td>2022-05-31</td>\n",
              "      <td>2022-06-03</td>\n",
              "      <td>Bobina Ignición--COMPRA DE LLANTAS--Bobina Ign...</td>\n",
              "    </tr>\n",
              "    <tr>\n",
              "      <th>11.0</th>\n",
              "      <td>258682.0</td>\n",
              "      <td>2022-06-18</td>\n",
              "      <td>2022-06-21</td>\n",
              "      <td>Seguridad Social Conductor--Aceite Caja--COMPR...</td>\n",
              "    </tr>\n",
              "    <tr>\n",
              "      <th>12.0</th>\n",
              "      <td>202997.0</td>\n",
              "      <td>2022-06-21</td>\n",
              "      <td>2022-06-21</td>\n",
              "      <td>Tijera--Cambio Aceite Motor, Filtro Aceite y F...</td>\n",
              "    </tr>\n",
              "    <tr>\n",
              "      <th>13.0</th>\n",
              "      <td>621573.0</td>\n",
              "      <td>2022-06-28</td>\n",
              "      <td>2022-07-12</td>\n",
              "      <td>Batería--Filtro De Gasolina--COMPRA DE LLANTAS--</td>\n",
              "    </tr>\n",
              "    <tr>\n",
              "      <th>14.0</th>\n",
              "      <td>111683.0</td>\n",
              "      <td>2022-07-18</td>\n",
              "      <td>2022-07-22</td>\n",
              "      <td>Seguridad Social Conductor--Líquido Frenos--Ca...</td>\n",
              "    </tr>\n",
              "    <tr>\n",
              "      <th>15.0</th>\n",
              "      <td>114997.0</td>\n",
              "      <td>2022-08-05</td>\n",
              "      <td>2022-08-07</td>\n",
              "      <td>Tijera--Bombillo Halógeno--Líquido Frenos--</td>\n",
              "    </tr>\n",
              "    <tr>\n",
              "      <th>16.0</th>\n",
              "      <td>83997.0</td>\n",
              "      <td>2022-08-12</td>\n",
              "      <td>2022-08-16</td>\n",
              "      <td>Pastillas--Bombillo Halógeno--fusible 30 amp--</td>\n",
              "    </tr>\n",
              "    <tr>\n",
              "      <th>17.0</th>\n",
              "      <td>404306.0</td>\n",
              "      <td>2022-08-19</td>\n",
              "      <td>2022-09-08</td>\n",
              "      <td>Brazo Tensor--Seguridad Social Conductor--Bomb...</td>\n",
              "    </tr>\n",
              "    <tr>\n",
              "      <th>18.0</th>\n",
              "      <td>43484.0</td>\n",
              "      <td>2022-09-08</td>\n",
              "      <td>2022-09-13</td>\n",
              "      <td>Conector--Certificados--Desvinculación Coopera...</td>\n",
              "    </tr>\n",
              "    <tr>\n",
              "      <th>19.0</th>\n",
              "      <td>104046.0</td>\n",
              "      <td>2022-09-13</td>\n",
              "      <td>2022-09-15</td>\n",
              "      <td>Tarjeta Operación--Vinculación Cooperativa--Bo...</td>\n",
              "    </tr>\n",
              "    <tr>\n",
              "      <th>20.0</th>\n",
              "      <td>79995.0</td>\n",
              "      <td>2022-09-15</td>\n",
              "      <td>2022-09-16</td>\n",
              "      <td>bombillo lagrima--Manilla Externa Puerta Delan...</td>\n",
              "    </tr>\n",
              "    <tr>\n",
              "      <th>21.0</th>\n",
              "      <td>106994.0</td>\n",
              "      <td>2022-09-16</td>\n",
              "      <td>2022-09-16</td>\n",
              "      <td>Tijera--Abrazadera Plástica--Balinera 6203--</td>\n",
              "    </tr>\n",
              "    <tr>\n",
              "      <th>22.0</th>\n",
              "      <td>239481.0</td>\n",
              "      <td>2022-09-26</td>\n",
              "      <td>2022-09-28</td>\n",
              "      <td>Seguridad Social Conductor--Pito--Terminal Dir...</td>\n",
              "    </tr>\n",
              "    <tr>\n",
              "      <th>23.0</th>\n",
              "      <td>354641.0</td>\n",
              "      <td>2022-09-30</td>\n",
              "      <td>2022-10-26</td>\n",
              "      <td>Cambio Aceite Motor, Filtro Aceite y Filtro--C...</td>\n",
              "    </tr>\n",
              "    <tr>\n",
              "      <th>24.0</th>\n",
              "      <td>171455.0</td>\n",
              "      <td>2022-10-26</td>\n",
              "      <td>2022-10-29</td>\n",
              "      <td>Varilla--Automático--Gasolina--</td>\n",
              "    </tr>\n",
              "  </tbody>\n",
              "</table>\n",
              "</div>\n",
              "      <button class=\"colab-df-convert\" onclick=\"convertToInteractive('df-158cc58a-3876-42ec-a47b-8534dd5c9e29')\"\n",
              "              title=\"Convert this dataframe to an interactive table.\"\n",
              "              style=\"display:none;\">\n",
              "        \n",
              "  <svg xmlns=\"http://www.w3.org/2000/svg\" height=\"24px\"viewBox=\"0 0 24 24\"\n",
              "       width=\"24px\">\n",
              "    <path d=\"M0 0h24v24H0V0z\" fill=\"none\"/>\n",
              "    <path d=\"M18.56 5.44l.94 2.06.94-2.06 2.06-.94-2.06-.94-.94-2.06-.94 2.06-2.06.94zm-11 1L8.5 8.5l.94-2.06 2.06-.94-2.06-.94L8.5 2.5l-.94 2.06-2.06.94zm10 10l.94 2.06.94-2.06 2.06-.94-2.06-.94-.94-2.06-.94 2.06-2.06.94z\"/><path d=\"M17.41 7.96l-1.37-1.37c-.4-.4-.92-.59-1.43-.59-.52 0-1.04.2-1.43.59L10.3 9.45l-7.72 7.72c-.78.78-.78 2.05 0 2.83L4 21.41c.39.39.9.59 1.41.59.51 0 1.02-.2 1.41-.59l7.78-7.78 2.81-2.81c.8-.78.8-2.07 0-2.86zM5.41 20L4 18.59l7.72-7.72 1.47 1.35L5.41 20z\"/>\n",
              "  </svg>\n",
              "      </button>\n",
              "      \n",
              "  <style>\n",
              "    .colab-df-container {\n",
              "      display:flex;\n",
              "      flex-wrap:wrap;\n",
              "      gap: 12px;\n",
              "    }\n",
              "\n",
              "    .colab-df-convert {\n",
              "      background-color: #E8F0FE;\n",
              "      border: none;\n",
              "      border-radius: 50%;\n",
              "      cursor: pointer;\n",
              "      display: none;\n",
              "      fill: #1967D2;\n",
              "      height: 32px;\n",
              "      padding: 0 0 0 0;\n",
              "      width: 32px;\n",
              "    }\n",
              "\n",
              "    .colab-df-convert:hover {\n",
              "      background-color: #E2EBFA;\n",
              "      box-shadow: 0px 1px 2px rgba(60, 64, 67, 0.3), 0px 1px 3px 1px rgba(60, 64, 67, 0.15);\n",
              "      fill: #174EA6;\n",
              "    }\n",
              "\n",
              "    [theme=dark] .colab-df-convert {\n",
              "      background-color: #3B4455;\n",
              "      fill: #D2E3FC;\n",
              "    }\n",
              "\n",
              "    [theme=dark] .colab-df-convert:hover {\n",
              "      background-color: #434B5C;\n",
              "      box-shadow: 0px 1px 3px 1px rgba(0, 0, 0, 0.15);\n",
              "      filter: drop-shadow(0px 1px 2px rgba(0, 0, 0, 0.3));\n",
              "      fill: #FFFFFF;\n",
              "    }\n",
              "  </style>\n",
              "\n",
              "      <script>\n",
              "        const buttonEl =\n",
              "          document.querySelector('#df-158cc58a-3876-42ec-a47b-8534dd5c9e29 button.colab-df-convert');\n",
              "        buttonEl.style.display =\n",
              "          google.colab.kernel.accessAllowed ? 'block' : 'none';\n",
              "\n",
              "        async function convertToInteractive(key) {\n",
              "          const element = document.querySelector('#df-158cc58a-3876-42ec-a47b-8534dd5c9e29');\n",
              "          const dataTable =\n",
              "            await google.colab.kernel.invokeFunction('convertToInteractive',\n",
              "                                                     [key], {});\n",
              "          if (!dataTable) return;\n",
              "\n",
              "          const docLinkHtml = 'Like what you see? Visit the ' +\n",
              "            '<a target=\"_blank\" href=https://colab.research.google.com/notebooks/data_table.ipynb>data table notebook</a>'\n",
              "            + ' to learn more about interactive tables.';\n",
              "          element.innerHTML = '';\n",
              "          dataTable['output_type'] = 'display_data';\n",
              "          await google.colab.output.renderOutput(dataTable, element);\n",
              "          const docLink = document.createElement('div');\n",
              "          docLink.innerHTML = docLinkHtml;\n",
              "          element.appendChild(docLink);\n",
              "        }\n",
              "      </script>\n",
              "    </div>\n",
              "  </div>\n",
              "  "
            ]
          },
          "metadata": {},
          "execution_count": 66
        }
      ]
    },
    {
      "cell_type": "code",
      "source": [
        "print(\"\\n DETALLE DE LOS GASTOS ANTERIORES: \\n\")\n",
        "print(*list(nuevo.groupby(\"temporal\").agg({\"GASTOS\":sum,\"FECHA\":(min,max),\"CONCEPTO\":sum})[\"CONCEPTO\"][\"sum\"]), sep = \"\\n\")#[0]\n"
      ],
      "metadata": {
        "id": "oNjxviteE28X",
        "colab": {
          "base_uri": "https://localhost:8080/",
          "height": 0
        },
        "outputId": "291b4f04-bb13-4a34-876e-7fbcb27c5b5d"
      },
      "id": "oNjxviteE28X",
      "execution_count": 67,
      "outputs": [
        {
          "output_type": "stream",
          "name": "stdout",
          "text": [
            "\n",
            " DETALLE DE LOS GASTOS ANTERIORES: \n",
            "\n",
            "Batería--Tarjeta Operación--\n",
            "Traspaso--Seguridad Social Conductor--Kit Embrague--\n",
            "Cremallera--Guardapolvo Botella Dirección--Kit Embrague--\n",
            "Buje Barra Estabilizadora--Tarjeta Operación--Guaya Clutch--\n",
            "Seguridad Social Conductor--Kit Embrague--Seguridad Social Conductor--\n",
            "Computadora--COMPRA DE LLANTAS--Amortiguador Trasero--\n",
            "Seguridad Social Conductor--Cambio Aceite Motor, Filtro Aceite y Filtro--Tijera--\n",
            "Brazos Axiales--Fuelle--Abrazadera Plástica--\n",
            "Cambio Aceite Motor, Filtro Aceite y Filtro--Seguridad Social Conductor--Terminal Axial--\n",
            "Seguridad Social Conductor--Cambio Aceite Motor, Filtro Aceite y Filtro--Marquesina--\n",
            "Bobina Ignición--COMPRA DE LLANTAS--Bobina Ignición--\n",
            "Seguridad Social Conductor--Aceite Caja--COMPRA DE LLANTAS--\n",
            "Tijera--Cambio Aceite Motor, Filtro Aceite y Filtro--Filtro Aire--\n",
            "Batería--Filtro De Gasolina--COMPRA DE LLANTAS--\n",
            "Seguridad Social Conductor--Líquido Frenos--Cambio Aceite Motor, Filtro Aceite y Filtro--\n",
            "Tijera--Bombillo Halógeno--Líquido Frenos--\n",
            "Pastillas--Bombillo Halógeno--fusible 30 amp--\n",
            "Brazo Tensor--Seguridad Social Conductor--Bomba Gasolina--\n",
            "Conector--Certificados--Desvinculación Cooperativa--\n",
            "Tarjeta Operación--Vinculación Cooperativa--Bombillo--\n",
            "bombillo lagrima--Manilla Externa Puerta Delantera Derecha #48--Guardapolvo Botella Dirección--\n",
            "Tijera--Abrazadera Plástica--Balinera 6203--\n",
            "Seguridad Social Conductor--Pito--Terminal Direccion--\n",
            "Cambio Aceite Motor, Filtro Aceite y Filtro--Colector--Motor Arranque--\n",
            "Varilla--Automático--Gasolina--\n"
          ]
        }
      ]
    },
    {
      "cell_type": "markdown",
      "source": [
        "Con el trabajo a la anterior información es posible analizar la frecuencia con la que se aplican los diferentes gastos que son atípicamente altos. "
      ],
      "metadata": {
        "id": "NmYBJgm65i8A"
      },
      "id": "NmYBJgm65i8A"
    },
    {
      "cell_type": "code",
      "source": [
        "sali=tp[\"CONCEPTO\"].sum()"
      ],
      "metadata": {
        "id": "xWWecQNH9p2A"
      },
      "id": "xWWecQNH9p2A",
      "execution_count": 68,
      "outputs": []
    },
    {
      "cell_type": "code",
      "source": [
        "# Python code to find frequency of each word\n",
        "def freq(str):\n",
        " \n",
        "    # break the string into list of words\n",
        "    str = str.split()        \n",
        "    str2 = []\n",
        " \n",
        "    # loop till string values present in list str\n",
        "    for i in str:            \n",
        " \n",
        "        # checking for the duplicacy\n",
        "        if i not in str2:\n",
        " \n",
        "            # insert value in str2\n",
        "            str2.append(i)\n",
        "    temp=[]\n",
        "    tempstr=[]\n",
        "    for i in range(0, len(str2)):\n",
        "          if str2[i]!=\"de\" and str2[i]!=\"con\"and str2[i]!= \"a\" and str2[i]!=\"en\"and str2[i]!=\"por\"and str2[i]!=\"y\"and any(xx in str2[i] for xx in [\"kit\"])!=True:\n",
        "            # count the frequency of each word(present\n",
        "            # in str2) in str and print\n",
        "            #print('Frequency of', str2[i], 'is :', str.count(str2[i]))\n",
        "            temp.append(str.count(str2[i]))\n",
        "            tempstr.append(str2[i])\n",
        "    return (tempstr,temp)\n",
        " \n",
        "def main():\n",
        "    str =sali.lower()\n",
        "    (a,b)=freq(str)                   \n",
        "    return (a,b)\n",
        " \n",
        "if __name__==\"__main__\":\n",
        "    main()             # call main function"
      ],
      "metadata": {
        "id": "Clh7UQZCBPlJ"
      },
      "id": "Clh7UQZCBPlJ",
      "execution_count": 69,
      "outputs": []
    },
    {
      "cell_type": "code",
      "source": [
        "ffr=\"asdasdalkitmaru\"\n",
        "any(xx in ffr for xx in [\"kit\"])"
      ],
      "metadata": {
        "colab": {
          "base_uri": "https://localhost:8080/",
          "height": 0
        },
        "id": "JIcC7p6wuikL",
        "outputId": "6aa978b1-8297-45ff-cabb-2cadf1515b52"
      },
      "id": "JIcC7p6wuikL",
      "execution_count": 70,
      "outputs": [
        {
          "output_type": "execute_result",
          "data": {
            "text/plain": [
              "True"
            ]
          },
          "metadata": {},
          "execution_count": 70
        }
      ]
    },
    {
      "cell_type": "code",
      "source": [
        "#any( xx in x.lower() for xx in [\"admin\",\"impu\",\"soat\",\"tecnomec\"])\n",
        "palab,frc=main()\n",
        "palab,frc\n",
        "df = pd.DataFrame(list(zip(palab, frc)),\n",
        "               columns =['Palabras', 'Frecuencia'])\n",
        "df.sort_values(by=\"Frecuencia\",ascending=False).head(10)"
      ],
      "metadata": {
        "id": "cCSEGY5ZB9BY",
        "colab": {
          "base_uri": "https://localhost:8080/",
          "height": 0
        },
        "outputId": "8817d31f-bb8d-46c1-e2a4-0a89c04367bd"
      },
      "id": "cCSEGY5ZB9BY",
      "execution_count": 71,
      "outputs": [
        {
          "output_type": "execute_result",
          "data": {
            "text/plain": [
              "     Palabras  Frecuencia\n",
              "25     filtro          14\n",
              "23     aceite          13\n",
              "4   seguridad          10\n",
              "5      social          10\n",
              "6   conductor          10\n",
              "24     motor,           6\n",
              "22     cambio           6\n",
              "26     tijera           4\n",
              "19    llantas           4\n",
              "42   bombillo           4"
            ],
            "text/html": [
              "\n",
              "  <div id=\"df-ab4a1514-e46e-4ca7-aad9-3a314a1b5476\">\n",
              "    <div class=\"colab-df-container\">\n",
              "      <div>\n",
              "<style scoped>\n",
              "    .dataframe tbody tr th:only-of-type {\n",
              "        vertical-align: middle;\n",
              "    }\n",
              "\n",
              "    .dataframe tbody tr th {\n",
              "        vertical-align: top;\n",
              "    }\n",
              "\n",
              "    .dataframe thead th {\n",
              "        text-align: right;\n",
              "    }\n",
              "</style>\n",
              "<table border=\"1\" class=\"dataframe\">\n",
              "  <thead>\n",
              "    <tr style=\"text-align: right;\">\n",
              "      <th></th>\n",
              "      <th>Palabras</th>\n",
              "      <th>Frecuencia</th>\n",
              "    </tr>\n",
              "  </thead>\n",
              "  <tbody>\n",
              "    <tr>\n",
              "      <th>25</th>\n",
              "      <td>filtro</td>\n",
              "      <td>14</td>\n",
              "    </tr>\n",
              "    <tr>\n",
              "      <th>23</th>\n",
              "      <td>aceite</td>\n",
              "      <td>13</td>\n",
              "    </tr>\n",
              "    <tr>\n",
              "      <th>4</th>\n",
              "      <td>seguridad</td>\n",
              "      <td>10</td>\n",
              "    </tr>\n",
              "    <tr>\n",
              "      <th>5</th>\n",
              "      <td>social</td>\n",
              "      <td>10</td>\n",
              "    </tr>\n",
              "    <tr>\n",
              "      <th>6</th>\n",
              "      <td>conductor</td>\n",
              "      <td>10</td>\n",
              "    </tr>\n",
              "    <tr>\n",
              "      <th>24</th>\n",
              "      <td>motor,</td>\n",
              "      <td>6</td>\n",
              "    </tr>\n",
              "    <tr>\n",
              "      <th>22</th>\n",
              "      <td>cambio</td>\n",
              "      <td>6</td>\n",
              "    </tr>\n",
              "    <tr>\n",
              "      <th>26</th>\n",
              "      <td>tijera</td>\n",
              "      <td>4</td>\n",
              "    </tr>\n",
              "    <tr>\n",
              "      <th>19</th>\n",
              "      <td>llantas</td>\n",
              "      <td>4</td>\n",
              "    </tr>\n",
              "    <tr>\n",
              "      <th>42</th>\n",
              "      <td>bombillo</td>\n",
              "      <td>4</td>\n",
              "    </tr>\n",
              "  </tbody>\n",
              "</table>\n",
              "</div>\n",
              "      <button class=\"colab-df-convert\" onclick=\"convertToInteractive('df-ab4a1514-e46e-4ca7-aad9-3a314a1b5476')\"\n",
              "              title=\"Convert this dataframe to an interactive table.\"\n",
              "              style=\"display:none;\">\n",
              "        \n",
              "  <svg xmlns=\"http://www.w3.org/2000/svg\" height=\"24px\"viewBox=\"0 0 24 24\"\n",
              "       width=\"24px\">\n",
              "    <path d=\"M0 0h24v24H0V0z\" fill=\"none\"/>\n",
              "    <path d=\"M18.56 5.44l.94 2.06.94-2.06 2.06-.94-2.06-.94-.94-2.06-.94 2.06-2.06.94zm-11 1L8.5 8.5l.94-2.06 2.06-.94-2.06-.94L8.5 2.5l-.94 2.06-2.06.94zm10 10l.94 2.06.94-2.06 2.06-.94-2.06-.94-.94-2.06-.94 2.06-2.06.94z\"/><path d=\"M17.41 7.96l-1.37-1.37c-.4-.4-.92-.59-1.43-.59-.52 0-1.04.2-1.43.59L10.3 9.45l-7.72 7.72c-.78.78-.78 2.05 0 2.83L4 21.41c.39.39.9.59 1.41.59.51 0 1.02-.2 1.41-.59l7.78-7.78 2.81-2.81c.8-.78.8-2.07 0-2.86zM5.41 20L4 18.59l7.72-7.72 1.47 1.35L5.41 20z\"/>\n",
              "  </svg>\n",
              "      </button>\n",
              "      \n",
              "  <style>\n",
              "    .colab-df-container {\n",
              "      display:flex;\n",
              "      flex-wrap:wrap;\n",
              "      gap: 12px;\n",
              "    }\n",
              "\n",
              "    .colab-df-convert {\n",
              "      background-color: #E8F0FE;\n",
              "      border: none;\n",
              "      border-radius: 50%;\n",
              "      cursor: pointer;\n",
              "      display: none;\n",
              "      fill: #1967D2;\n",
              "      height: 32px;\n",
              "      padding: 0 0 0 0;\n",
              "      width: 32px;\n",
              "    }\n",
              "\n",
              "    .colab-df-convert:hover {\n",
              "      background-color: #E2EBFA;\n",
              "      box-shadow: 0px 1px 2px rgba(60, 64, 67, 0.3), 0px 1px 3px 1px rgba(60, 64, 67, 0.15);\n",
              "      fill: #174EA6;\n",
              "    }\n",
              "\n",
              "    [theme=dark] .colab-df-convert {\n",
              "      background-color: #3B4455;\n",
              "      fill: #D2E3FC;\n",
              "    }\n",
              "\n",
              "    [theme=dark] .colab-df-convert:hover {\n",
              "      background-color: #434B5C;\n",
              "      box-shadow: 0px 1px 3px 1px rgba(0, 0, 0, 0.15);\n",
              "      filter: drop-shadow(0px 1px 2px rgba(0, 0, 0, 0.3));\n",
              "      fill: #FFFFFF;\n",
              "    }\n",
              "  </style>\n",
              "\n",
              "      <script>\n",
              "        const buttonEl =\n",
              "          document.querySelector('#df-ab4a1514-e46e-4ca7-aad9-3a314a1b5476 button.colab-df-convert');\n",
              "        buttonEl.style.display =\n",
              "          google.colab.kernel.accessAllowed ? 'block' : 'none';\n",
              "\n",
              "        async function convertToInteractive(key) {\n",
              "          const element = document.querySelector('#df-ab4a1514-e46e-4ca7-aad9-3a314a1b5476');\n",
              "          const dataTable =\n",
              "            await google.colab.kernel.invokeFunction('convertToInteractive',\n",
              "                                                     [key], {});\n",
              "          if (!dataTable) return;\n",
              "\n",
              "          const docLinkHtml = 'Like what you see? Visit the ' +\n",
              "            '<a target=\"_blank\" href=https://colab.research.google.com/notebooks/data_table.ipynb>data table notebook</a>'\n",
              "            + ' to learn more about interactive tables.';\n",
              "          element.innerHTML = '';\n",
              "          dataTable['output_type'] = 'display_data';\n",
              "          await google.colab.output.renderOutput(dataTable, element);\n",
              "          const docLink = document.createElement('div');\n",
              "          docLink.innerHTML = docLinkHtml;\n",
              "          element.appendChild(docLink);\n",
              "        }\n",
              "      </script>\n",
              "    </div>\n",
              "  </div>\n",
              "  "
            ]
          },
          "metadata": {},
          "execution_count": 71
        }
      ]
    },
    {
      "cell_type": "code",
      "source": [],
      "metadata": {
        "id": "l8fVS8urD_oe"
      },
      "id": "l8fVS8urD_oe",
      "execution_count": 71,
      "outputs": []
    },
    {
      "cell_type": "markdown",
      "source": [
        "#Herramienta para calcular la rentabilidad de un nuevo vehículo"
      ],
      "metadata": {
        "id": "9OSaNrpZNxd-"
      },
      "id": "9OSaNrpZNxd-"
    },
    {
      "cell_type": "markdown",
      "source": [
        "__________________________________________________________\n",
        "El presente aplicativo en una proyección financiera con base en los parámetros calculados y encontrados para los vehículos tipo Taxi analizados. Se trata de una herramienta de pronóstico a priori qu usa parámetros conservadores, evitando así optimismo infundado. \n",
        "_________________________________________________________"
      ],
      "metadata": {
        "id": "UFzVrcrOruMS"
      },
      "id": "UFzVrcrOruMS"
    },
    {
      "cell_type": "code",
      "source": [
        "inversion_ini=60000\n",
        "costo_cancel_chatarr=1500"
      ],
      "metadata": {
        "id": "MqJu3FSAN9_y"
      },
      "id": "MqJu3FSAN9_y",
      "execution_count": 72,
      "outputs": []
    },
    {
      "cell_type": "code",
      "source": [
        "def ganancia(anios_proyec=7,inversion_ini=60000,costo_cancel_chatarr=1500):\n",
        "  anio=np.linspace(0,anios_proyec,365*anios_proyec-1)\n",
        "  noise = np.random.normal(0,1,365*anios_proyec-1)\n",
        "  dias_a=anio*365\n",
        "  km_a=161*dias_a#+noise*3000\n",
        "  vpn=0.160*km_a#-inversion_ini\n",
        "  ceri=np.zeros(int(np.ceil((365*anios_proyec-1)/2)))\n",
        "  ceriT=np.zeros(int(np.floor((365*anios_proyec-1)/2)))\n",
        "  vpn[int(len(ceriT)):365*anios_proyec ]   =vpn[int(len(ceriT)):365*anios_proyec ]/(1+np.exp(ceri))+vpn[int(len(ceriT))]*0.5\n",
        "  vpn[-1]=vpn[-1]-costo_cancel_chatarr*1.05**anios_proyec\n",
        "  vpn=vpn+200*noise\n",
        "  deprec=-inversion_ini*0.1+np.linspace(start=inversion_ini,stop=0.45*inversion_ini,num=365*anios_proyec-1)\n",
        "  return deprec,vpn,anio\n",
        "deprec,vpn,anio=ganancia(inversion_ini=inversion_ini,costo_cancel_chatarr=costo_cancel_chatarr)"
      ],
      "metadata": {
        "id": "Ibf1MHZC_wvI"
      },
      "id": "Ibf1MHZC_wvI",
      "execution_count": 76,
      "outputs": []
    },
    {
      "cell_type": "code",
      "source": [
        "#%matplotlib inline\n",
        "#output.disable_custom_widget_manager()\n",
        "plt.figure()\n",
        "\n",
        "plt.plot(anio,vpn,label=\"VPN proyectado\")\n",
        "plt.plot(anio,vpn+deprec,label=\"Ahorro=Ganan net+vehíc depreciado\")\n",
        "plt.plot(anio,np.array(vpn+deprec)*0+inversion_ini,label=\"Inversión a superar\")\n",
        "plt.legend(loc=\"best\")\n",
        "plt.show()"
      ],
      "metadata": {
        "colab": {
          "base_uri": "https://localhost:8080/",
          "height": 377,
          "referenced_widgets": [
            "482e201188104e00a2004bba2d9e3c6c",
            "878b243c44584e8a9c86161d85aa5939",
            "ff6ad35cd9314109a0f703ad72ea05b5",
            "d913c064af7540f598e44746aaaf8d6a"
          ]
        },
        "id": "NkMpq7nvBbAZ",
        "outputId": "b67ecbf9-afc1-4729-fee5-bfe612bef0f4"
      },
      "id": "NkMpq7nvBbAZ",
      "execution_count": 77,
      "outputs": [
        {
          "output_type": "display_data",
          "data": {
            "text/plain": [
              "Canvas(toolbar=Toolbar(toolitems=[('Home', 'Reset original view', 'home', 'home'), ('Back', 'Back to previous …"
            ],
            "image/png": "[encoded data removed]",
            "text/html": [
              "\n",
              "            <div style=\"display: inline-block;\">\n",
              "                <div class=\"jupyter-widgets widget-label\" style=\"text-align: center;\">\n",
              "                    Figure\n",
              "                </div>\n",
              "                <img src='data:image/png;base64,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' width=432.0/>\n",
              "            </div>\n",
              "        "
            ],
            "application/vnd.jupyter.widget-view+json": {
              "version_major": 2,
              "version_minor": 0,
              "model_id": "482e201188104e00a2004bba2d9e3c6c"
            }
          },
          "metadata": {
            "application/vnd.jupyter.widget-view+json": {
              "colab": {
                "custom_widget_manager": {
                  "url": "https://ssl.gstatic.com/colaboratory-static/widgets/colab-cdn-widget-manager/d2e234f7cc04bf79/manager.min.js"
                }
              }
            }
          }
        }
      ]
    },
    {
      "cell_type": "code",
      "source": [
        "tiempo_a_liquidar= 5   #-----AÑOS---\n",
        "deprec,vpn,anio=ganancia(inversion_ini=inversion_ini,costo_cancel_chatarr=costo_cancel_chatarr)\n",
        "GANANCIA_NETA_TOTAL=vpn[-1]+deprec[-1]-inversion_ini-costo_cancel_chatarr\n",
        "monedaF=\"{:,}\".format(np.round(GANANCIA_NETA_TOTAL*1000,2))\n",
        "print(f\"La GANANCIA_NETA_TOTAL es de ${monedaF}, si vende a los {tiempo_a_liquidar} años\")"
      ],
      "metadata": {
        "colab": {
          "base_uri": "https://localhost:8080/",
          "height": 34
        },
        "id": "rPTCTJ7amHAf",
        "outputId": "af62dd54-83e7-4852-9dc0-6cbfd7e3d3bb"
      },
      "id": "rPTCTJ7amHAf",
      "execution_count": 75,
      "outputs": [
        {
          "output_type": "stream",
          "name": "stdout",
          "text": [
            "La GANANCIA_NETA_TOTAL es de $1,095,234.6, si vende a los 5 años\n"
          ]
        }
      ]
    },
    {
      "cell_type": "code",
      "source": [],
      "metadata": {
        "id": "8flDk6HayKHq"
      },
      "id": "8flDk6HayKHq",
      "execution_count": 75,
      "outputs": []
    }
  ],
  "metadata": {
    "kernelspec": {
      "display_name": "Python 3",
      "language": "python",
      "name": "python3"
    },
    "language_info": {
      "codemirror_mode": {
        "name": "ipython",
        "version": 3
      },
      "file_extension": ".py",
      "mimetype": "text/x-python",
      "name": "python",
      "nbconvert_exporter": "python",
      "pygments_lexer": "ipython3",
      "version": "3.8.6"
    },
    "colab": {
      "provenance": [],
      "collapsed_sections": [
        "dlS36TaJx_tA",
        "x_WcqpG4euOB",
        "tF_Rgn-Kx3sg",
        "mU8A6NA6yqpg",
        "u5ATO9spzJPV",
        "zfJb9-NPY_9x",
        "IT_5Myi37eWu"
      ],
      "include_colab_link": true
    },
    "accelerator": "GPU",
    "gpuClass": "standard",
    "widgets": {
      "application/vnd.jupyter.widget-state+json": {
        "d2d403d87faa401bb15eea79418d478e": {
          "model_module": "jupyter-matplotlib",
          "model_name": "MPLCanvasModel",
          "model_module_version": "^0.11",
          "state": {
            "_cursor": "pointer",
            "_data_url": "data:image/png;base64,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",
            "_dom_classes": [],
            "_figure_label": "Figure",
            "_image_mode": "full",
            "_message": "",
            "_model_module": "jupyter-matplotlib",
            "_model_module_version": "^0.11",
            "_model_name": "MPLCanvasModel",
            "_rubberband_height": 0,
            "_rubberband_width": 0,
            "_rubberband_x": 0,
            "_rubberband_y": 0,
            "_size": [
              432,
              288
            ],
            "_view_count": null,
            "_view_module": "jupyter-matplotlib",
            "_view_module_version": "^0.11",
            "_view_name": "MPLCanvasView",
            "capture_scroll": false,
            "footer_visible": true,
            "header_visible": true,
            "layout": "IPY_MODEL_6a2e6f19a1694221b1c7efd8fa7fe6d2",
            "pan_zoom_throttle": 33,
            "resizable": true,
            "toolbar": "IPY_MODEL_cb25d82e0ffe4bd886238d39b091c3f2",
            "toolbar_position": "left",
            "toolbar_visible": "fade-in-fade-out"
          }
        },
        "e24d321994f94e488a4c2a59e8d82dcc": {
          "model_module": "jupyter-matplotlib",
          "model_name": "MPLCanvasModel",
          "model_module_version": "^0.11",
          "state": {
            "_cursor": "default",
            "_data_url": "data:image/png;base64,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",
            "_dom_classes": [],
            "_figure_label": "Figure 2",
            "_image_mode": "full",
            "_message": "",
            "_model_module": "jupyter-matplotlib",
            "_model_module_version": "^0.11",
            "_model_name": "MPLCanvasModel",
            "_rubberband_height": 0,
            "_rubberband_width": 0,
            "_rubberband_x": 0,
            "_rubberband_y": 0,
            "_size": [
              432,
              288
            ],
            "_view_count": null,
            "_view_module": "jupyter-matplotlib",
            "_view_module_version": "^0.11",
            "_view_name": "MPLCanvasView",
            "capture_scroll": false,
            "footer_visible": true,
            "header_visible": true,
            "layout": "IPY_MODEL_54631455d6d84314b4bc2974075ffb2a",
            "pan_zoom_throttle": 33,
            "resizable": true,
            "toolbar": "IPY_MODEL_649ec91d61fe45e7b1d9626a88bd976f",
            "toolbar_position": "left",
            "toolbar_visible": "fade-in-fade-out"
          }
        },
        "54631455d6d84314b4bc2974075ffb2a": {
          "model_module": "@jupyter-widgets/base",
          "model_name": "LayoutModel",
          "model_module_version": "1.2.0",
          "state": {
            "_model_module": "@jupyter-widgets/base",
            "_model_module_version": "1.2.0",
            "_model_name": "LayoutModel",
            "_view_count": null,
            "_view_module": "@jupyter-widgets/base",
            "_view_module_version": "1.2.0",
            "_view_name": "LayoutView",
            "align_content": null,
            "align_items": null,
            "align_self": null,
            "border": null,
            "bottom": null,
            "display": null,
            "flex": null,
            "flex_flow": null,
            "grid_area": null,
            "grid_auto_columns": null,
            "grid_auto_flow": null,
            "grid_auto_rows": null,
            "grid_column": null,
            "grid_gap": null,
            "grid_row": null,
            "grid_template_areas": null,
            "grid_template_columns": null,
            "grid_template_rows": null,
            "height": null,
            "justify_content": null,
            "justify_items": null,
            "left": null,
            "margin": null,
            "max_height": null,
            "max_width": null,
            "min_height": null,
            "min_width": null,
            "object_fit": null,
            "object_position": null,
            "order": null,
            "overflow": null,
            "overflow_x": null,
            "overflow_y": null,
            "padding": null,
            "right": null,
            "top": null,
            "visibility": null,
            "width": null
          }
        },
        "649ec91d61fe45e7b1d9626a88bd976f": {
          "model_module": "jupyter-matplotlib",
          "model_name": "ToolbarModel",
          "model_module_version": "^0.11",
          "state": {
            "_current_action": "",
            "_dom_classes": [],
            "_model_module": "jupyter-matplotlib",
            "_model_module_version": "^0.11",
            "_model_name": "ToolbarModel",
            "_view_count": null,
            "_view_module": "jupyter-matplotlib",
            "_view_module_version": "^0.11",
            "_view_name": "ToolbarView",
            "button_style": "",
            "collapsed": true,
            "layout": "IPY_MODEL_10c61966ac9e4b8594aed5ae407e8f9e",
            "orientation": "vertical",
            "toolitems": [
              [
                "Home",
                "Reset original view",
                "home",
                "home"
              ],
              [
                "Back",
                "Back to previous view",
                "arrow-left",
                "back"
              ],
              [
                "Forward",
                "Forward to next view",
                "arrow-right",
                "forward"
              ],
              [
                "Pan",
                "Left button pans, Right button zooms\nx/y fixes axis, CTRL fixes aspect",
                "arrows",
                "pan"
              ],
              [
                "Zoom",
                "Zoom to rectangle\nx/y fixes axis",
                "square-o",
                "zoom"
              ],
              [
                "Download",
                "Download plot",
                "floppy-o",
                "save_figure"
              ]
            ]
          }
        },
        "10c61966ac9e4b8594aed5ae407e8f9e": {
          "model_module": "@jupyter-widgets/base",
          "model_name": "LayoutModel",
          "model_module_version": "1.2.0",
          "state": {
            "_model_module": "@jupyter-widgets/base",
            "_model_module_version": "1.2.0",
            "_model_name": "LayoutModel",
            "_view_count": null,
            "_view_module": "@jupyter-widgets/base",
            "_view_module_version": "1.2.0",
            "_view_name": "LayoutView",
            "align_content": null,
            "align_items": null,
            "align_self": null,
            "border": null,
            "bottom": null,
            "display": null,
            "flex": null,
            "flex_flow": null,
            "grid_area": null,
            "grid_auto_columns": null,
            "grid_auto_flow": null,
            "grid_auto_rows": null,
            "grid_column": null,
            "grid_gap": null,
            "grid_row": null,
            "grid_template_areas": null,
            "grid_template_columns": null,
            "grid_template_rows": null,
            "height": null,
            "justify_content": null,
            "justify_items": null,
            "left": null,
            "margin": null,
            "max_height": null,
            "max_width": null,
            "min_height": null,
            "min_width": null,
            "object_fit": null,
            "object_position": null,
            "order": null,
            "overflow": null,
            "overflow_x": null,
            "overflow_y": null,
            "padding": null,
            "right": null,
            "top": null,
            "visibility": null,
            "width": null
          }
        },
        "e64a301a79f04d998d362e2c7c9ff2ea": {
          "model_module": "jupyter-matplotlib",
          "model_name": "MPLCanvasModel",
          "model_module_version": "^0.11",
          "state": {
            "_cursor": "pointer",
            "_data_url": "data:image/png;base64,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",
            "_dom_classes": [],
            "_figure_label": "Figure",
            "_image_mode": "full",
            "_message": "",
            "_model_module": "jupyter-matplotlib",
            "_model_module_version": "^0.11",
            "_model_name": "MPLCanvasModel",
            "_rubberband_height": 0,
            "_rubberband_width": 0,
            "_rubberband_x": 0,
            "_rubberband_y": 0,
            "_size": [
              432,
              288
            ],
            "_view_count": null,
            "_view_module": "jupyter-matplotlib",
            "_view_module_version": "^0.11",
            "_view_name": "MPLCanvasView",
            "capture_scroll": false,
            "footer_visible": true,
            "header_visible": true,
            "layout": "IPY_MODEL_f39ee49e90f046939e30b57b9df07806",
            "pan_zoom_throttle": 33,
            "resizable": true,
            "toolbar": "IPY_MODEL_44d894b6101645dd9c79565e05ea08d7",
            "toolbar_position": "left",
            "toolbar_visible": "fade-in-fade-out"
          }
        },
        "f39ee49e90f046939e30b57b9df07806": {
          "model_module": "@jupyter-widgets/base",
          "model_name": "LayoutModel",
          "model_module_version": "1.2.0",
          "state": {
            "_model_module": "@jupyter-widgets/base",
            "_model_module_version": "1.2.0",
            "_model_name": "LayoutModel",
            "_view_count": null,
            "_view_module": "@jupyter-widgets/base",
            "_view_module_version": "1.2.0",
            "_view_name": "LayoutView",
            "align_content": null,
            "align_items": null,
            "align_self": null,
            "border": null,
            "bottom": null,
            "display": null,
            "flex": null,
            "flex_flow": null,
            "grid_area": null,
            "grid_auto_columns": null,
            "grid_auto_flow": null,
            "grid_auto_rows": null,
            "grid_column": null,
            "grid_gap": null,
            "grid_row": null,
            "grid_template_areas": null,
            "grid_template_columns": null,
            "grid_template_rows": null,
            "height": null,
            "justify_content": null,
            "justify_items": null,
            "left": null,
            "margin": null,
            "max_height": null,
            "max_width": null,
            "min_height": null,
            "min_width": null,
            "object_fit": null,
            "object_position": null,
            "order": null,
            "overflow": null,
            "overflow_x": null,
            "overflow_y": null,
            "padding": null,
            "right": null,
            "top": null,
            "visibility": null,
            "width": null
          }
        },
        "44d894b6101645dd9c79565e05ea08d7": {
          "model_module": "jupyter-matplotlib",
          "model_name": "ToolbarModel",
          "model_module_version": "^0.11",
          "state": {
            "_current_action": "",
            "_dom_classes": [],
            "_model_module": "jupyter-matplotlib",
            "_model_module_version": "^0.11",
            "_model_name": "ToolbarModel",
            "_view_count": null,
            "_view_module": "jupyter-matplotlib",
            "_view_module_version": "^0.11",
            "_view_name": "ToolbarView",
            "button_style": "",
            "collapsed": true,
            "layout": "IPY_MODEL_61c1eb7237264b8abc3b2865d46525e5",
            "orientation": "vertical",
            "toolitems": [
              [
                "Home",
                "Reset original view",
                "home",
                "home"
              ],
              [
                "Back",
                "Back to previous view",
                "arrow-left",
                "back"
              ],
              [
                "Forward",
                "Forward to next view",
                "arrow-right",
                "forward"
              ],
              [
                "Pan",
                "Left button pans, Right button zooms\nx/y fixes axis, CTRL fixes aspect",
                "arrows",
                "pan"
              ],
              [
                "Zoom",
                "Zoom to rectangle\nx/y fixes axis",
                "square-o",
                "zoom"
              ],
              [
                "Download",
                "Download plot",
                "floppy-o",
                "save_figure"
              ]
            ]
          }
        },
        "61c1eb7237264b8abc3b2865d46525e5": {
          "model_module": "@jupyter-widgets/base",
          "model_name": "LayoutModel",
          "model_module_version": "1.2.0",
          "state": {
            "_model_module": "@jupyter-widgets/base",
            "_model_module_version": "1.2.0",
            "_model_name": "LayoutModel",
            "_view_count": null,
            "_view_module": "@jupyter-widgets/base",
            "_view_module_version": "1.2.0",
            "_view_name": "LayoutView",
            "align_content": null,
            "align_items": null,
            "align_self": null,
            "border": null,
            "bottom": null,
            "display": null,
            "flex": null,
            "flex_flow": null,
            "grid_area": null,
            "grid_auto_columns": null,
            "grid_auto_flow": null,
            "grid_auto_rows": null,
            "grid_column": null,
            "grid_gap": null,
            "grid_row": null,
            "grid_template_areas": null,
            "grid_template_columns": null,
            "grid_template_rows": null,
            "height": null,
            "justify_content": null,
            "justify_items": null,
            "left": null,
            "margin": null,
            "max_height": null,
            "max_width": null,
            "min_height": null,
            "min_width": null,
            "object_fit": null,
            "object_position": null,
            "order": null,
            "overflow": null,
            "overflow_x": null,
            "overflow_y": null,
            "padding": null,
            "right": null,
            "top": null,
            "visibility": null,
            "width": null
          }
        },
        "458286cc30774363888f7a6fec2e3a6c": {
          "model_module": "jupyter-matplotlib",
          "model_name": "MPLCanvasModel",
          "model_module_version": "^0.11",
          "state": {
            "_cursor": "default",
            "_data_url": "data:image/png;base64,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",
            "_dom_classes": [],
            "_figure_label": "Figure 4",
            "_image_mode": "full",
            "_message": "",
            "_model_module": "jupyter-matplotlib",
            "_model_module_version": "^0.11",
            "_model_name": "MPLCanvasModel",
            "_rubberband_height": 0,
            "_rubberband_width": 0,
            "_rubberband_x": 0,
            "_rubberband_y": 0,
            "_size": [
              432,
              288
            ],
            "_view_count": null,
            "_view_module": "jupyter-matplotlib",
            "_view_module_version": "^0.11",
            "_view_name": "MPLCanvasView",
            "capture_scroll": false,
            "footer_visible": true,
            "header_visible": true,
            "layout": "IPY_MODEL_22b1d944e917423a9d45ea1e5a8c72fb",
            "pan_zoom_throttle": 33,
            "resizable": true,
            "toolbar": "IPY_MODEL_199a6de1a5b74155bcdfb98b11d5fe24",
            "toolbar_position": "left",
            "toolbar_visible": "fade-in-fade-out"
          }
        },
        "22b1d944e917423a9d45ea1e5a8c72fb": {
          "model_module": "@jupyter-widgets/base",
          "model_name": "LayoutModel",
          "model_module_version": "1.2.0",
          "state": {
            "_model_module": "@jupyter-widgets/base",
            "_model_module_version": "1.2.0",
            "_model_name": "LayoutModel",
            "_view_count": null,
            "_view_module": "@jupyter-widgets/base",
            "_view_module_version": "1.2.0",
            "_view_name": "LayoutView",
            "align_content": null,
            "align_items": null,
            "align_self": null,
            "border": null,
            "bottom": null,
            "display": null,
            "flex": null,
            "flex_flow": null,
            "grid_area": null,
            "grid_auto_columns": null,
            "grid_auto_flow": null,
            "grid_auto_rows": null,
            "grid_column": null,
            "grid_gap": null,
            "grid_row": null,
            "grid_template_areas": null,
            "grid_template_columns": null,
            "grid_template_rows": null,
            "height": null,
            "justify_content": null,
            "justify_items": null,
            "left": null,
            "margin": null,
            "max_height": null,
            "max_width": null,
            "min_height": null,
            "min_width": null,
            "object_fit": null,
            "object_position": null,
            "order": null,
            "overflow": null,
            "overflow_x": null,
            "overflow_y": null,
            "padding": null,
            "right": null,
            "top": null,
            "visibility": null,
            "width": null
          }
        },
        "199a6de1a5b74155bcdfb98b11d5fe24": {
          "model_module": "jupyter-matplotlib",
          "model_name": "ToolbarModel",
          "model_module_version": "^0.11",
          "state": {
            "_current_action": "",
            "_dom_classes": [],
            "_model_module": "jupyter-matplotlib",
            "_model_module_version": "^0.11",
            "_model_name": "ToolbarModel",
            "_view_count": null,
            "_view_module": "jupyter-matplotlib",
            "_view_module_version": "^0.11",
            "_view_name": "ToolbarView",
            "button_style": "",
            "collapsed": true,
            "layout": "IPY_MODEL_865f73ea153e4a2e86f8401d01375a0d",
            "orientation": "vertical",
            "toolitems": [
              [
                "Home",
                "Reset original view",
                "home",
                "home"
              ],
              [
                "Back",
                "Back to previous view",
                "arrow-left",
                "back"
              ],
              [
                "Forward",
                "Forward to next view",
                "arrow-right",
                "forward"
              ],
              [
                "Pan",
                "Left button pans, Right button zooms\nx/y fixes axis, CTRL fixes aspect",
                "arrows",
                "pan"
              ],
              [
                "Zoom",
                "Zoom to rectangle\nx/y fixes axis",
                "square-o",
                "zoom"
              ],
              [
                "Download",
                "Download plot",
                "floppy-o",
                "save_figure"
              ]
            ]
          }
        },
        "865f73ea153e4a2e86f8401d01375a0d": {
          "model_module": "@jupyter-widgets/base",
          "model_name": "LayoutModel",
          "model_module_version": "1.2.0",
          "state": {
            "_model_module": "@jupyter-widgets/base",
            "_model_module_version": "1.2.0",
            "_model_name": "LayoutModel",
            "_view_count": null,
            "_view_module": "@jupyter-widgets/base",
            "_view_module_version": "1.2.0",
            "_view_name": "LayoutView",
            "align_content": null,
            "align_items": null,
            "align_self": null,
            "border": null,
            "bottom": null,
            "display": null,
            "flex": null,
            "flex_flow": null,
            "grid_area": null,
            "grid_auto_columns": null,
            "grid_auto_flow": null,
            "grid_auto_rows": null,
            "grid_column": null,
            "grid_gap": null,
            "grid_row": null,
            "grid_template_areas": null,
            "grid_template_columns": null,
            "grid_template_rows": null,
            "height": null,
            "justify_content": null,
            "justify_items": null,
            "left": null,
            "margin": null,
            "max_height": null,
            "max_width": null,
            "min_height": null,
            "min_width": null,
            "object_fit": null,
            "object_position": null,
            "order": null,
            "overflow": null,
            "overflow_x": null,
            "overflow_y": null,
            "padding": null,
            "right": null,
            "top": null,
            "visibility": null,
            "width": null
          }
        },
        "9fc541249a3140198a9ef0ad5b5d6e48": {
          "model_module": "jupyter-matplotlib",
          "model_name": "MPLCanvasModel",
          "model_module_version": "^0.11",
          "state": {
            "_cursor": "default",
            "_data_url": "data:image/png;base64,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",
            "_dom_classes": [],
            "_figure_label": "Figure 5",
            "_image_mode": "full",
            "_message": "",
            "_model_module": "jupyter-matplotlib",
            "_model_module_version": "^0.11",
            "_model_name": "MPLCanvasModel",
            "_rubberband_height": 0,
            "_rubberband_width": 0,
            "_rubberband_x": 0,
            "_rubberband_y": 0,
            "_size": [
              432,
              288
            ],
            "_view_count": null,
            "_view_module": "jupyter-matplotlib",
            "_view_module_version": "^0.11",
            "_view_name": "MPLCanvasView",
            "capture_scroll": false,
            "footer_visible": true,
            "header_visible": true,
            "layout": "IPY_MODEL_b1200c66a3c84bc19e78359402072d97",
            "pan_zoom_throttle": 33,
            "resizable": true,
            "toolbar": "IPY_MODEL_10da71a8edb94682aeb3b24e1220e606",
            "toolbar_position": "left",
            "toolbar_visible": "fade-in-fade-out"
          }
        },
        "b1200c66a3c84bc19e78359402072d97": {
          "model_module": "@jupyter-widgets/base",
          "model_name": "LayoutModel",
          "model_module_version": "1.2.0",
          "state": {
            "_model_module": "@jupyter-widgets/base",
            "_model_module_version": "1.2.0",
            "_model_name": "LayoutModel",
            "_view_count": null,
            "_view_module": "@jupyter-widgets/base",
            "_view_module_version": "1.2.0",
            "_view_name": "LayoutView",
            "align_content": null,
            "align_items": null,
            "align_self": null,
            "border": null,
            "bottom": null,
            "display": null,
            "flex": null,
            "flex_flow": null,
            "grid_area": null,
            "grid_auto_columns": null,
            "grid_auto_flow": null,
            "grid_auto_rows": null,
            "grid_column": null,
            "grid_gap": null,
            "grid_row": null,
            "grid_template_areas": null,
            "grid_template_columns": null,
            "grid_template_rows": null,
            "height": null,
            "justify_content": null,
            "justify_items": null,
            "left": null,
            "margin": null,
            "max_height": null,
            "max_width": null,
            "min_height": null,
            "min_width": null,
            "object_fit": null,
            "object_position": null,
            "order": null,
            "overflow": null,
            "overflow_x": null,
            "overflow_y": null,
            "padding": null,
            "right": null,
            "top": null,
            "visibility": null,
            "width": null
          }
        },
        "10da71a8edb94682aeb3b24e1220e606": {
          "model_module": "jupyter-matplotlib",
          "model_name": "ToolbarModel",
          "model_module_version": "^0.11",
          "state": {
            "_current_action": "",
            "_dom_classes": [],
            "_model_module": "jupyter-matplotlib",
            "_model_module_version": "^0.11",
            "_model_name": "ToolbarModel",
            "_view_count": null,
            "_view_module": "jupyter-matplotlib",
            "_view_module_version": "^0.11",
            "_view_name": "ToolbarView",
            "button_style": "",
            "collapsed": true,
            "layout": "IPY_MODEL_6564428211d642af8b0b1347069515e7",
            "orientation": "vertical",
            "toolitems": [
              [
                "Home",
                "Reset original view",
                "home",
                "home"
              ],
              [
                "Back",
                "Back to previous view",
                "arrow-left",
                "back"
              ],
              [
                "Forward",
                "Forward to next view",
                "arrow-right",
                "forward"
              ],
              [
                "Pan",
                "Left button pans, Right button zooms\nx/y fixes axis, CTRL fixes aspect",
                "arrows",
                "pan"
              ],
              [
                "Zoom",
                "Zoom to rectangle\nx/y fixes axis",
                "square-o",
                "zoom"
              ],
              [
                "Download",
                "Download plot",
                "floppy-o",
                "save_figure"
              ]
            ]
          }
        },
        "6564428211d642af8b0b1347069515e7": {
          "model_module": "@jupyter-widgets/base",
          "model_name": "LayoutModel",
          "model_module_version": "1.2.0",
          "state": {
            "_model_module": "@jupyter-widgets/base",
            "_model_module_version": "1.2.0",
            "_model_name": "LayoutModel",
            "_view_count": null,
            "_view_module": "@jupyter-widgets/base",
            "_view_module_version": "1.2.0",
            "_view_name": "LayoutView",
            "align_content": null,
            "align_items": null,
            "align_self": null,
            "border": null,
            "bottom": null,
            "display": null,
            "flex": null,
            "flex_flow": null,
            "grid_area": null,
            "grid_auto_columns": null,
            "grid_auto_flow": null,
            "grid_auto_rows": null,
            "grid_column": null,
            "grid_gap": null,
            "grid_row": null,
            "grid_template_areas": null,
            "grid_template_columns": null,
            "grid_template_rows": null,
            "height": null,
            "justify_content": null,
            "justify_items": null,
            "left": null,
            "margin": null,
            "max_height": null,
            "max_width": null,
            "min_height": null,
            "min_width": null,
            "object_fit": null,
            "object_position": null,
            "order": null,
            "overflow": null,
            "overflow_x": null,
            "overflow_y": null,
            "padding": null,
            "right": null,
            "top": null,
            "visibility": null,
            "width": null
          }
        },
        "58ee150af0ab45349d06c6b2acb6734d": {
          "model_module": "jupyter-matplotlib",
          "model_name": "MPLCanvasModel",
          "model_module_version": "^0.11",
          "state": {
            "_cursor": "default",
            "_data_url": "data:image/png;base64,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",
            "_dom_classes": [],
            "_figure_label": "Figure 1",
            "_image_mode": "full",
            "_message": "",
            "_model_module": "jupyter-matplotlib",
            "_model_module_version": "^0.11",
            "_model_name": "MPLCanvasModel",
            "_rubberband_height": 0,
            "_rubberband_width": 0,
            "_rubberband_x": 0,
            "_rubberband_y": 0,
            "_size": [
              432,
              288
            ],
            "_view_count": null,
            "_view_module": "jupyter-matplotlib",
            "_view_module_version": "^0.11",
            "_view_name": "MPLCanvasView",
            "capture_scroll": false,
            "footer_visible": true,
            "header_visible": true,
            "layout": "IPY_MODEL_8f9c34e1b28b4e569cfa759759a6c70d",
            "pan_zoom_throttle": 33,
            "resizable": true,
            "toolbar": "IPY_MODEL_99f3d843fa274075abb1140afc2c1825",
            "toolbar_position": "left",
            "toolbar_visible": "fade-in-fade-out"
          }
        },
        "8f9c34e1b28b4e569cfa759759a6c70d": {
          "model_module": "@jupyter-widgets/base",
          "model_name": "LayoutModel",
          "model_module_version": "1.2.0",
          "state": {
            "_model_module": "@jupyter-widgets/base",
            "_model_module_version": "1.2.0",
            "_model_name": "LayoutModel",
            "_view_count": null,
            "_view_module": "@jupyter-widgets/base",
            "_view_module_version": "1.2.0",
            "_view_name": "LayoutView",
            "align_content": null,
            "align_items": null,
            "align_self": null,
            "border": null,
            "bottom": null,
            "display": null,
            "flex": null,
            "flex_flow": null,
            "grid_area": null,
            "grid_auto_columns": null,
            "grid_auto_flow": null,
            "grid_auto_rows": null,
            "grid_column": null,
            "grid_gap": null,
            "grid_row": null,
            "grid_template_areas": null,
            "grid_template_columns": null,
            "grid_template_rows": null,
            "height": null,
            "justify_content": null,
            "justify_items": null,
            "left": null,
            "margin": null,
            "max_height": null,
            "max_width": null,
            "min_height": null,
            "min_width": null,
            "object_fit": null,
            "object_position": null,
            "order": null,
            "overflow": null,
            "overflow_x": null,
            "overflow_y": null,
            "padding": null,
            "right": null,
            "top": null,
            "visibility": null,
            "width": null
          }
        },
        "99f3d843fa274075abb1140afc2c1825": {
          "model_module": "jupyter-matplotlib",
          "model_name": "ToolbarModel",
          "model_module_version": "^0.11",
          "state": {
            "_current_action": "",
            "_dom_classes": [],
            "_model_module": "jupyter-matplotlib",
            "_model_module_version": "^0.11",
            "_model_name": "ToolbarModel",
            "_view_count": null,
            "_view_module": "jupyter-matplotlib",
            "_view_module_version": "^0.11",
            "_view_name": "ToolbarView",
            "button_style": "",
            "collapsed": true,
            "layout": "IPY_MODEL_f536f4792a8243bcb1c5e475a7e85abb",
            "orientation": "vertical",
            "toolitems": [
              [
                "Home",
                "Reset original view",
                "home",
                "home"
              ],
              [
                "Back",
                "Back to previous view",
                "arrow-left",
                "back"
              ],
              [
                "Forward",
                "Forward to next view",
                "arrow-right",
                "forward"
              ],
              [
                "Pan",
                "Left button pans, Right button zooms\nx/y fixes axis, CTRL fixes aspect",
                "arrows",
                "pan"
              ],
              [
                "Zoom",
                "Zoom to rectangle\nx/y fixes axis",
                "square-o",
                "zoom"
              ],
              [
                "Download",
                "Download plot",
                "floppy-o",
                "save_figure"
              ]
            ]
          }
        },
        "f536f4792a8243bcb1c5e475a7e85abb": {
          "model_module": "@jupyter-widgets/base",
          "model_name": "LayoutModel",
          "model_module_version": "1.2.0",
          "state": {
            "_model_module": "@jupyter-widgets/base",
            "_model_module_version": "1.2.0",
            "_model_name": "LayoutModel",
            "_view_count": null,
            "_view_module": "@jupyter-widgets/base",
            "_view_module_version": "1.2.0",
            "_view_name": "LayoutView",
            "align_content": null,
            "align_items": null,
            "align_self": null,
            "border": null,
            "bottom": null,
            "display": null,
            "flex": null,
            "flex_flow": null,
            "grid_area": null,
            "grid_auto_columns": null,
            "grid_auto_flow": null,
            "grid_auto_rows": null,
            "grid_column": null,
            "grid_gap": null,
            "grid_row": null,
            "grid_template_areas": null,
            "grid_template_columns": null,
            "grid_template_rows": null,
            "height": null,
            "justify_content": null,
            "justify_items": null,
            "left": null,
            "margin": null,
            "max_height": null,
            "max_width": null,
            "min_height": null,
            "min_width": null,
            "object_fit": null,
            "object_position": null,
            "order": null,
            "overflow": null,
            "overflow_x": null,
            "overflow_y": null,
            "padding": null,
            "right": null,
            "top": null,
            "visibility": null,
            "width": null
          }
        },
        "482e201188104e00a2004bba2d9e3c6c": {
          "model_module": "jupyter-matplotlib",
          "model_name": "MPLCanvasModel",
          "model_module_version": "^0.11",
          "state": {
            "_cursor": "pointer",
            "_data_url": "data:image/png;base64,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",
            "_dom_classes": [],
            "_figure_label": "Figure 3",
            "_image_mode": "full",
            "_message": "x=3.74 y=6.66e+04",
            "_model_module": "jupyter-matplotlib",
            "_model_module_version": "^0.11",
            "_model_name": "MPLCanvasModel",
            "_rubberband_height": 0,
            "_rubberband_width": 0,
            "_rubberband_x": 0,
            "_rubberband_y": 0,
            "_size": [
              432,
              288
            ],
            "_view_count": null,
            "_view_module": "jupyter-matplotlib",
            "_view_module_version": "^0.11",
            "_view_name": "MPLCanvasView",
            "capture_scroll": false,
            "footer_visible": true,
            "header_visible": true,
            "layout": "IPY_MODEL_878b243c44584e8a9c86161d85aa5939",
            "pan_zoom_throttle": 33,
            "resizable": true,
            "toolbar": "IPY_MODEL_ff6ad35cd9314109a0f703ad72ea05b5",
            "toolbar_position": "left",
            "toolbar_visible": "fade-in-fade-out"
          }
        },
        "878b243c44584e8a9c86161d85aa5939": {
          "model_module": "@jupyter-widgets/base",
          "model_name": "LayoutModel",
          "model_module_version": "1.2.0",
          "state": {
            "_model_module": "@jupyter-widgets/base",
            "_model_module_version": "1.2.0",
            "_model_name": "LayoutModel",
            "_view_count": null,
            "_view_module": "@jupyter-widgets/base",
            "_view_module_version": "1.2.0",
            "_view_name": "LayoutView",
            "align_content": null,
            "align_items": null,
            "align_self": null,
            "border": null,
            "bottom": null,
            "display": null,
            "flex": null,
            "flex_flow": null,
            "grid_area": null,
            "grid_auto_columns": null,
            "grid_auto_flow": null,
            "grid_auto_rows": null,
            "grid_column": null,
            "grid_gap": null,
            "grid_row": null,
            "grid_template_areas": null,
            "grid_template_columns": null,
            "grid_template_rows": null,
            "height": null,
            "justify_content": null,
            "justify_items": null,
            "left": null,
            "margin": null,
            "max_height": null,
            "max_width": null,
            "min_height": null,
            "min_width": null,
            "object_fit": null,
            "object_position": null,
            "order": null,
            "overflow": null,
            "overflow_x": null,
            "overflow_y": null,
            "padding": null,
            "right": null,
            "top": null,
            "visibility": null,
            "width": null
          }
        },
        "ff6ad35cd9314109a0f703ad72ea05b5": {
          "model_module": "jupyter-matplotlib",
          "model_name": "ToolbarModel",
          "model_module_version": "^0.11",
          "state": {
            "_current_action": "",
            "_dom_classes": [],
            "_model_module": "jupyter-matplotlib",
            "_model_module_version": "^0.11",
            "_model_name": "ToolbarModel",
            "_view_count": null,
            "_view_module": "jupyter-matplotlib",
            "_view_module_version": "^0.11",
            "_view_name": "ToolbarView",
            "button_style": "",
            "collapsed": true,
            "layout": "IPY_MODEL_d913c064af7540f598e44746aaaf8d6a",
            "orientation": "vertical",
            "toolitems": [
              [
                "Home",
                "Reset original view",
                "home",
                "home"
              ],
              [
                "Back",
                "Back to previous view",
                "arrow-left",
                "back"
              ],
              [
                "Forward",
                "Forward to next view",
                "arrow-right",
                "forward"
              ],
              [
                "Pan",
                "Left button pans, Right button zooms\nx/y fixes axis, CTRL fixes aspect",
                "arrows",
                "pan"
              ],
              [
                "Zoom",
                "Zoom to rectangle\nx/y fixes axis",
                "square-o",
                "zoom"
              ],
              [
                "Download",
                "Download plot",
                "floppy-o",
                "save_figure"
              ]
            ]
          }
        },
        "d913c064af7540f598e44746aaaf8d6a": {
          "model_module": "@jupyter-widgets/base",
          "model_name": "LayoutModel",
          "model_module_version": "1.2.0",
          "state": {
            "_model_module": "@jupyter-widgets/base",
            "_model_module_version": "1.2.0",
            "_model_name": "LayoutModel",
            "_view_count": null,
            "_view_module": "@jupyter-widgets/base",
            "_view_module_version": "1.2.0",
            "_view_name": "LayoutView",
            "align_content": null,
            "align_items": null,
            "align_self": null,
            "border": null,
            "bottom": null,
            "display": null,
            "flex": null,
            "flex_flow": null,
            "grid_area": null,
            "grid_auto_columns": null,
            "grid_auto_flow": null,
            "grid_auto_rows": null,
            "grid_column": null,
            "grid_gap": null,
            "grid_row": null,
            "grid_template_areas": null,
            "grid_template_columns": null,
            "grid_template_rows": null,
            "height": null,
            "justify_content": null,
            "justify_items": null,
            "left": null,
            "margin": null,
            "max_height": null,
            "max_width": null,
            "min_height": null,
            "min_width": null,
            "object_fit": null,
            "object_position": null,
            "order": null,
            "overflow": null,
            "overflow_x": null,
            "overflow_y": null,
            "padding": null,
            "right": null,
            "top": null,
            "visibility": null,
            "width": null
          }
        }
      }
    }
  },
  "nbformat": 4,
  "nbformat_minor": 5
}